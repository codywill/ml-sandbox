{
 "cells": [
  {
   "cell_type": "markdown",
   "metadata": {},
   "source": [
    "# Handwriting Classification\n",
    "This project explores classification learning using the MNIST dataset."
   ]
  },
  {
   "cell_type": "code",
   "execution_count": 85,
   "metadata": {
    "ExecuteTime": {
     "end_time": "2020-01-11T06:50:04.324245Z",
     "start_time": "2020-01-11T06:50:00.814044Z"
    }
   },
   "outputs": [],
   "source": [
    "import pickle\n",
    "import numpy as np\n",
    "import pandas as pd\n",
    "import matplotlib as mpl\n",
    "import matplotlib.pyplot as plt"
   ]
  },
  {
   "cell_type": "markdown",
   "metadata": {},
   "source": [
    "## 1 Loading Data"
   ]
  },
  {
   "cell_type": "code",
   "execution_count": 41,
   "metadata": {
    "ExecuteTime": {
     "end_time": "2020-01-11T05:17:47.779351Z",
     "start_time": "2020-01-11T05:17:12.541512Z"
    }
   },
   "outputs": [],
   "source": [
    "from sklearn.datasets import fetch_openml\n",
    "\n",
    "# Fetch MNIST dataset using sklearn\n",
    "X, y = fetch_openml('mnist_784', version=1, return_X_y=True)"
   ]
  },
  {
   "cell_type": "markdown",
   "metadata": {},
   "source": [
    "## 2 Analysis"
   ]
  },
  {
   "cell_type": "code",
   "execution_count": 101,
   "metadata": {
    "ExecuteTime": {
     "end_time": "2020-01-11T07:21:47.205407Z",
     "start_time": "2020-01-11T07:21:47.199427Z"
    }
   },
   "outputs": [],
   "source": [
    "def print_digit(digit):\n",
    "    # Sample a digit, reshaping the 1x784 array to 28x28\n",
    "    digit_image = digit.reshape(28, 28)\n",
    "\n",
    "    # Plot the thing\n",
    "    plt.imshow(digit_image, cmap='binary')\n",
    "    plt.axis('off')\n",
    "    plt.show()"
   ]
  },
  {
   "cell_type": "code",
   "execution_count": 102,
   "metadata": {
    "ExecuteTime": {
     "end_time": "2020-01-11T07:21:47.214387Z",
     "start_time": "2020-01-11T07:21:47.208400Z"
    }
   },
   "outputs": [],
   "source": [
    "# Convert y from string type to numeric\n",
    "y = y.astype(np.uint8)\n",
    "\n",
    "# Separate test and training sets\n",
    "X_train, X_test, y_train, y_test = X[:60000], X[60000:], y[:60000], y[60000:]"
   ]
  },
  {
   "cell_type": "code",
   "execution_count": 17,
   "metadata": {
    "ExecuteTime": {
     "end_time": "2020-01-11T04:25:15.576199Z",
     "start_time": "2020-01-11T04:25:15.570186Z"
    }
   },
   "outputs": [
    {
     "data": {
      "text/plain": [
       "(70000, 784)"
      ]
     },
     "execution_count": 17,
     "metadata": {},
     "output_type": "execute_result"
    }
   ],
   "source": [
    "X.shape"
   ]
  },
  {
   "cell_type": "code",
   "execution_count": 6,
   "metadata": {
    "ExecuteTime": {
     "end_time": "2020-01-11T04:21:01.854078Z",
     "start_time": "2020-01-11T04:21:01.849061Z"
    }
   },
   "outputs": [
    {
     "data": {
      "text/plain": [
       "(70000,)"
      ]
     },
     "execution_count": 6,
     "metadata": {},
     "output_type": "execute_result"
    }
   ],
   "source": [
    "y.shape"
   ]
  },
  {
   "cell_type": "code",
   "execution_count": 36,
   "metadata": {
    "ExecuteTime": {
     "end_time": "2020-01-11T04:48:20.392532Z",
     "start_time": "2020-01-11T04:48:20.314712Z"
    }
   },
   "outputs": [
    {
     "data": {
      "image/png": "[encoded data removed]",
      "text/plain": [
       "<Figure size 432x288 with 1 Axes>"
      ]
     },
     "metadata": {
      "needs_background": "light"
     },
     "output_type": "display_data"
    }
   ],
   "source": [
    "print_digit(X[0])"
   ]
  },
  {
   "cell_type": "code",
   "execution_count": 42,
   "metadata": {
    "ExecuteTime": {
     "end_time": "2020-01-11T05:18:22.898304Z",
     "start_time": "2020-01-11T05:18:22.892320Z"
    }
   },
   "outputs": [
    {
     "data": {
      "text/plain": [
       "5"
      ]
     },
     "execution_count": 42,
     "metadata": {},
     "output_type": "execute_result"
    }
   ],
   "source": [
    "y[0]"
   ]
  },
  {
   "cell_type": "code",
   "execution_count": 51,
   "metadata": {
    "ExecuteTime": {
     "end_time": "2020-01-11T06:16:08.624623Z",
     "start_time": "2020-01-11T06:16:08.619636Z"
    }
   },
   "outputs": [],
   "source": [
    "# Target vectors for each set for value == 5\n",
    "y_train_5 = (y_train == 5)\n",
    "y_test_5 = (y_test == 5)"
   ]
  },
  {
   "cell_type": "markdown",
   "metadata": {},
   "source": [
    "## 3 Modeling"
   ]
  },
  {
   "cell_type": "code",
   "execution_count": 62,
   "metadata": {
    "ExecuteTime": {
     "end_time": "2020-01-11T06:22:10.357231Z",
     "start_time": "2020-01-11T06:22:10.351215Z"
    }
   },
   "outputs": [],
   "source": [
    "# Stochastic Gradient Descent model for binary '5' classifier\n",
    "from sklearn.linear_model import SGDClassifier\n",
    "\n",
    "try:\n",
    "    # Check for pickled model\n",
    "    sgd_clf = pickle.load(open('pickles/sgd_clf.pkl', 'rb'))\n",
    "except FileNotFoundError:\n",
    "    # Create, train, and pickle the model if it does not exist\n",
    "    sgd_clf = SGDClassifier(random_state=47)\n",
    "    sgd_clf.fit(X_train, y_train_5)\n",
    "    pickle.dump(sgd_clf, open('pickles/sgd_clf.pkl', 'wb'))"
   ]
  },
  {
   "cell_type": "code",
   "execution_count": 63,
   "metadata": {
    "ExecuteTime": {
     "end_time": "2020-01-11T06:22:12.997354Z",
     "start_time": "2020-01-11T06:22:12.990369Z"
    }
   },
   "outputs": [
    {
     "data": {
      "text/plain": [
       "array([ True])"
      ]
     },
     "execution_count": 63,
     "metadata": {},
     "output_type": "execute_result"
    }
   ],
   "source": [
    "# 5 from above\n",
    "sgd_clf.predict([X[0]])"
   ]
  },
  {
   "cell_type": "code",
   "execution_count": 64,
   "metadata": {
    "ExecuteTime": {
     "end_time": "2020-01-11T06:22:13.644714Z",
     "start_time": "2020-01-11T06:22:13.575897Z"
    }
   },
   "outputs": [
    {
     "data": {
      "image/png": "[encoded data removed]",
      "text/plain": [
       "<Figure size 432x288 with 1 Axes>"
      ]
     },
     "metadata": {
      "needs_background": "light"
     },
     "output_type": "display_data"
    }
   ],
   "source": [
    "print_digit(X[25])"
   ]
  },
  {
   "cell_type": "code",
   "execution_count": 65,
   "metadata": {
    "ExecuteTime": {
     "end_time": "2020-01-11T06:22:14.102117Z",
     "start_time": "2020-01-11T06:22:14.096132Z"
    }
   },
   "outputs": [
    {
     "data": {
      "text/plain": [
       "array([False])"
      ]
     },
     "execution_count": 65,
     "metadata": {},
     "output_type": "execute_result"
    }
   ],
   "source": [
    "sgd_clf.predict([X[25]])"
   ]
  },
  {
   "cell_type": "markdown",
   "metadata": {
    "ExecuteTime": {
     "end_time": "2020-01-11T04:48:30.525270Z",
     "start_time": "2020-01-11T04:48:30.451467Z"
    }
   },
   "source": [
    "## 4 Evaluation"
   ]
  },
  {
   "cell_type": "markdown",
   "metadata": {},
   "source": [
    "### 4.1 Cross-Validation"
   ]
  },
  {
   "cell_type": "code",
   "execution_count": 107,
   "metadata": {
    "ExecuteTime": {
     "end_time": "2020-01-11T07:28:43.793360Z",
     "start_time": "2020-01-11T07:28:43.778399Z"
    }
   },
   "outputs": [
    {
     "data": {
      "text/plain": [
       "array([0.9644 , 0.96595, 0.952  ])"
      ]
     },
     "execution_count": 107,
     "metadata": {},
     "output_type": "execute_result"
    }
   ],
   "source": [
    "from sklearn.model_selection import cross_val_score\n",
    "\n",
    "try:\n",
    "    # Check for pickled cross validation scores\n",
    "    sgd_cross_val_score = pickle.load(open('pickles/sgd_cross_val_score.pkl', 'rb'))\n",
    "except FileNotFoundError:\n",
    "    # Create and pickle the scores if the file does not exist\n",
    "    sgd_cross_val_score = cross_val_score(sgd_clf, X_train, y_train_5, cv=3, scoring='accuracy')\n",
    "    pickle.dump(sgd_cross_val_score, open('pickles/sgd_cross_val_score.pkl', 'wb'))\n",
    "\n",
    "sgd_cross_val_score"
   ]
  },
  {
   "cell_type": "code",
   "execution_count": 81,
   "metadata": {
    "ExecuteTime": {
     "end_time": "2020-01-11T06:37:08.653962Z",
     "start_time": "2020-01-11T06:37:08.647943Z"
    }
   },
   "outputs": [],
   "source": [
    "# Very basic classifier for comparison\n",
    "from sklearn.base import BaseEstimator\n",
    "\n",
    "class Never5Classifier(BaseEstimator):\n",
    "    def fit(self, X, y=None):\n",
    "        pass\n",
    "    def predict(self, X):\n",
    "        return np.zeros((len(X), 1), dtype=bool)"
   ]
  },
  {
   "cell_type": "code",
   "execution_count": 83,
   "metadata": {
    "ExecuteTime": {
     "end_time": "2020-01-11T06:41:21.706890Z",
     "start_time": "2020-01-11T06:41:20.664675Z"
    }
   },
   "outputs": [
    {
     "data": {
      "text/plain": [
       "array([0.91125, 0.90855, 0.90915])"
      ]
     },
     "execution_count": 83,
     "metadata": {},
     "output_type": "execute_result"
    }
   ],
   "source": [
    "never_5_clf = Never5Classifier()\n",
    "cross_val_score(never_5_clf, X_train, y_train_5, cv=3, scoring='accuracy')"
   ]
  },
  {
   "cell_type": "markdown",
   "metadata": {},
   "source": [
    "Only ~10% of the dataset is 5, so even if this model guessed 'not 5' every time it would still be ~90% accurate. This demonstrates that accuracy is not a great performance metric for classifiers."
   ]
  },
  {
   "cell_type": "markdown",
   "metadata": {},
   "source": [
    "### 4.2 Confusion Matrix"
   ]
  },
  {
   "cell_type": "markdown",
   "metadata": {},
   "source": [
    "Record of the number of times class A is classified as class B."
   ]
  },
  {
   "cell_type": "code",
   "execution_count": 95,
   "metadata": {
    "ExecuteTime": {
     "end_time": "2020-01-11T07:04:01.211569Z",
     "start_time": "2020-01-11T07:04:01.201597Z"
    }
   },
   "outputs": [
    {
     "data": {
      "text/html": [
       "<div>\n",
       "<style scoped>\n",
       "    .dataframe tbody tr th:only-of-type {\n",
       "        vertical-align: middle;\n",
       "    }\n",
       "\n",
       "    .dataframe tbody tr th {\n",
       "        vertical-align: top;\n",
       "    }\n",
       "\n",
       "    .dataframe thead th {\n",
       "        text-align: right;\n",
       "    }\n",
       "</style>\n",
       "<table border=\"1\" class=\"dataframe\">\n",
       "  <thead>\n",
       "    <tr style=\"text-align: right;\">\n",
       "      <th></th>\n",
       "      <th>not-5</th>\n",
       "      <th>5</th>\n",
       "    </tr>\n",
       "  </thead>\n",
       "  <tbody>\n",
       "    <tr>\n",
       "      <th>not-5</th>\n",
       "      <td>8</td>\n",
       "      <td>2</td>\n",
       "    </tr>\n",
       "    <tr>\n",
       "      <th>5</th>\n",
       "      <td>0</td>\n",
       "      <td>0</td>\n",
       "    </tr>\n",
       "  </tbody>\n",
       "</table>\n",
       "</div>"
      ],
      "text/plain": [
       "       not-5  5\n",
       "not-5      8  2\n",
       "5          0  0"
      ]
     },
     "execution_count": 95,
     "metadata": {},
     "output_type": "execute_result"
    }
   ],
   "source": [
    "# Visualization: Two of ten 'not-5' are classified as '5'\n",
    "pd.DataFrame(np.array([[8,2],[0,0]]), columns=['not-5','5'], index=['not-5','5'])"
   ]
  },
  {
   "cell_type": "code",
   "execution_count": 109,
   "metadata": {
    "ExecuteTime": {
     "end_time": "2020-01-11T07:29:38.551227Z",
     "start_time": "2020-01-11T07:29:38.539259Z"
    }
   },
   "outputs": [],
   "source": [
    "# Generate some predictions from the y_train_5 set\n",
    "from sklearn.model_selection import cross_val_predict\n",
    "\n",
    "try:\n",
    "    # Check for pickled predictions\n",
    "    y_train_pred = pickle.load(open('pickles/y_train_pred.pkl', 'rb'))\n",
    "except FileNotFoundError:\n",
    "    # Create and pickle the predictions if the file does not exist\n",
    "    y_train_pred = cross_val_predict(sgd_clf, X_train, y_train_5, cv=3)\n",
    "    pickle.dump(y_train_pred, open('pickles/y_train_pred.pkl', 'wb'))"
   ]
  },
  {
   "cell_type": "code",
   "execution_count": 110,
   "metadata": {
    "ExecuteTime": {
     "end_time": "2020-01-11T07:29:42.062374Z",
     "start_time": "2020-01-11T07:29:42.020480Z"
    }
   },
   "outputs": [
    {
     "data": {
      "text/plain": [
       "array([[53852,   727],\n",
       "       [ 1626,  3795]], dtype=int64)"
      ]
     },
     "execution_count": 110,
     "metadata": {},
     "output_type": "execute_result"
    }
   ],
   "source": [
    "# Generate a confusion matrix using the predictions\n",
    "from sklearn.metrics import confusion_matrix\n",
    "confusion_matrix(y_train_5, y_train_pred)"
   ]
  },
  {
   "cell_type": "markdown",
   "metadata": {},
   "source": [
    "A perfect classifier would contain non-zero values only along the identity matrix."
   ]
  },
  {
   "cell_type": "code",
   "execution_count": 97,
   "metadata": {
    "ExecuteTime": {
     "end_time": "2020-01-11T07:08:48.113079Z",
     "start_time": "2020-01-11T07:08:48.068198Z"
    }
   },
   "outputs": [
    {
     "data": {
      "text/plain": [
       "array([[54579,     0],\n",
       "       [    0,  5421]], dtype=int64)"
      ]
     },
     "execution_count": 97,
     "metadata": {},
     "output_type": "execute_result"
    }
   ],
   "source": [
    "# Generate a confusion matrix for a 'perfect' classifier\n",
    "y_train_perfect_predictions = y_train_5\n",
    "confusion_matrix(y_train_5, y_train_perfect_predictions)"
   ]
  }
 ],
 "metadata": {
  "kernelspec": {
   "display_name": "Python 3",
   "language": "python",
   "name": "python3"
  },
  "language_info": {
   "codemirror_mode": {
    "name": "ipython",
    "version": 3
   },
   "file_extension": ".py",
   "mimetype": "text/x-python",
   "name": "python",
   "nbconvert_exporter": "python",
   "pygments_lexer": "ipython3",
   "version": "3.7.6"
  }
 },
 "nbformat": 4,
 "nbformat_minor": 2
}
