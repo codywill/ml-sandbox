{
 "cells": [
  {
   "cell_type": "code",
   "execution_count": 179,
   "metadata": {
    "ExecuteTime": {
     "end_time": "2020-01-05T23:23:24.895863Z",
     "start_time": "2020-01-05T23:23:24.891871Z"
    }
   },
   "outputs": [],
   "source": [
    "import time\n",
    "import ipyparallel as ipp"
   ]
  },
  {
   "cell_type": "code",
   "execution_count": 180,
   "metadata": {
    "ExecuteTime": {
     "end_time": "2020-01-05T23:23:25.117271Z",
     "start_time": "2020-01-05T23:23:25.084360Z"
    }
   },
   "outputs": [],
   "source": [
    "rc = ipp.Client()"
   ]
  },
  {
   "cell_type": "code",
   "execution_count": 181,
   "metadata": {
    "ExecuteTime": {
     "end_time": "2020-01-05T23:23:25.281839Z",
     "start_time": "2020-01-05T23:23:25.275881Z"
    }
   },
   "outputs": [],
   "source": [
    "def get_results(index):\n",
    "    str = []\n",
    "    for i in range(index + 1):\n",
    "        str.extend('_')\n",
    "    try:\n",
    "        target = eval(''.join(str)).display_outputs()\n",
    "    except:\n",
    "        target = None\n",
    "        print(f'{index}: not ready')\n",
    "        raise\n",
    "    return target"
   ]
  },
  {
   "cell_type": "code",
   "execution_count": 225,
   "metadata": {
    "ExecuteTime": {
     "end_time": "2020-01-05T23:32:17.952597Z",
     "start_time": "2020-01-05T23:32:17.940630Z"
    }
   },
   "outputs": [
    {
     "data": {
      "text/plain": [
       "<AsyncResult: execute>"
      ]
     },
     "execution_count": 225,
     "metadata": {},
     "output_type": "execute_result"
    }
   ],
   "source": [
    "%%px --targets 0 --noblock\n",
    "\n",
    "time.sleep(15)\n",
    "print('Done')"
   ]
  },
  {
   "cell_type": "code",
   "execution_count": 226,
   "metadata": {
    "ExecuteTime": {
     "end_time": "2020-01-05T23:32:18.520080Z",
     "start_time": "2020-01-05T23:32:18.516121Z"
    }
   },
   "outputs": [],
   "source": [
    "output_0 = _"
   ]
  },
  {
   "cell_type": "code",
   "execution_count": 227,
   "metadata": {
    "ExecuteTime": {
     "end_time": "2020-01-05T23:32:19.361832Z",
     "start_time": "2020-01-05T23:32:19.356846Z"
    }
   },
   "outputs": [
    {
     "name": "stdout",
     "output_type": "stream",
     "text": [
      "some work here\n"
     ]
    }
   ],
   "source": [
    "print('some work here')"
   ]
  },
  {
   "cell_type": "code",
   "execution_count": 230,
   "metadata": {
    "ExecuteTime": {
     "end_time": "2020-01-05T23:32:35.193511Z",
     "start_time": "2020-01-05T23:32:35.188526Z"
    }
   },
   "outputs": [
    {
     "name": "stdout",
     "output_type": "stream",
     "text": [
      "Done\n"
     ]
    }
   ],
   "source": [
    "output_0.display_outputs()"
   ]
  },
  {
   "cell_type": "code",
   "execution_count": null,
   "metadata": {},
   "outputs": [],
   "source": []
  }
 ],
 "metadata": {
  "kernelspec": {
   "display_name": "Python 3",
   "language": "python",
   "name": "python3"
  },
  "language_info": {
   "codemirror_mode": {
    "name": "ipython",
    "version": 3
   },
   "file_extension": ".py",
   "mimetype": "text/x-python",
   "name": "python",
   "nbconvert_exporter": "python",
   "pygments_lexer": "ipython3",
   "version": "3.7.6"
  }
 },
 "nbformat": 4,
 "nbformat_minor": 2
}
