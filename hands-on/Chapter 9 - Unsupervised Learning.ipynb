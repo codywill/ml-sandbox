{
 "cells": [
  {
   "cell_type": "markdown",
   "metadata": {},
   "source": [
    "Unsupervised learning techniques are those that involve training with or analyzing unlabeled data. Dimensionality reduction, for instance, is an unsupervised learning task.\n",
    "\n",
    "Other examples:\n",
    "\n",
    "- **Clustering**: group similar instance together into clusters. Useful for data analysis, segmentation, recommender systems, serach engines, semi-supervised learning, and dimensionality reduction.\n",
    "\n",
    "- **Anomaly Detection**: a predictor is trained to recognize 'normal' instances in order to detect abnormalities. Useful for defect detection and identifying new trends.\n",
    "\n",
    "- **Density Estimation**: estimates the probability density function (PDF) of the random process that generated the dataset. Useful for anomaly detection, data analysis, and visualization.\n",
    "\n",
    "Topics:\n",
    "\n",
    "- Clustering\n",
    "    - K-Means Algorithm\n",
    "    - Segmentation\n",
    "    - Preprocessing\n",
    "    - Semi-Supervised Learning\n",
    "    - DBSCAN Algorithm\n",
    "    - Other Algorithms\n",
    "- Gaussian Mixtures\n",
    "    - Anomaly Detection\n",
    "    - Bayesian Models\n",
    "    - Other Algorithms"
   ]
  },
  {
   "cell_type": "markdown",
   "metadata": {},
   "source": [
    "# Clustering\n",
    "\n",
    "**Clustering** is the task of identifying similar instances and assigning them to clusters.\n",
    "\n",
    "Some applications:\n",
    "\n",
    "- **Customer segmentation**: clustering customers based on purchases and activity, and adapt products and marketing to each segment. Useful for recommender systems.\n",
    "- **Data analysis**: clustering instances based on feature relationships. Useful for gaining early insights and separating the data.\n",
    "- **Dimensionality reduction**: after clustering a dataset, each instance can be redefined according to its affinity with each cluster, reducing dimensionality to the (much lower) number of clusters while preserving most of the information.\n",
    "- **Anomaly detection**: identifying instances with low cluster affinities to detect outliers.\n",
    "- **Semi-supervised learning**: clustering a partially-labeled dataset, and then propagating the labels to like-instances for a subsequent supervised training stage.\n",
    "- **Search engines**: clustering a collection of images, then returning the best-matching cluster when a reference image is provided.\n",
    "- **Image segmentation**: clustering pixels according to color, then replacing each with its cluster's mean color. Useful for object and contour detection, tracking systems."
   ]
  },
  {
   "cell_type": "code",
   "execution_count": null,
   "metadata": {},
   "outputs": [],
   "source": []
  }
 ],
 "metadata": {
  "kernelspec": {
   "display_name": "Python 3",
   "language": "python",
   "name": "python3"
  },
  "language_info": {
   "codemirror_mode": {
    "name": "ipython",
    "version": 3
   },
   "file_extension": ".py",
   "mimetype": "text/x-python",
   "name": "python",
   "nbconvert_exporter": "python",
   "pygments_lexer": "ipython3",
   "version": "3.7.6"
  }
 },
 "nbformat": 4,
 "nbformat_minor": 4
}
