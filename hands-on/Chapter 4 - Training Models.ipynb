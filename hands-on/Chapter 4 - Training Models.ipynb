{
 "cells": [
  {
   "cell_type": "markdown",
   "metadata": {},
   "source": [
    "This chapter discusses how the following training algorithms behave under the hood: \n",
    "- Linear Regression\n",
    "- Polynomial Regression\n",
    "- Logistic Regression\n",
    "- Softmax Regression."
   ]
  },
  {
   "cell_type": "markdown",
   "metadata": {},
   "source": [
    "# 1 - Linear Regression"
   ]
  },
  {
   "cell_type": "markdown",
   "metadata": {},
   "source": [
    "*Equation 1: Linear Regression model prediction*\n",
    "\n",
    "\\begin{equation*}\n",
    "\\hat{y} = \\theta_0 + \\theta_1x_1 + \\theta_2x_2\\;+\\;...\\;+\\;\\theta_nx_n\n",
    "\\end{equation*}\n",
    "\n",
    "$\n",
    "\\bullet \\;\\hat{y}\\small{\\text{ is the predicted value.}}\\\\\n",
    "\\bullet n\\small{\\text{ is the number of features.}}\\\\\n",
    "\\bullet x_i\\small{\\text{ is the }i^{th}\\text{ feature value.}}\\\\\n",
    "$"
   ]
  },
  {
   "cell_type": "markdown",
   "metadata": {},
   "source": [
    "*Equation 2: Linear Regression model prediction (vectorized form)*\n",
    "\n",
    "\\begin{equation*}\n",
    "\\hat{y} = h_\\boldsymbol{\\theta}(\\mathbf{x}) = \\boldsymbol{\\theta}\\cdot\\mathbf{x}\n",
    "\\end{equation*}\n",
    "\n",
    "$\n",
    "\\bullet \\;\\boldsymbol{\\theta}\\small{\n",
    "    \\text{ is the model's parameter vector, containing the bias term }\n",
    "    \\theta_0\n",
    "    \\text{ and the feature weights }\n",
    "    \\theta_1\n",
    "    \\text{ to }\n",
    "    \\theta_n\n",
    "}.\\\\\n",
    "\\bullet \\;\\mathbf{x}\\small{\n",
    "    \\text{ is the instance's feature vector, containing }\n",
    "    x_0\n",
    "    \\text{ to }\n",
    "    x_n\n",
    "    \\text{, with }\n",
    "    x_0\n",
    "    \\text{ always equal to 1}\n",
    "}.\\\\\n",
    "\\bullet \\;\\boldsymbol{\\theta}\\cdot\\mathbf{x}\\small{\n",
    "    \\text{ is the dot product of the vectors }\n",
    "    \\boldsymbol{\\theta}\n",
    "    \\text{ and }\n",
    "    \\mathbf{x}\n",
    "    \\text{, which is equal to }\n",
    "    \\theta_0 + \\theta_1x_1 + \\theta_2x_2\\;+\\;...\\;+\\;\\theta_nx_n\n",
    "}.\\\\\n",
    "\\bullet \\;h_\\boldsymbol{\\theta}\\small{\n",
    "    \\text{ is the hypothesis function, using the model parameters }\n",
    "    \\boldsymbol{\\theta}\n",
    "}.\\\\\n",
    "$"
   ]
  },
  {
   "cell_type": "markdown",
   "metadata": {},
   "source": [
    "*Equation 3: Mean Square Error (MSE) cost function for a Linear Regression model*\n",
    "\n",
    "\\begin{equation*}\n",
    "\\text{MSE}(\\mathbf{X}, h_\\boldsymbol{\\theta}) = \\frac{1}{m}\\sum_{i=1}^m (\\boldsymbol{\\theta}^\\mathrm{T}\\mathbf{x}^{(i)}-y^{(i)})^2\n",
    "\\end{equation*}"
   ]
  },
  {
   "cell_type": "markdown",
   "metadata": {},
   "source": [
    "Training Linear Regression models involves finding a parameter vector that minimizes the Root Mean Square Error (RMSE).\n",
    "\n",
    "The Normal Equation is a closed-form solution to this problem."
   ]
  },
  {
   "cell_type": "markdown",
   "metadata": {},
   "source": [
    "*Equation 4: Normal Equation*\n",
    "\n",
    "\\begin{equation*}\n",
    "\\hat{\\boldsymbol{\\theta}} = (\\mathbf{X}^{\\mathrm{T}}\\mathbf{X})^{-1}\\mathbf{X}^{\\mathrm{T}}\\mathbf{y}\n",
    "\\end{equation*}\n",
    "\n",
    "$\n",
    "\\bullet \\;\\hat{\\boldsymbol{\\theta}}\\small{\n",
    "    \\text{ is the value of }\n",
    "    \\boldsymbol{\\theta}\n",
    "    \\text{ that minimizes the cost function }\n",
    "}.\\\\\n",
    "\\bullet \\;\\mathbf{y}\\small{\n",
    "    \\text{ is the vector of target values containing }\n",
    "    y^{(1)}\n",
    "    \\text{ to }\n",
    "    y^{(m)}\n",
    "}.\\\\\n",
    "$"
   ]
  },
  {
   "cell_type": "code",
   "execution_count": 2,
   "metadata": {
    "ExecuteTime": {
     "end_time": "2020-01-19T23:38:36.843891Z",
     "start_time": "2020-01-19T23:38:36.257653Z"
    }
   },
   "outputs": [],
   "source": [
    "import numpy as np\n",
    "import matplotlib.pyplot as plt"
   ]
  },
  {
   "cell_type": "code",
   "execution_count": 10,
   "metadata": {
    "ExecuteTime": {
     "end_time": "2020-01-20T00:29:56.434803Z",
     "start_time": "2020-01-20T00:29:56.258275Z"
    }
   },
   "outputs": [
    {
     "data": {
      "image/png": "[encoded data removed]",
      "text/plain": [
       "<Figure size 432x288 with 1 Axes>"
      ]
     },
     "metadata": {
      "needs_background": "light"
     },
     "output_type": "display_data"
    }
   ],
   "source": [
    "# Linear-ish random data to demonstrate the Normal Equation\n",
    "X = 2 * np.random.rand(100, 1)\n",
    "y = 4 + 3 * X + np.random.randn(100, 1)\n",
    "\n",
    "plt.plot(X, y, 'b.')\n",
    "plt.xlabel('X')\n",
    "plt.ylabel('y')\n",
    "plt.show()"
   ]
  },
  {
   "cell_type": "code",
   "execution_count": 25,
   "metadata": {
    "ExecuteTime": {
     "end_time": "2020-01-20T00:39:19.371154Z",
     "start_time": "2020-01-20T00:39:19.362177Z"
    }
   },
   "outputs": [
    {
     "data": {
      "text/plain": [
       "array([[4.06419159],\n",
       "       [2.88986164]])"
      ]
     },
     "execution_count": 25,
     "metadata": {},
     "output_type": "execute_result"
    }
   ],
   "source": [
    "# Add x0 = 1 to each instance of X\n",
    "X_b = np.c_[np.ones((100, 1)), X]\n",
    "\n",
    "# Apply the Normal Equation\n",
    "theta_best = np.linalg.inv(X_b.T.dot(X_b)).dot(X_b.T).dot(y)\n",
    "theta_best"
   ]
  },
  {
   "cell_type": "markdown",
   "metadata": {},
   "source": [
    "A perfect solution would be $\\theta_0 = 4$ and $\\theta_1 = 3$, since the random data was generated using $y = 4 + 3x_1 +$ some Gaussian noise."
   ]
  },
  {
   "cell_type": "code",
   "execution_count": 26,
   "metadata": {
    "ExecuteTime": {
     "end_time": "2020-01-20T00:39:20.273152Z",
     "start_time": "2020-01-20T00:39:20.266168Z"
    }
   },
   "outputs": [
    {
     "data": {
      "text/plain": [
       "array([[4.06419159],\n",
       "       [9.84391487]])"
      ]
     },
     "execution_count": 26,
     "metadata": {},
     "output_type": "execute_result"
    }
   ],
   "source": [
    "# Use the parameter vector to predict y values for x1 = 0 and x1 = 2\n",
    "X_new = np.array([[0], [2]])\n",
    "X_new_b = np.c_[np.ones((2, 1)), X_new]\n",
    "y_predict = X_new_b.dot(theta_best)\n",
    "y_predict"
   ]
  },
  {
   "cell_type": "code",
   "execution_count": 27,
   "metadata": {
    "ExecuteTime": {
     "end_time": "2020-01-20T00:39:20.934228Z",
     "start_time": "2020-01-20T00:39:20.729746Z"
    }
   },
   "outputs": [
    {
     "data": {
      "image/png": "[encoded data removed]",
      "text/plain": [
       "<Figure size 432x288 with 1 Axes>"
      ]
     },
     "metadata": {
      "needs_background": "light"
     },
     "output_type": "display_data"
    }
   ],
   "source": [
    "plt.plot(X_new, y_predict, 'r-', label='Predictions')\n",
    "plt.plot(X, y, 'b.')\n",
    "plt.axis([0, 2, 0, 15])\n",
    "plt.legend()\n",
    "plt.show()"
   ]
  },
  {
   "cell_type": "code",
   "execution_count": 28,
   "metadata": {
    "ExecuteTime": {
     "end_time": "2020-01-20T00:39:21.273309Z",
     "start_time": "2020-01-20T00:39:21.266289Z"
    }
   },
   "outputs": [
    {
     "data": {
      "text/plain": [
       "(array([4.06419159]), array([[2.88986164]]))"
      ]
     },
     "execution_count": 28,
     "metadata": {},
     "output_type": "execute_result"
    }
   ],
   "source": [
    "# Using Scikit-Learn's LinearRegression class\n",
    "from sklearn.linear_model import LinearRegression\n",
    "lin_reg = LinearRegression()\n",
    "lin_reg.fit(X, y)\n",
    "lin_reg.intercept_, lin_reg.coef_"
   ]
  },
  {
   "cell_type": "code",
   "execution_count": 29,
   "metadata": {
    "ExecuteTime": {
     "end_time": "2020-01-20T00:39:21.808640Z",
     "start_time": "2020-01-20T00:39:21.802655Z"
    }
   },
   "outputs": [
    {
     "data": {
      "text/plain": [
       "array([[4.06419159],\n",
       "       [9.84391487]])"
      ]
     },
     "execution_count": 29,
     "metadata": {},
     "output_type": "execute_result"
    }
   ],
   "source": [
    "lin_reg.predict(X_new)"
   ]
  },
  {
   "cell_type": "code",
   "execution_count": 30,
   "metadata": {
    "ExecuteTime": {
     "end_time": "2020-01-20T00:39:22.328838Z",
     "start_time": "2020-01-20T00:39:22.321884Z"
    }
   },
   "outputs": [
    {
     "data": {
      "text/plain": [
       "array([[4.06419159],\n",
       "       [2.88986164]])"
      ]
     },
     "execution_count": 30,
     "metadata": {},
     "output_type": "execute_result"
    }
   ],
   "source": [
    "# LinearRegression is based on scipy's least squares function scipy.linalg.lstsq()\n",
    "theta_best_svd, residuals, rank, s = np.linalg.lstsq(X_b, y, rcond=1e-6)\n",
    "theta_best_svd"
   ]
  },
  {
   "cell_type": "markdown",
   "metadata": {},
   "source": [
    "scipy.linalg.lstsq() computes $\\hat{\\boldsymbol{\\theta}} = \\mathbf{X}^+\\mathbf{y}$, where $\\mathbf{X}^+$ is the pseudoinverse of $\\mathbf{X}$."
   ]
  },
  {
   "cell_type": "code",
   "execution_count": 33,
   "metadata": {
    "ExecuteTime": {
     "end_time": "2020-01-20T00:42:59.041340Z",
     "start_time": "2020-01-20T00:42:59.034390Z"
    }
   },
   "outputs": [
    {
     "data": {
      "text/plain": [
       "array([[4.06419159],\n",
       "       [2.88986164]])"
      ]
     },
     "execution_count": 33,
     "metadata": {},
     "output_type": "execute_result"
    }
   ],
   "source": [
    "# Calculate using the pseudoinverse\n",
    "np.linalg.pinv(X_b).dot(y)"
   ]
  },
  {
   "cell_type": "markdown",
   "metadata": {},
   "source": [
    "Using the pseudoinverse is both more efficient and more general than the Normal Equation."
   ]
  },
  {
   "cell_type": "code",
   "execution_count": null,
   "metadata": {},
   "outputs": [],
   "source": []
  }
 ],
 "metadata": {
  "kernelspec": {
   "display_name": "Python 3",
   "language": "python",
   "name": "python3"
  },
  "language_info": {
   "codemirror_mode": {
    "name": "ipython",
    "version": 3
   },
   "file_extension": ".py",
   "mimetype": "text/x-python",
   "name": "python",
   "nbconvert_exporter": "python",
   "pygments_lexer": "ipython3",
   "version": "3.7.6"
  }
 },
 "nbformat": 4,
 "nbformat_minor": 2
}
