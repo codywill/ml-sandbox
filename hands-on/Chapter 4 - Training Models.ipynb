{
 "cells": [
  {
   "cell_type": "markdown",
   "metadata": {},
   "source": [
    "This chapter discusses how the following training algorithms behave under the hood: \n",
    "- Linear Regression\n",
    "- Polynomial Regression\n",
    "- Logistic Regression\n",
    "- Softmax Regression."
   ]
  },
  {
   "cell_type": "markdown",
   "metadata": {},
   "source": [
    "# 1 - Linear Regression"
   ]
  },
  {
   "cell_type": "markdown",
   "metadata": {},
   "source": [
    "*Equation 1: Linear Regression model prediction*\n",
    "\n",
    "\\begin{equation*}\n",
    "\\hat{y} = \\theta_0 + \\theta_1x_1 + \\theta_2x_2\\;+\\;...\\;+\\;\\theta_nx_n\n",
    "\\end{equation*}\n",
    "\n",
    "$\n",
    "\\bullet \\;\\hat{y}\\small{\\text{ is the predicted value.}}\\\\\n",
    "\\bullet n\\small{\\text{ is the number of features.}}\\\\\n",
    "\\bullet x_i\\small{\\text{ is the }i^{th}\\text{ feature value.}}\\\\\n",
    "$"
   ]
  },
  {
   "cell_type": "markdown",
   "metadata": {},
   "source": [
    "*Equation 2: Linear Regression model prediction (vectorized form)*\n",
    "\n",
    "\\begin{equation*}\n",
    "\\hat{y} = h_\\boldsymbol{\\theta}(\\mathbf{x}) = \\boldsymbol{\\theta}\\cdot\\mathbf{x}\n",
    "\\end{equation*}\n",
    "\n",
    "$\n",
    "\\bullet \\;\\boldsymbol{\\theta}\\small{\n",
    "    \\text{ is the model's parameter vector, containing the bias term }\n",
    "    \\theta_0\n",
    "    \\text{ and the feature weights }\n",
    "    \\theta_1\n",
    "    \\text{ to }\n",
    "    \\theta_n\n",
    "}.\\\\\n",
    "\\bullet \\;\\mathbf{x}\\small{\n",
    "    \\text{ is the instance's feature vector, containing }\n",
    "    x_0\n",
    "    \\text{ to }\n",
    "    x_n\n",
    "    \\text{, with }\n",
    "    x_0\n",
    "    \\text{ always equal to 1}\n",
    "}.\\\\\n",
    "\\bullet \\;\\boldsymbol{\\theta}\\cdot\\mathbf{x}\\small{\n",
    "    \\text{ is the dot product of the vectors }\n",
    "    \\boldsymbol{\\theta}\n",
    "    \\text{ and }\n",
    "    \\mathbf{x}\n",
    "    \\text{, which is equal to }\n",
    "    \\theta_0 + \\theta_1x_1 + \\theta_2x_2\\;+\\;...\\;+\\;\\theta_nx_n\n",
    "}.\\\\\n",
    "\\bullet \\;h_\\boldsymbol{\\theta}\\small{\n",
    "    \\text{ is the hypothesis function, using the model parameters }\n",
    "    \\boldsymbol{\\theta}\n",
    "}.\\\\\n",
    "$"
   ]
  },
  {
   "cell_type": "markdown",
   "metadata": {},
   "source": [
    "*Equation 3: Mean Square Error (MSE) cost function for a Linear Regression model*\n",
    "\n",
    "\\begin{equation*}\n",
    "\\text{MSE}(\\mathbf{X}, h_\\boldsymbol{\\theta}) = \\frac{1}{m}\\sum_{i=1}^m (\\boldsymbol{\\theta}^\\mathrm{T}\\mathbf{x}^{(i)}-y^{(i)})^2\n",
    "\\end{equation*}"
   ]
  },
  {
   "cell_type": "markdown",
   "metadata": {},
   "source": [
    "Training Linear Regression models involves finding a parameter vector that minimizes the Root Mean Square Error (RMSE).\n",
    "\n",
    "The Normal Equation is a closed-form solution to this problem."
   ]
  },
  {
   "cell_type": "markdown",
   "metadata": {},
   "source": [
    "*Equation 4: Normal Equation*\n",
    "\n",
    "\\begin{equation*}\n",
    "\\hat{\\boldsymbol{\\theta}} = (\\mathbf{X}^{\\mathrm{T}}\\mathbf{X})^{-1}\\mathbf{X}^{\\mathrm{T}}\\mathbf{y}\n",
    "\\end{equation*}\n",
    "\n",
    "$\n",
    "\\bullet \\;\\hat{\\boldsymbol{\\theta}}\\small{\n",
    "    \\text{ is the value of }\n",
    "    \\boldsymbol{\\theta}\n",
    "    \\text{ that minimizes the cost function }\n",
    "}.\\\\\n",
    "\\bullet \\;\\mathbf{y}\\small{\n",
    "    \\text{ is the vector of target values containing }\n",
    "    y^{(1)}\n",
    "    \\text{ to }\n",
    "    y^{(m)}\n",
    "}.\\\\\n",
    "$"
   ]
  },
  {
   "cell_type": "code",
   "execution_count": 1,
   "metadata": {
    "ExecuteTime": {
     "end_time": "2020-01-26T22:17:35.648274Z",
     "start_time": "2020-01-26T22:17:34.509669Z"
    }
   },
   "outputs": [],
   "source": [
    "import numpy as np\n",
    "import matplotlib.pyplot as plt"
   ]
  },
  {
   "cell_type": "code",
   "execution_count": 2,
   "metadata": {
    "ExecuteTime": {
     "end_time": "2020-01-26T22:17:35.908276Z",
     "start_time": "2020-01-26T22:17:35.648274Z"
    }
   },
   "outputs": [
    {
     "data": {
      "image/png": "[encoded data removed]",
      "text/plain": [
       "<Figure size 432x288 with 1 Axes>"
      ]
     },
     "metadata": {
      "needs_background": "light"
     },
     "output_type": "display_data"
    }
   ],
   "source": [
    "# Linear-ish random data to demonstrate the Normal Equation\n",
    "X = 2 * np.random.rand(100, 1)\n",
    "y = 4 + 3 * X + np.random.randn(100, 1)\n",
    "\n",
    "plt.plot(X, y, 'b.')\n",
    "plt.xlabel('X')\n",
    "plt.ylabel('y')\n",
    "plt.show()"
   ]
  },
  {
   "cell_type": "code",
   "execution_count": 3,
   "metadata": {
    "ExecuteTime": {
     "end_time": "2020-01-26T22:17:35.924248Z",
     "start_time": "2020-01-26T22:17:35.908276Z"
    }
   },
   "outputs": [
    {
     "data": {
      "text/plain": [
       "array([[4.2343548 ],\n",
       "       [2.86876433]])"
      ]
     },
     "execution_count": 3,
     "metadata": {},
     "output_type": "execute_result"
    }
   ],
   "source": [
    "# Add x0 = 1 to each instance of X\n",
    "X_b = np.c_[np.ones((100, 1)), X]\n",
    "\n",
    "# Apply the Normal Equation\n",
    "theta_best = np.linalg.inv(X_b.T.dot(X_b)).dot(X_b.T).dot(y)\n",
    "theta_best"
   ]
  },
  {
   "cell_type": "markdown",
   "metadata": {},
   "source": [
    "A perfect solution would be $\\theta_0 = 4$ and $\\theta_1 = 3$, since the random data was generated using $y = 4 + 3x_1 +$ some Gaussian noise."
   ]
  },
  {
   "cell_type": "code",
   "execution_count": 4,
   "metadata": {
    "ExecuteTime": {
     "end_time": "2020-01-26T22:17:35.946200Z",
     "start_time": "2020-01-26T22:17:35.924248Z"
    }
   },
   "outputs": [
    {
     "data": {
      "text/plain": [
       "array([[4.2343548 ],\n",
       "       [9.97188346]])"
      ]
     },
     "execution_count": 4,
     "metadata": {},
     "output_type": "execute_result"
    }
   ],
   "source": [
    "# Use the parameter vector to predict y values for x1 = 0 and x1 = 2\n",
    "X_new = np.array([[0], [2]])\n",
    "X_new_b = np.c_[np.ones((2, 1)), X_new]\n",
    "y_predict = X_new_b.dot(theta_best)\n",
    "y_predict"
   ]
  },
  {
   "cell_type": "code",
   "execution_count": 5,
   "metadata": {
    "ExecuteTime": {
     "end_time": "2020-01-26T22:17:36.162198Z",
     "start_time": "2020-01-26T22:17:35.946200Z"
    }
   },
   "outputs": [
    {
     "data": {
      "image/png": "[encoded data removed]",
      "text/plain": [
       "<Figure size 432x288 with 1 Axes>"
      ]
     },
     "metadata": {
      "needs_background": "light"
     },
     "output_type": "display_data"
    }
   ],
   "source": [
    "plt.plot(X_new, y_predict, 'r-', label='Predictions')\n",
    "plt.plot(X, y, 'b.')\n",
    "plt.axis([0, 2, 0, 15])\n",
    "plt.legend()\n",
    "plt.show()"
   ]
  },
  {
   "cell_type": "code",
   "execution_count": 6,
   "metadata": {
    "ExecuteTime": {
     "end_time": "2020-01-26T22:17:38.665490Z",
     "start_time": "2020-01-26T22:17:36.162198Z"
    }
   },
   "outputs": [
    {
     "data": {
      "text/plain": [
       "(array([4.2343548]), array([[2.86876433]]))"
      ]
     },
     "execution_count": 6,
     "metadata": {},
     "output_type": "execute_result"
    }
   ],
   "source": [
    "# Using Scikit-Learn's LinearRegression class\n",
    "from sklearn.linear_model import LinearRegression\n",
    "lin_reg = LinearRegression()\n",
    "lin_reg.fit(X, y)\n",
    "lin_reg.intercept_, lin_reg.coef_"
   ]
  },
  {
   "cell_type": "code",
   "execution_count": 7,
   "metadata": {
    "ExecuteTime": {
     "end_time": "2020-01-26T22:17:38.673532Z",
     "start_time": "2020-01-26T22:17:38.665490Z"
    }
   },
   "outputs": [
    {
     "data": {
      "text/plain": [
       "array([[4.2343548 ],\n",
       "       [9.97188346]])"
      ]
     },
     "execution_count": 7,
     "metadata": {},
     "output_type": "execute_result"
    }
   ],
   "source": [
    "lin_reg.predict(X_new)"
   ]
  },
  {
   "cell_type": "code",
   "execution_count": 8,
   "metadata": {
    "ExecuteTime": {
     "end_time": "2020-01-26T22:17:38.689494Z",
     "start_time": "2020-01-26T22:17:38.677490Z"
    }
   },
   "outputs": [
    {
     "data": {
      "text/plain": [
       "array([[4.2343548 ],\n",
       "       [2.86876433]])"
      ]
     },
     "execution_count": 8,
     "metadata": {},
     "output_type": "execute_result"
    }
   ],
   "source": [
    "# LinearRegression is based on scipy's least squares function scipy.linalg.lstsq()\n",
    "theta_best_svd, residuals, rank, s = np.linalg.lstsq(X_b, y, rcond=1e-6)\n",
    "theta_best_svd"
   ]
  },
  {
   "cell_type": "markdown",
   "metadata": {},
   "source": [
    "scipy.linalg.lstsq() computes $\\hat{\\boldsymbol{\\theta}} = \\mathbf{X}^+\\mathbf{y}$, where $\\mathbf{X}^+$ is the pseudoinverse of $\\mathbf{X}$."
   ]
  },
  {
   "cell_type": "code",
   "execution_count": 9,
   "metadata": {
    "ExecuteTime": {
     "end_time": "2020-01-26T22:17:38.705504Z",
     "start_time": "2020-01-26T22:17:38.693490Z"
    }
   },
   "outputs": [
    {
     "data": {
      "text/plain": [
       "array([[4.2343548 ],\n",
       "       [2.86876433]])"
      ]
     },
     "execution_count": 9,
     "metadata": {},
     "output_type": "execute_result"
    }
   ],
   "source": [
    "# Calculate using the pseudoinverse\n",
    "np.linalg.pinv(X_b).dot(y)"
   ]
  },
  {
   "cell_type": "markdown",
   "metadata": {},
   "source": [
    "Using the pseudoinverse is both more efficient and more general than the Normal Equation."
   ]
  },
  {
   "cell_type": "markdown",
   "metadata": {},
   "source": [
    "## Gradient Descent"
   ]
  },
  {
   "cell_type": "markdown",
   "metadata": {},
   "source": [
    "Gradient Descent is an algorithm that iteratively tweaks parameters in order to minimize a cost function (such as the MSE cost function in the case of Linear Regression). The amount the parameter changes is proportional to the slope so the steps get smaller as the parameters approach the minimum."
   ]
  },
  {
   "cell_type": "markdown",
   "metadata": {},
   "source": [
    "**Batch Gradient Descent** uses the entire training set to compute the gradients at each step."
   ]
  },
  {
   "cell_type": "markdown",
   "metadata": {},
   "source": [
    "*Equation 5: Partial derivatives of the MSE cost function*\n",
    "\n",
    "\\begin{equation*}\n",
    "\\frac{\\partial}{\\partial \\theta_j}\\text{MSE}(\\boldsymbol{\\theta}) = \n",
    "\\frac{2}{m}\\sum^m_{i=1}(\\boldsymbol{\\theta}^\\mathrm{T}\\mathbf{x}^{(i)}-y^{(i)})x^{(i)}_j\n",
    "\\end{equation*}"
   ]
  },
  {
   "cell_type": "markdown",
   "metadata": {},
   "source": [
    "*Equation 6: Gradient vector of the cost function*\n",
    "\n",
    "\\begin{equation*}\n",
    "\\nabla_{\\boldsymbol{\\theta}}\\text{MSE}(\\boldsymbol{\\theta})=\n",
    "\\begin{pmatrix}\n",
    "\\frac{\\partial}{\\partial\\theta_0}\\text{MSE}(\\boldsymbol{\\theta})\\\\\n",
    "\\frac{\\partial}{\\partial\\theta_1}\\text{MSE}(\\boldsymbol{\\theta})\\\\\n",
    "\\vdots\\\\\n",
    "\\frac{\\partial}{\\partial\\theta_n}\\text{MSE}(\\boldsymbol{\\theta})\\\\\n",
    "\\end{pmatrix}=\n",
    "\\frac{2}{m}\\mathbf{X}^\\mathrm{T}(\\mathbf{X}\\boldsymbol{\\theta}-\\mathbf{y})\n",
    "\\end{equation*}"
   ]
  },
  {
   "cell_type": "markdown",
   "metadata": {},
   "source": [
    "*Equation 7: Gradient Descent step*\n",
    "\n",
    "\\begin{equation*}\n",
    "\\boldsymbol{\\theta}^\\text{(next step)}=\\boldsymbol{\\theta}-\\eta\\nabla_\\boldsymbol{\\theta}\\text{MSE}(\\boldsymbol{\\theta})\n",
    "\\end{equation*}"
   ]
  },
  {
   "cell_type": "markdown",
   "metadata": {},
   "source": [
    "$\\eta$ represents the learning rate hyperparameter, which determines the size of each step."
   ]
  },
  {
   "cell_type": "code",
   "execution_count": 10,
   "metadata": {
    "ExecuteTime": {
     "end_time": "2020-01-26T22:52:17.500214Z",
     "start_time": "2020-01-26T22:52:17.480185Z"
    }
   },
   "outputs": [],
   "source": [
    "# Hyperparameters\n",
    "eta = 0.1\n",
    "n_iterations = 1000\n",
    "m = 100\n",
    "\n",
    "# Some random initialization\n",
    "theta = np.random.randn(2, 1)\n",
    "\n",
    "for iteration in range(n_iterations):\n",
    "    gradients = 2/m * X_b.T.dot(X_b.dot(theta) - y)\n",
    "    theta = theta - eta * gradients"
   ]
  },
  {
   "cell_type": "code",
   "execution_count": 11,
   "metadata": {
    "ExecuteTime": {
     "end_time": "2020-01-26T22:52:20.306541Z",
     "start_time": "2020-01-26T22:52:20.298541Z"
    }
   },
   "outputs": [
    {
     "data": {
      "text/plain": [
       "array([[4.2343548 ],\n",
       "       [2.86876433]])"
      ]
     },
     "execution_count": 11,
     "metadata": {},
     "output_type": "execute_result"
    }
   ],
   "source": [
    "theta"
   ]
  },
  {
   "cell_type": "markdown",
   "metadata": {},
   "source": [
    "This is the same result as from the Normal Equation. If $\\eta$ was set to a smaller value, it would take much longer to converge; if it was larger, it would likely overshoot and diverge."
   ]
  },
  {
   "cell_type": "markdown",
   "metadata": {},
   "source": [
    "**Stochastic Gradient Descent** uses a random instance in the training set for each step to compute the gradients. This is faster and scales better than Batch Gradient Descent, but will take more iterations to determine less optimal final parameters.\n",
    "\n",
    "The random nature of this algorithm makes it less likely to get caught in local optima, but since it can't converge like Batch Gradient descent the learning rate must be handled differently.\n",
    "\n",
    "One example is a learning schedule, which reduces the learning rate over the number of iterations."
   ]
  },
  {
   "cell_type": "code",
   "execution_count": 15,
   "metadata": {
    "ExecuteTime": {
     "end_time": "2020-01-26T23:19:49.885453Z",
     "start_time": "2020-01-26T23:19:49.877420Z"
    }
   },
   "outputs": [],
   "source": [
    "n_epochs = 50\n",
    "t0, t1 = 5, 50\n",
    "\n",
    "def learning_schedule(t):\n",
    "    return t0 / (t + t1)"
   ]
  },
  {
   "cell_type": "code",
   "execution_count": 16,
   "metadata": {
    "ExecuteTime": {
     "end_time": "2020-01-26T23:21:38.040271Z",
     "start_time": "2020-01-26T23:21:37.906234Z"
    }
   },
   "outputs": [],
   "source": [
    "theta = np.random.randn(2, 1)\n",
    "\n",
    "for epoch in range(n_epochs):\n",
    "    for i in range(m):\n",
    "        random_index = np.random.randint(m)\n",
    "        xi = X_b[random_index:random_index+1]\n",
    "        yi = y[random_index:random_index+1]\n",
    "        gradients = 2 * xi.T.dot(xi.dot(theta) - yi)\n",
    "        eta = learning_schedule(epoch * m + i)\n",
    "        theta = theta - eta * gradients"
   ]
  },
  {
   "cell_type": "code",
   "execution_count": 17,
   "metadata": {
    "ExecuteTime": {
     "end_time": "2020-01-26T23:21:40.112656Z",
     "start_time": "2020-01-26T23:21:40.104627Z"
    }
   },
   "outputs": [
    {
     "data": {
      "text/plain": [
       "array([[4.20540025],\n",
       "       [2.84334429]])"
      ]
     },
     "execution_count": 17,
     "metadata": {},
     "output_type": "execute_result"
    }
   ],
   "source": [
    "theta"
   ]
  },
  {
   "cell_type": "code",
   "execution_count": 18,
   "metadata": {
    "ExecuteTime": {
     "end_time": "2020-01-26T23:27:13.332743Z",
     "start_time": "2020-01-26T23:27:13.312713Z"
    }
   },
   "outputs": [
    {
     "data": {
      "text/plain": [
       "SGDRegressor(alpha=0.0001, average=False, early_stopping=False, epsilon=0.1,\n",
       "             eta0=0.1, fit_intercept=True, l1_ratio=0.15,\n",
       "             learning_rate='invscaling', loss='squared_loss', max_iter=1000,\n",
       "             n_iter_no_change=5, penalty=None, power_t=0.25, random_state=None,\n",
       "             shuffle=True, tol=0.001, validation_fraction=0.1, verbose=0,\n",
       "             warm_start=False)"
      ]
     },
     "execution_count": 18,
     "metadata": {},
     "output_type": "execute_result"
    }
   ],
   "source": [
    "from sklearn.linear_model import SGDRegressor\n",
    "\n",
    "# This will continue for 1000 epochs or until the loss drops by less than 0.001 (tolerance)\n",
    "sgd_reg = SGDRegressor(max_iter=1000, tol=1e-3, penalty=None, eta0=0.1)\n",
    "sgd_reg.fit(X, y.ravel())"
   ]
  },
  {
   "cell_type": "code",
   "execution_count": 20,
   "metadata": {
    "ExecuteTime": {
     "end_time": "2020-01-26T23:27:27.992632Z",
     "start_time": "2020-01-26T23:27:27.984631Z"
    }
   },
   "outputs": [
    {
     "data": {
      "text/plain": [
       "(array([4.21996728]), array([2.84857009]))"
      ]
     },
     "execution_count": 20,
     "metadata": {},
     "output_type": "execute_result"
    }
   ],
   "source": [
    "sgd_reg.intercept_, sgd_reg.coef_"
   ]
  },
  {
   "cell_type": "markdown",
   "metadata": {},
   "source": [
    "**Mini-batch Gradient Descent** provides a compromise between Stochastic and Batch Gradient Descent algorithms, in that it iterates over small batches of random instances for each step. It is both faster than Batch and less erratic than Stochastic."
   ]
  },
  {
   "cell_type": "code",
   "execution_count": 24,
   "metadata": {
    "ExecuteTime": {
     "end_time": "2020-01-26T23:34:04.272634Z",
     "start_time": "2020-01-26T23:34:04.256605Z"
    }
   },
   "outputs": [],
   "source": [
    "n_iterations = 50\n",
    "minibatch_size = 20\n",
    "\n",
    "np.random.seed(42)\n",
    "theta = np.random.randn(2,1)\n",
    "\n",
    "t0, t1 = 200, 1000\n",
    "\n",
    "t = 0\n",
    "for epoch in range(n_iterations):\n",
    "    shuffled_indices = np.random.permutation(m)\n",
    "    X_b_shuffled = X_b[shuffled_indices]\n",
    "    y_shuffled = y[shuffled_indices]\n",
    "    for i in range(0, m, minibatch_size):\n",
    "        t += 1\n",
    "        xi = X_b_shuffled[i:i+minibatch_size]\n",
    "        yi = y_shuffled[i:i+minibatch_size]\n",
    "        gradients = 2/minibatch_size * xi.T.dot(xi.dot(theta) - yi)\n",
    "        eta = learning_schedule(t)\n",
    "        theta = theta - eta * gradients"
   ]
  },
  {
   "cell_type": "code",
   "execution_count": 25,
   "metadata": {
    "ExecuteTime": {
     "end_time": "2020-01-26T23:34:06.288026Z",
     "start_time": "2020-01-26T23:34:06.280019Z"
    }
   },
   "outputs": [
    {
     "data": {
      "text/plain": [
       "array([[4.23679646],\n",
       "       [2.88034298]])"
      ]
     },
     "execution_count": 25,
     "metadata": {},
     "output_type": "execute_result"
    }
   ],
   "source": [
    "theta"
   ]
  },
  {
   "cell_type": "code",
   "execution_count": null,
   "metadata": {},
   "outputs": [],
   "source": []
  }
 ],
 "metadata": {
  "kernelspec": {
   "display_name": "Python 3",
   "language": "python",
   "name": "python3"
  },
  "language_info": {
   "codemirror_mode": {
    "name": "ipython",
    "version": 3
   },
   "file_extension": ".py",
   "mimetype": "text/x-python",
   "name": "python",
   "nbconvert_exporter": "python",
   "pygments_lexer": "ipython3",
   "version": "3.7.6"
  }
 },
 "nbformat": 4,
 "nbformat_minor": 2
}
