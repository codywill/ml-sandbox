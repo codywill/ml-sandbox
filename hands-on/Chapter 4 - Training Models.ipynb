{
 "cells": [
  {
   "cell_type": "markdown",
   "metadata": {},
   "source": [
    "This chapter discusses how the following training algorithms behave under the hood: \n",
    "- Linear Regression\n",
    "- Polynomial Regression\n",
    "- Logistic Regression\n",
    "- Softmax Regression"
   ]
  },
  {
   "cell_type": "markdown",
   "metadata": {},
   "source": [
    "# Linear Regression"
   ]
  },
  {
   "cell_type": "markdown",
   "metadata": {},
   "source": [
    "*Equation 1: Linear Regression model prediction*\n",
    "\n",
    "\\begin{equation*}\n",
    "\\hat{y} = \\theta_0 + \\theta_1x_1 + \\theta_2x_2\\;+\\;...\\;+\\;\\theta_nx_n\n",
    "\\end{equation*}\n",
    "\n",
    "$\n",
    "\\bullet \\;\\hat{y}\\small{\\text{ is the predicted value.}}\\\\\n",
    "\\bullet n\\small{\\text{ is the number of features.}}\\\\\n",
    "\\bullet x_i\\small{\\text{ is the }i^{th}\\text{ feature value.}}\\\\\n",
    "$"
   ]
  },
  {
   "cell_type": "markdown",
   "metadata": {},
   "source": [
    "*Equation 2: Linear Regression model prediction (vectorized form)*\n",
    "\n",
    "\\begin{equation*}\n",
    "\\hat{y} = h_\\boldsymbol{\\theta}(\\mathbf{x}) = \\boldsymbol{\\theta}\\cdot\\mathbf{x}\n",
    "\\end{equation*}\n",
    "\n",
    "$\n",
    "\\bullet \\;\\boldsymbol{\\theta}\\small{\n",
    "    \\text{ is the model's parameter vector, containing the bias term }\n",
    "    \\theta_0\n",
    "    \\text{ and the feature weights }\n",
    "    \\theta_1\n",
    "    \\text{ to }\n",
    "    \\theta_n\n",
    "}.\\\\\n",
    "\\bullet \\;\\mathbf{x}\\small{\n",
    "    \\text{ is the instance's feature vector, containing }\n",
    "    x_0\n",
    "    \\text{ to }\n",
    "    x_n\n",
    "    \\text{, with }\n",
    "    x_0\n",
    "    \\text{ always equal to 1}\n",
    "}.\\\\\n",
    "\\bullet \\;\\boldsymbol{\\theta}\\cdot\\mathbf{x}\\small{\n",
    "    \\text{ is the dot product of the vectors }\n",
    "    \\boldsymbol{\\theta}\n",
    "    \\text{ and }\n",
    "    \\mathbf{x}\n",
    "    \\text{, which is equal to }\n",
    "    \\theta_0 + \\theta_1x_1 + \\theta_2x_2\\;+\\;...\\;+\\;\\theta_nx_n\n",
    "}.\\\\\n",
    "\\bullet \\;h_\\boldsymbol{\\theta}\\small{\n",
    "    \\text{ is the hypothesis function, using the model parameters }\n",
    "    \\boldsymbol{\\theta}\n",
    "}.\\\\\n",
    "$"
   ]
  },
  {
   "cell_type": "markdown",
   "metadata": {},
   "source": [
    "*Equation 3: Mean Square Error (MSE) cost function for a Linear Regression model*\n",
    "\n",
    "\\begin{equation*}\n",
    "\\text{MSE}(\\mathbf{X}, h_\\boldsymbol{\\theta}) = \\frac{1}{m}\\sum_{i=1}^m (\\boldsymbol{\\theta}^\\mathsf{T}\\mathbf{x}^{(i)}-y^{(i)})^2\n",
    "\\end{equation*}"
   ]
  },
  {
   "cell_type": "markdown",
   "metadata": {},
   "source": [
    "Training Linear Regression models involves finding a parameter vector that minimizes the Root Mean Square Error (RMSE).\n",
    "\n",
    "The Normal Equation is a closed-form solution to this problem."
   ]
  },
  {
   "cell_type": "markdown",
   "metadata": {},
   "source": [
    "*Equation 4: Normal Equation*\n",
    "\n",
    "\\begin{equation*}\n",
    "\\hat{\\boldsymbol{\\theta}} = (\\mathbf{X}^{\\mathsf{T}}\\mathbf{X})^{-1}\\mathbf{X}^{\\mathsf{T}}\\mathbf{y}\n",
    "\\end{equation*}\n",
    "\n",
    "$\n",
    "\\bullet \\;\\hat{\\boldsymbol{\\theta}}\\small{\n",
    "    \\text{ is the value of }\n",
    "    \\boldsymbol{\\theta}\n",
    "    \\text{ that minimizes the cost function }\n",
    "}.\\\\\n",
    "\\bullet \\;\\mathbf{y}\\small{\n",
    "    \\text{ is the vector of target values containing }\n",
    "    y^{(1)}\n",
    "    \\text{ to }\n",
    "    y^{(m)}\n",
    "}.\\\\\n",
    "$"
   ]
  },
  {
   "cell_type": "code",
   "execution_count": 1,
   "metadata": {
    "ExecuteTime": {
     "end_time": "2020-02-13T06:45:04.775879Z",
     "start_time": "2020-02-13T06:45:04.771890Z"
    }
   },
   "outputs": [],
   "source": [
    "import numpy as np\n",
    "import matplotlib.pyplot as plt"
   ]
  },
  {
   "cell_type": "code",
   "execution_count": 2,
   "metadata": {
    "ExecuteTime": {
     "end_time": "2020-02-13T06:45:04.964404Z",
     "start_time": "2020-02-13T06:45:04.779868Z"
    }
   },
   "outputs": [
    {
     "data": {
      "image/png": "[encoded data removed]",
      "text/plain": [
       "<Figure size 432x288 with 1 Axes>"
      ]
     },
     "metadata": {
      "needs_background": "light"
     },
     "output_type": "display_data"
    }
   ],
   "source": [
    "# Linear-ish random data to demonstrate the Normal Equation\n",
    "X = 2 * np.random.rand(100, 1)\n",
    "y = 4 + 3 * X + np.random.randn(100, 1)\n",
    "\n",
    "plt.plot(X, y, 'b.')\n",
    "plt.xlabel('X')\n",
    "plt.ylabel('y')\n",
    "plt.show()"
   ]
  },
  {
   "cell_type": "code",
   "execution_count": 3,
   "metadata": {
    "ExecuteTime": {
     "end_time": "2020-02-13T06:45:04.976343Z",
     "start_time": "2020-02-13T06:45:04.966366Z"
    }
   },
   "outputs": [
    {
     "data": {
      "text/plain": [
       "array([[3.949874  ],\n",
       "       [3.09991634]])"
      ]
     },
     "execution_count": 3,
     "metadata": {},
     "output_type": "execute_result"
    }
   ],
   "source": [
    "# Add x0 = 1 to each instance of X\n",
    "X_b = np.c_[np.ones((100, 1)), X]\n",
    "\n",
    "# Apply the Normal Equation\n",
    "theta_best = np.linalg.inv(X_b.T.dot(X_b)).dot(X_b.T).dot(y)\n",
    "theta_best"
   ]
  },
  {
   "cell_type": "markdown",
   "metadata": {},
   "source": [
    "A perfect solution would be $\\theta_0 = 4$ and $\\theta_1 = 3$, since the random data was generated using $y = 4 + 3x_1 +$ some Gaussian noise."
   ]
  },
  {
   "cell_type": "code",
   "execution_count": 4,
   "metadata": {
    "ExecuteTime": {
     "end_time": "2020-02-13T06:45:04.986313Z",
     "start_time": "2020-02-13T06:45:04.978337Z"
    }
   },
   "outputs": [
    {
     "data": {
      "text/plain": [
       "array([[ 3.949874  ],\n",
       "       [10.14970668]])"
      ]
     },
     "execution_count": 4,
     "metadata": {},
     "output_type": "execute_result"
    }
   ],
   "source": [
    "# Use the parameter vector to predict y values for x1 = 0 and x1 = 2\n",
    "X_new = np.array([[0], [2]])\n",
    "X_new_b = np.c_[np.ones((2, 1)), X_new]\n",
    "y_predict = X_new_b.dot(theta_best)\n",
    "y_predict"
   ]
  },
  {
   "cell_type": "code",
   "execution_count": 5,
   "metadata": {
    "ExecuteTime": {
     "end_time": "2020-02-13T06:45:05.231686Z",
     "start_time": "2020-02-13T06:45:04.988308Z"
    }
   },
   "outputs": [
    {
     "data": {
      "image/png": "[encoded data removed]",
      "text/plain": [
       "<Figure size 432x288 with 1 Axes>"
      ]
     },
     "metadata": {
      "needs_background": "light"
     },
     "output_type": "display_data"
    }
   ],
   "source": [
    "plt.plot(X_new, y_predict, 'r-', label='Predictions')\n",
    "plt.plot(X, y, 'b.')\n",
    "plt.axis([0, 2, 0, 15])\n",
    "plt.legend()\n",
    "plt.show()"
   ]
  },
  {
   "cell_type": "code",
   "execution_count": 6,
   "metadata": {
    "ExecuteTime": {
     "end_time": "2020-02-13T06:45:05.552479Z",
     "start_time": "2020-02-13T06:45:05.233681Z"
    }
   },
   "outputs": [
    {
     "data": {
      "text/plain": [
       "(array([3.949874]), array([[3.09991634]]))"
      ]
     },
     "execution_count": 6,
     "metadata": {},
     "output_type": "execute_result"
    }
   ],
   "source": [
    "# Using Scikit-Learn's LinearRegression class\n",
    "from sklearn.linear_model import LinearRegression\n",
    "lin_reg = LinearRegression()\n",
    "lin_reg.fit(X, y)\n",
    "lin_reg.intercept_, lin_reg.coef_"
   ]
  },
  {
   "cell_type": "code",
   "execution_count": 7,
   "metadata": {
    "ExecuteTime": {
     "end_time": "2020-02-13T06:45:05.562425Z",
     "start_time": "2020-02-13T06:45:05.555442Z"
    }
   },
   "outputs": [
    {
     "data": {
      "text/plain": [
       "array([[ 3.949874  ],\n",
       "       [10.14970668]])"
      ]
     },
     "execution_count": 7,
     "metadata": {},
     "output_type": "execute_result"
    }
   ],
   "source": [
    "lin_reg.predict(X_new)"
   ]
  },
  {
   "cell_type": "code",
   "execution_count": 8,
   "metadata": {
    "ExecuteTime": {
     "end_time": "2020-02-13T06:45:05.574390Z",
     "start_time": "2020-02-13T06:45:05.565417Z"
    }
   },
   "outputs": [
    {
     "data": {
      "text/plain": [
       "array([[3.949874  ],\n",
       "       [3.09991634]])"
      ]
     },
     "execution_count": 8,
     "metadata": {},
     "output_type": "execute_result"
    }
   ],
   "source": [
    "# LinearRegression is based on scipy's least squares function scipy.linalg.lstsq()\n",
    "theta_best_svd, residuals, rank, s = np.linalg.lstsq(X_b, y, rcond=1e-6)\n",
    "theta_best_svd"
   ]
  },
  {
   "cell_type": "markdown",
   "metadata": {},
   "source": [
    "scipy.linalg.lstsq() computes $\\hat{\\boldsymbol{\\theta}} = \\mathbf{X}^+\\mathbf{y}$, where $\\mathbf{X}^+$ is the pseudoinverse of $\\mathbf{X}$."
   ]
  },
  {
   "cell_type": "code",
   "execution_count": 9,
   "metadata": {
    "ExecuteTime": {
     "end_time": "2020-02-13T06:45:05.586388Z",
     "start_time": "2020-02-13T06:45:05.577386Z"
    }
   },
   "outputs": [
    {
     "data": {
      "text/plain": [
       "array([[3.949874  ],\n",
       "       [3.09991634]])"
      ]
     },
     "execution_count": 9,
     "metadata": {},
     "output_type": "execute_result"
    }
   ],
   "source": [
    "# Calculate using the pseudoinverse\n",
    "np.linalg.pinv(X_b).dot(y)"
   ]
  },
  {
   "cell_type": "markdown",
   "metadata": {},
   "source": [
    "Using the pseudoinverse is both more efficient and more general than the Normal Equation."
   ]
  },
  {
   "cell_type": "markdown",
   "metadata": {},
   "source": [
    "## Gradient Descent"
   ]
  },
  {
   "cell_type": "markdown",
   "metadata": {},
   "source": [
    "Gradient Descent is an algorithm that iteratively tweaks parameters in order to minimize a cost function (such as the MSE cost function in the case of Linear Regression). The amount the parameter changes is proportional to the slope so the steps get smaller as the parameters approach the minimum."
   ]
  },
  {
   "cell_type": "markdown",
   "metadata": {},
   "source": [
    "**Batch Gradient Descent** uses the entire training set to compute the gradients at each step."
   ]
  },
  {
   "cell_type": "markdown",
   "metadata": {},
   "source": [
    "*Equation 5: Partial derivatives of the MSE cost function*\n",
    "\n",
    "\\begin{equation*}\n",
    "\\frac{\\partial}{\\partial \\theta_j}\\text{MSE}(\\boldsymbol{\\theta}) = \n",
    "\\frac{2}{m}\\sum^m_{i=1}(\\boldsymbol{\\theta}^\\mathsf{T}\\mathbf{x}^{(i)}-y^{(i)})x^{(i)}_j\n",
    "\\end{equation*}"
   ]
  },
  {
   "cell_type": "markdown",
   "metadata": {},
   "source": [
    "*Equation 6: Gradient vector of the cost function*\n",
    "\n",
    "\\begin{equation*}\n",
    "\\nabla_{\\boldsymbol{\\theta}}\\text{MSE}(\\boldsymbol{\\theta})=\n",
    "\\begin{pmatrix}\n",
    "\\frac{\\partial}{\\partial\\theta_0}\\text{MSE}(\\boldsymbol{\\theta})\\\\\n",
    "\\frac{\\partial}{\\partial\\theta_1}\\text{MSE}(\\boldsymbol{\\theta})\\\\\n",
    "\\vdots\\\\\n",
    "\\frac{\\partial}{\\partial\\theta_n}\\text{MSE}(\\boldsymbol{\\theta})\\\\\n",
    "\\end{pmatrix}=\n",
    "\\frac{2}{m}\\mathbf{X}^\\mathsf{T}(\\mathbf{X}\\boldsymbol{\\theta}-\\mathbf{y})\n",
    "\\end{equation*}"
   ]
  },
  {
   "cell_type": "markdown",
   "metadata": {},
   "source": [
    "*Equation 7: Gradient Descent step*\n",
    "\n",
    "\\begin{equation*}\n",
    "\\boldsymbol{\\theta}^\\text{(next step)}=\\boldsymbol{\\theta}-\\eta\\nabla_\\boldsymbol{\\theta}\\text{MSE}(\\boldsymbol{\\theta})\n",
    "\\end{equation*}"
   ]
  },
  {
   "cell_type": "markdown",
   "metadata": {},
   "source": [
    "$\\eta$ represents the learning rate hyperparameter, which determines the size of each step."
   ]
  },
  {
   "cell_type": "code",
   "execution_count": 10,
   "metadata": {
    "ExecuteTime": {
     "end_time": "2020-02-13T06:45:05.604340Z",
     "start_time": "2020-02-13T06:45:05.588354Z"
    }
   },
   "outputs": [],
   "source": [
    "# Hyperparameters\n",
    "eta = 0.1\n",
    "n_iterations = 1000\n",
    "m = 100\n",
    "\n",
    "# Some random initialization\n",
    "theta = np.random.randn(2, 1)\n",
    "\n",
    "for iteration in range(n_iterations):\n",
    "    gradients = 2/m * X_b.T.dot(X_b.dot(theta) - y)\n",
    "    theta = theta - eta * gradients"
   ]
  },
  {
   "cell_type": "code",
   "execution_count": 11,
   "metadata": {
    "ExecuteTime": {
     "end_time": "2020-02-13T06:45:05.614286Z",
     "start_time": "2020-02-13T06:45:05.606308Z"
    }
   },
   "outputs": [
    {
     "data": {
      "text/plain": [
       "array([[3.949874  ],\n",
       "       [3.09991634]])"
      ]
     },
     "execution_count": 11,
     "metadata": {},
     "output_type": "execute_result"
    }
   ],
   "source": [
    "theta"
   ]
  },
  {
   "cell_type": "markdown",
   "metadata": {},
   "source": [
    "This is the same result as from the Normal Equation. If $\\eta$ was set to a smaller value, it would take much longer to converge; if it was larger, it would likely overshoot and diverge."
   ]
  },
  {
   "cell_type": "markdown",
   "metadata": {},
   "source": [
    "**Stochastic Gradient Descent** uses a random instance in the training set for each step to compute the gradients. This is faster and scales better than Batch Gradient Descent, but will take more iterations to determine less optimal final parameters.\n",
    "\n",
    "The random nature of this algorithm makes it less likely to get caught in local optima, but since it can't converge like Batch Gradient descent the learning rate must be handled differently.\n",
    "\n",
    "One example is a learning schedule, which reduces the learning rate over the number of iterations."
   ]
  },
  {
   "cell_type": "code",
   "execution_count": 12,
   "metadata": {
    "ExecuteTime": {
     "end_time": "2020-02-13T06:45:05.622297Z",
     "start_time": "2020-02-13T06:45:05.617275Z"
    }
   },
   "outputs": [],
   "source": [
    "n_epochs = 50\n",
    "t0, t1 = 5, 50\n",
    "\n",
    "def learning_schedule(t):\n",
    "    return t0 / (t + t1)"
   ]
  },
  {
   "cell_type": "code",
   "execution_count": 13,
   "metadata": {
    "ExecuteTime": {
     "end_time": "2020-02-13T06:45:05.766953Z",
     "start_time": "2020-02-13T06:45:05.625285Z"
    }
   },
   "outputs": [],
   "source": [
    "theta = np.random.randn(2, 1)\n",
    "\n",
    "for epoch in range(n_epochs):\n",
    "    for i in range(m):\n",
    "        random_index = np.random.randint(m)\n",
    "        xi = X_b[random_index:random_index+1]\n",
    "        yi = y[random_index:random_index+1]\n",
    "        gradients = 2 * xi.T.dot(xi.dot(theta) - yi)\n",
    "        eta = learning_schedule(epoch * m + i)\n",
    "        theta = theta - eta * gradients"
   ]
  },
  {
   "cell_type": "code",
   "execution_count": 14,
   "metadata": {
    "ExecuteTime": {
     "end_time": "2020-02-13T06:45:05.774871Z",
     "start_time": "2020-02-13T06:45:05.768900Z"
    }
   },
   "outputs": [
    {
     "data": {
      "text/plain": [
       "array([[3.92845484],\n",
       "       [3.09358742]])"
      ]
     },
     "execution_count": 14,
     "metadata": {},
     "output_type": "execute_result"
    }
   ],
   "source": [
    "theta"
   ]
  },
  {
   "cell_type": "code",
   "execution_count": 15,
   "metadata": {
    "ExecuteTime": {
     "end_time": "2020-02-13T06:45:05.789844Z",
     "start_time": "2020-02-13T06:45:05.776851Z"
    }
   },
   "outputs": [
    {
     "data": {
      "text/plain": [
       "SGDRegressor(alpha=0.0001, average=False, early_stopping=False, epsilon=0.1,\n",
       "             eta0=0.1, fit_intercept=True, l1_ratio=0.15,\n",
       "             learning_rate='invscaling', loss='squared_loss', max_iter=1000,\n",
       "             n_iter_no_change=5, penalty=None, power_t=0.25, random_state=None,\n",
       "             shuffle=True, tol=0.001, validation_fraction=0.1, verbose=0,\n",
       "             warm_start=False)"
      ]
     },
     "execution_count": 15,
     "metadata": {},
     "output_type": "execute_result"
    }
   ],
   "source": [
    "from sklearn.linear_model import SGDRegressor\n",
    "\n",
    "# This will continue for 1000 epochs or until the loss drops by less than 0.001 (tolerance)\n",
    "sgd_reg = SGDRegressor(max_iter=1000, tol=1e-3, penalty=None, eta0=0.1)\n",
    "sgd_reg.fit(X, y.ravel())"
   ]
  },
  {
   "cell_type": "code",
   "execution_count": 16,
   "metadata": {
    "ExecuteTime": {
     "end_time": "2020-02-13T06:45:05.800788Z",
     "start_time": "2020-02-13T06:45:05.791813Z"
    }
   },
   "outputs": [
    {
     "data": {
      "text/plain": [
       "(array([3.96150945]), array([3.10953978]))"
      ]
     },
     "execution_count": 16,
     "metadata": {},
     "output_type": "execute_result"
    }
   ],
   "source": [
    "sgd_reg.intercept_, sgd_reg.coef_"
   ]
  },
  {
   "cell_type": "markdown",
   "metadata": {},
   "source": [
    "**Mini-batch Gradient Descent** provides a compromise between Stochastic and Batch Gradient Descent algorithms, in that it iterates over small batches of random instances for each step. It is both faster than Batch and less erratic than Stochastic."
   ]
  },
  {
   "cell_type": "code",
   "execution_count": 17,
   "metadata": {
    "ExecuteTime": {
     "end_time": "2020-02-13T06:45:05.821759Z",
     "start_time": "2020-02-13T06:45:05.803778Z"
    }
   },
   "outputs": [],
   "source": [
    "n_iterations = 50\n",
    "minibatch_size = 20\n",
    "\n",
    "np.random.seed(42)\n",
    "theta = np.random.randn(2,1)\n",
    "\n",
    "t0, t1 = 200, 1000\n",
    "\n",
    "t = 0\n",
    "for epoch in range(n_iterations):\n",
    "    shuffled_indices = np.random.permutation(m)\n",
    "    X_b_shuffled = X_b[shuffled_indices]\n",
    "    y_shuffled = y[shuffled_indices]\n",
    "    for i in range(0, m, minibatch_size):\n",
    "        t += 1\n",
    "        xi = X_b_shuffled[i:i+minibatch_size]\n",
    "        yi = y_shuffled[i:i+minibatch_size]\n",
    "        gradients = 2/minibatch_size * xi.T.dot(xi.dot(theta) - yi)\n",
    "        eta = learning_schedule(t)\n",
    "        theta = theta - eta * gradients"
   ]
  },
  {
   "cell_type": "code",
   "execution_count": 18,
   "metadata": {
    "ExecuteTime": {
     "end_time": "2020-02-13T06:45:05.829711Z",
     "start_time": "2020-02-13T06:45:05.823727Z"
    }
   },
   "outputs": [
    {
     "data": {
      "text/plain": [
       "array([[3.99614705],\n",
       "       [3.14629554]])"
      ]
     },
     "execution_count": 18,
     "metadata": {},
     "output_type": "execute_result"
    }
   ],
   "source": [
    "theta"
   ]
  },
  {
   "cell_type": "markdown",
   "metadata": {},
   "source": [
    "# Polynomial Regression\n",
    "\n",
    "Polynomial regression involves using a linear model to fit nonlinear data by adding new features in the form of powers of existing features."
   ]
  },
  {
   "cell_type": "code",
   "execution_count": 19,
   "metadata": {
    "ExecuteTime": {
     "end_time": "2020-02-13T06:55:35.687320Z",
     "start_time": "2020-02-13T06:55:35.681335Z"
    }
   },
   "outputs": [],
   "source": [
    "# Generate a sample of nonlinear data using the quadratic equation\n",
    "np.random.seed(47)\n",
    "m = 100\n",
    "X = 3 * np.random.rand(m, 1)\n",
    "y = 0.5 * X**2 + X * 2 + np.random.randn(m, 1) / 1.5"
   ]
  },
  {
   "cell_type": "code",
   "execution_count": 20,
   "metadata": {
    "ExecuteTime": {
     "end_time": "2020-02-13T06:45:06.046130Z",
     "start_time": "2020-02-13T06:45:05.846666Z"
    }
   },
   "outputs": [
    {
     "data": {
      "image/png": "[encoded data removed]",
      "text/plain": [
       "<Figure size 432x288 with 1 Axes>"
      ]
     },
     "metadata": {
      "needs_background": "light"
     },
     "output_type": "display_data"
    }
   ],
   "source": [
    "plt.scatter(X, y)\n",
    "plt.show()"
   ]
  },
  {
   "cell_type": "code",
   "execution_count": 21,
   "metadata": {
    "ExecuteTime": {
     "end_time": "2020-02-13T06:58:30.788170Z",
     "start_time": "2020-02-13T06:58:30.780190Z"
    }
   },
   "outputs": [
    {
     "data": {
      "text/plain": [
       "(array([0.34046542]), array([0.1159167]))"
      ]
     },
     "execution_count": 21,
     "metadata": {},
     "output_type": "execute_result"
    }
   ],
   "source": [
    "# PolynomialFeatures can generate powers of features through transformation\n",
    "from sklearn.preprocessing import PolynomialFeatures\n",
    "poly_features = PolynomialFeatures(degree=2, include_bias=False)\n",
    "X_poly = poly_features.fit_transform(X)\n",
    "\n",
    "# Expected result\n",
    "X[0], X[0] ** 2"
   ]
  },
  {
   "cell_type": "code",
   "execution_count": 22,
   "metadata": {
    "ExecuteTime": {
     "end_time": "2020-02-13T06:58:30.865970Z",
     "start_time": "2020-02-13T06:58:30.858000Z"
    }
   },
   "outputs": [
    {
     "data": {
      "text/plain": [
       "array([0.34046542, 0.1159167 ])"
      ]
     },
     "execution_count": 22,
     "metadata": {},
     "output_type": "execute_result"
    }
   ],
   "source": [
    "# New feature set\n",
    "X_poly[0]"
   ]
  },
  {
   "cell_type": "code",
   "execution_count": 23,
   "metadata": {
    "ExecuteTime": {
     "end_time": "2020-02-13T06:56:58.105513Z",
     "start_time": "2020-02-13T06:56:58.097534Z"
    }
   },
   "outputs": [
    {
     "data": {
      "text/plain": [
       "(array([0.44762828]), array([[1.3464956 , 0.71105187]]))"
      ]
     },
     "execution_count": 23,
     "metadata": {},
     "output_type": "execute_result"
    }
   ],
   "source": [
    "# Train a linear regression model with the new feature set\n",
    "lin_reg = LinearRegression()\n",
    "lin_reg.fit(X_poly, y)\n",
    "\n",
    "lin_reg.intercept_, lin_reg.coef_"
   ]
  },
  {
   "cell_type": "code",
   "execution_count": 24,
   "metadata": {
    "ExecuteTime": {
     "end_time": "2020-02-13T06:57:01.025229Z",
     "start_time": "2020-02-13T06:57:01.017250Z"
    }
   },
   "outputs": [],
   "source": [
    "# Generate some test data and transform it\n",
    "X_new = np.linspace(0, 3, 100).reshape(100, 1)\n",
    "X_new_poly = poly_features.transform(X_new)\n",
    "\n",
    "# Predict the output\n",
    "y_new = lin_reg.predict(X_new_poly)"
   ]
  },
  {
   "cell_type": "code",
   "execution_count": 25,
   "metadata": {
    "ExecuteTime": {
     "end_time": "2020-02-13T06:57:02.296044Z",
     "start_time": "2020-02-13T06:57:02.122075Z"
    }
   },
   "outputs": [
    {
     "data": {
      "image/png": "[encoded data removed]",
      "text/plain": [
       "<Figure size 432x288 with 1 Axes>"
      ]
     },
     "metadata": {
      "needs_background": "light"
     },
     "output_type": "display_data"
    }
   ],
   "source": [
    "# Check the fit\n",
    "plt.scatter(X, y)\n",
    "plt.plot(X_new, y_new, 'r-')\n",
    "plt.show()"
   ]
  },
  {
   "cell_type": "markdown",
   "metadata": {},
   "source": [
    "# Learning Curves\n",
    "\n",
    "Changing the degree for Polynomial Regression will impact the fit quality. A purely linear model (or first-degree polynomial) would underfit this data, whereas a 300-degree polynomial would overfit.\n",
    "\n",
    "**Learning curves** are useful for visualizing a model's training performance to determine whether it is over- or underfitting the data."
   ]
  },
  {
   "cell_type": "code",
   "execution_count": 26,
   "metadata": {
    "ExecuteTime": {
     "end_time": "2020-02-13T07:18:13.526295Z",
     "start_time": "2020-02-13T07:18:13.515325Z"
    }
   },
   "outputs": [],
   "source": [
    "from sklearn.metrics import mean_squared_error\n",
    "from sklearn.model_selection import train_test_split\n",
    "\n",
    "def plot_learning_curves(model, X, y):\n",
    "    X_train, X_val, y_train, y_val = train_test_split(X, y, test_size=0.2)\n",
    "    train_errors, val_errors = [], []\n",
    "    for m in range(1, len(X_train)):\n",
    "        model.fit(X_train[:m], y_train[:m])\n",
    "        y_train_predict = model.predict(X_train[m:])\n",
    "        y_val_predict = model.predict(X_val)\n",
    "        train_errors.append(mean_squared_error(y_train[m:], y_train_predict))\n",
    "        val_errors.append(mean_squared_error(y_val, y_val_predict))\n",
    "    plt.plot(np.sqrt(train_errors), 'r-+', linewidth=2, label='Training')\n",
    "    plt.plot(np.sqrt(val_errors), 'b-', linewidth=3, label='Validation')\n",
    "    plt.legend()"
   ]
  },
  {
   "cell_type": "code",
   "execution_count": 27,
   "metadata": {
    "ExecuteTime": {
     "end_time": "2020-02-13T07:18:14.108458Z",
     "start_time": "2020-02-13T07:18:13.826366Z"
    }
   },
   "outputs": [
    {
     "data": {
      "image/png": "[encoded data removed]",
      "text/plain": [
       "<Figure size 432x288 with 1 Axes>"
      ]
     },
     "metadata": {
      "needs_background": "light"
     },
     "output_type": "display_data"
    }
   ],
   "source": [
    "lin_reg = LinearRegression()\n",
    "plot_learning_curves(lin_reg, X, y)"
   ]
  },
  {
   "cell_type": "code",
   "execution_count": 28,
   "metadata": {
    "ExecuteTime": {
     "end_time": "2020-02-13T07:22:05.315008Z",
     "start_time": "2020-02-13T07:22:04.930040Z"
    }
   },
   "outputs": [
    {
     "data": {
      "image/png": "[encoded data removed]",
      "text/plain": [
       "<Figure size 432x288 with 1 Axes>"
      ]
     },
     "metadata": {
      "needs_background": "light"
     },
     "output_type": "display_data"
    }
   ],
   "source": [
    "from sklearn.pipeline import Pipeline\n",
    "\n",
    "polynomial_regression = Pipeline([\n",
    "    ('poly_features', PolynomialFeatures(degree=10, include_bias=False)),\n",
    "    ('lin_reg', LinearRegression())\n",
    "])\n",
    "\n",
    "plot_learning_curves(polynomial_regression, X, y)"
   ]
  },
  {
   "cell_type": "markdown",
   "metadata": {},
   "source": [
    "- **Bias error** is due to inaccurate assumptions about the data, such as attempting to fit a quadratic distribution with a purely linear model. High bias error often results in underfitting.\n",
    "\n",
    "- **Variance error** is due to oversensitivity to small variations in the data, such as an overly high-degree polynomial model. High variance error often results in overfitting.\n",
    "\n",
    "- **Irreducible error** is due to noise, and can typically only be reduced by cleaning up the data."
   ]
  },
  {
   "cell_type": "markdown",
   "metadata": {},
   "source": [
    "# Regularized Linear Models\n",
    "\n",
    "One way to reduce overfitting is to regularize (or constrain) the model. Reducing the weights in linear models or the degrees in polynomial models are examples of regularization.\n",
    "\n",
    "## Ridge Regression\n",
    "\n",
    "**Ridge Regression** is a regularized version of linear regression with a regularization term added to the cost function equal to half the square of the $\\ell_2$ norm of the weight vector.\n",
    "\n",
    "*Equation 8: Ridge Regression cost function*\n",
    "\n",
    "\\begin{equation*}\n",
    "J(\\boldsymbol{\\theta})=\\text{MSE}(\\boldsymbol{\\theta})+\\alpha\\frac{1}{2}\\sum^n_{i=1}\\theta_i^2\n",
    "\\end{equation*}\n",
    "\n",
    "- Regularized cost functions are typically only used during training\n",
    "- Performance should be evaluated using the unregularized cost function ($\\alpha=0$ for ridge regression)\n",
    "- Most regularized models are sensitive to feature scale, so it is important to scale the data before fitting"
   ]
  },
  {
   "cell_type": "markdown",
   "metadata": {},
   "source": [
    "*Equation 9: Ridge Regression closed-form solution*\n",
    "\n",
    "\\begin{equation*}\n",
    "\\hat{\\boldsymbol{\\theta}}=(\\mathbf{X}^\\mathsf{T}\\mathbf{X}+\\alpha\\mathbf{A})^{-1}\\mathbf{X}^\\mathsf{T}\\mathbf{y}\n",
    "\\end{equation*}\n",
    "\n",
    "$$\n",
    "    \\mathbf{A}=\\begin{pmatrix}\n",
    "    0 & 0 & 0 & \\cdots & 0 \\\\\n",
    "    0 & 1 & 0 & \\cdots & 0 \\\\\n",
    "    0 & 0 & 1 & \\cdots & 0 \\\\\n",
    "    \\vdots & \\vdots & \\vdots & \\ddots & \\vdots \\\\\n",
    "    0 & 0 & 0 & \\cdots & 1 \\\\\n",
    "    \\end{pmatrix}\n",
    "$$"
   ]
  },
  {
   "cell_type": "code",
   "execution_count": 29,
   "metadata": {},
   "outputs": [
    {
     "data": {
      "text/plain": [
       "array([[4.55434619]])"
      ]
     },
     "execution_count": 29,
     "metadata": {},
     "output_type": "execute_result"
    }
   ],
   "source": [
    "# Applying a variation of the closed-form solution (Cholesky matrix factorization) \n",
    "from sklearn.linear_model import Ridge\n",
    "ridge_reg = Ridge(alpha=1, solver='cholesky')\n",
    "ridge_reg.fit(X, y)\n",
    "ridge_reg.predict([[1.5]])"
   ]
  },
  {
   "cell_type": "code",
   "execution_count": 30,
   "metadata": {},
   "outputs": [
    {
     "data": {
      "text/plain": [
       "array([4.62418964])"
      ]
     },
     "execution_count": 30,
     "metadata": {},
     "output_type": "execute_result"
    }
   ],
   "source": [
    "# Stochastic gradient descent with regularization term l2 (same as Ridge)\n",
    "sgd_reg = SGDRegressor(penalty='l2')\n",
    "sgd_reg.fit(X, y.ravel())\n",
    "sgd_reg.predict([[1.5]])"
   ]
  },
  {
   "cell_type": "code",
   "execution_count": 31,
   "metadata": {},
   "outputs": [],
   "source": [
    "from sklearn.preprocessing import StandardScaler\n",
    "\n",
    "def plot_model(model_class, polynomial, alphas, **model_kargs):\n",
    "    for alpha, style in zip(alphas, (\"b-\", \"g--\", \"r:\")):\n",
    "        model = model_class(alpha, **model_kargs) if alpha > 0 else LinearRegression()\n",
    "        if polynomial:\n",
    "            model = Pipeline([\n",
    "                (\"poly_features\", PolynomialFeatures(degree=10, include_bias=False)),\n",
    "                (\"std_scaler\", StandardScaler()),\n",
    "                (\"regul_reg\", model),\n",
    "            ])\n",
    "        model.fit(X, y)\n",
    "        y_new_regul = model.predict(X_new)\n",
    "        lw = 2 if alpha > 0 else 1\n",
    "        plt.plot(X_new, y_new_regul, style, linewidth=lw, label=r\"$\\alpha = {}$\".format(alpha))\n",
    "    plt.plot(X, y, \"b.\", linewidth=3)\n",
    "    plt.legend(loc=\"upper left\", fontsize=15)\n",
    "    plt.xlabel(\"$x_1$\", fontsize=18)\n",
    "    plt.axis([0, 3, 0, 12]) "
   ]
  },
  {
   "cell_type": "code",
   "execution_count": 32,
   "metadata": {},
   "outputs": [
    {
     "data": {
      "image/png": "[encoded data removed]",
      "text/plain": [
       "<Figure size 576x288 with 2 Axes>"
      ]
     },
     "metadata": {
      "needs_background": "light"
     },
     "output_type": "display_data"
    }
   ],
   "source": [
    "plt.figure(figsize=(8,4))\n",
    "\n",
    "# Linear model with different alphas\n",
    "plt.subplot(121)\n",
    "plot_model(Ridge, polynomial=False, alphas=(0, 10, 100), random_state=47)\n",
    "plt.ylabel(\"$y$\", rotation=0, fontsize=18)\n",
    "\n",
    "# Polynomial model with different alphas\n",
    "plt.subplot(122)\n",
    "plot_model(Ridge, polynomial=True, alphas=(0, 10**-5, 1), random_state=47)\n",
    "plt.show()"
   ]
  },
  {
   "cell_type": "markdown",
   "metadata": {},
   "source": [
    "## Lasso Regression\n",
    "\n",
    "**Lasso Regression** (or *Least Absolute Shrinkage and Selection Operator* Regression) is similar to Ridge Regression but uses the $\\ell_1$ norm of the weight vector.\n",
    "\n",
    "*Equation 10: Lasso Regression cost function*\n",
    "\n",
    "\\begin{equation*}\n",
    "J(\\boldsymbol{\\theta})=\\text{MSE}(\\boldsymbol{\\theta})+\\alpha\\sum^n_{i=1}|\\theta_i|\n",
    "\\end{equation*}\n",
    "\n",
    "*Equation 11: Lasso Regression subgradient vector*\n",
    "\n",
    "\\begin{equation*}\n",
    "g(\\boldsymbol{\\theta},J)=\\nabla_{\\boldsymbol{\\theta}}\\text{MSE}(\\boldsymbol{\\theta})+\\alpha\n",
    "    \\begin{pmatrix}\n",
    "    \\text{sign}(\\theta_1)\\\\\n",
    "    \\text{sign}(\\theta_2)\\\\\n",
    "    \\vdots\\\\\n",
    "    \\text{sign}(\\theta_n)\n",
    "    \\end{pmatrix}\n",
    "\\text{ where } \\text{sign}(\\theta_i)=\n",
    "    \\begin{cases}\n",
    "    -1 & \\text{ if }\\theta_i<0\\\\\n",
    "    0 & \\text{ if }\\theta_i=0\\\\\n",
    "    +1 & \\text{ if }\\theta_i>0\n",
    "    \\end{cases}\n",
    "\\end{equation*}"
   ]
  },
  {
   "cell_type": "code",
   "execution_count": 33,
   "metadata": {},
   "outputs": [
    {
     "data": {
      "text/plain": [
       "array([4.55882799])"
      ]
     },
     "execution_count": 33,
     "metadata": {},
     "output_type": "execute_result"
    }
   ],
   "source": [
    "# Applying the closed-form Lasso Regression \n",
    "from sklearn.linear_model import Lasso\n",
    "lasso_reg = Lasso(alpha=0.1)\n",
    "lasso_reg.fit(X, y)\n",
    "lasso_reg.predict([[1.5]])"
   ]
  },
  {
   "cell_type": "code",
   "execution_count": 34,
   "metadata": {},
   "outputs": [
    {
     "data": {
      "text/plain": [
       "array([4.63681952])"
      ]
     },
     "execution_count": 34,
     "metadata": {},
     "output_type": "execute_result"
    }
   ],
   "source": [
    "# Stochastic gradient descent with regularization term l1 (same as Lasso)\n",
    "sgd_reg = SGDRegressor(penalty='l1')\n",
    "sgd_reg.fit(X, y.ravel())\n",
    "sgd_reg.predict([[1.5]])"
   ]
  },
  {
   "cell_type": "code",
   "execution_count": 35,
   "metadata": {},
   "outputs": [
    {
     "name": "stderr",
     "output_type": "stream",
     "text": [
      "c:\\users\\codyt\\appdata\\local\\programs\\python\\python37\\lib\\site-packages\\sklearn\\linear_model\\_coordinate_descent.py:476: ConvergenceWarning: Objective did not converge. You might want to increase the number of iterations. Duality gap: 20.120994745503793, tolerance: 0.09165305715392237\n",
      "  positive)\n"
     ]
    },
    {
     "data": {
      "image/png": "[encoded data removed]",
      "text/plain": [
       "<Figure size 576x288 with 2 Axes>"
      ]
     },
     "metadata": {
      "needs_background": "light"
     },
     "output_type": "display_data"
    }
   ],
   "source": [
    "plt.figure(figsize=(8,4))\n",
    "\n",
    "# Linear model with different alphas\n",
    "plt.subplot(121)\n",
    "plot_model(Lasso, polynomial=False, alphas=(0, 0.1, 1), random_state=47)\n",
    "plt.ylabel(\"$y$\", rotation=0, fontsize=18)\n",
    "\n",
    "# Polynomial model with different alphas\n",
    "plt.subplot(122)\n",
    "plot_model(Lasso, polynomial=True, alphas=(0, 10**-7, 1), random_state=47)\n",
    "plt.show()"
   ]
  },
  {
   "cell_type": "markdown",
   "metadata": {},
   "source": [
    "## Elastic Net\n",
    "\n",
    "**Elastic Net** is a combination of Ridge Regression and Lasso Regression whose regularization term $r$ is between $0$ and $1$.\n",
    "\n",
    "\\begin{equation*}\n",
    "\\text{Elastic Net}=\n",
    "    \\begin{cases}\n",
    "    \\text{Ridge Regression}& \\text{ if }r=0\\\\\n",
    "    \\vdots\\\\\n",
    "    \\text{Lasso Regression}& \\text{ if }r=1\n",
    "    \\end{cases}\n",
    "\\end{equation*}\n",
    "\n",
    "*Equation 12: Elastic Net cost function*\n",
    "\n",
    "\\begin{equation*}\n",
    "J(\\boldsymbol{\\theta})=\\text{MSE}(\\boldsymbol{\\theta})+r\\alpha\\sum^n_{i=1}|\\theta_i|+\\frac{1-r}{2}\\alpha\\sum^n_{i=1}\\theta^2_i\n",
    "\\end{equation*}\n",
    "\n",
    "- Ridge is useful when all features are important\n",
    "- Lasso is better when only a few features are important\n",
    "- Elastic is preferred over Lasso when there is high feature correlation or number of features, which can make Lasso more erratic"
   ]
  },
  {
   "cell_type": "code",
   "execution_count": 36,
   "metadata": {},
   "outputs": [
    {
     "data": {
      "text/plain": [
       "array([4.56648424])"
      ]
     },
     "execution_count": 36,
     "metadata": {},
     "output_type": "execute_result"
    }
   ],
   "source": [
    "# Applying Elastic Net with r=0.5\n",
    "from sklearn.linear_model import ElasticNet\n",
    "elastic_net = ElasticNet(alpha=0.1, l1_ratio=0.5)\n",
    "elastic_net.fit(X, y)\n",
    "elastic_net.predict([[1.5]])"
   ]
  },
  {
   "cell_type": "code",
   "execution_count": 37,
   "metadata": {},
   "outputs": [
    {
     "name": "stderr",
     "output_type": "stream",
     "text": [
      "c:\\users\\codyt\\appdata\\local\\programs\\python\\python37\\lib\\site-packages\\sklearn\\linear_model\\_coordinate_descent.py:476: ConvergenceWarning: Objective did not converge. You might want to increase the number of iterations. Duality gap: 20.131353037568225, tolerance: 0.09165305715392237\n",
      "  positive)\n"
     ]
    },
    {
     "data": {
      "image/png": "[encoded data removed]",
      "text/plain": [
       "<Figure size 576x288 with 2 Axes>"
      ]
     },
     "metadata": {
      "needs_background": "light"
     },
     "output_type": "display_data"
    }
   ],
   "source": [
    "plt.figure(figsize=(8,4))\n",
    "\n",
    "# Linear model with different alphas\n",
    "plt.subplot(121)\n",
    "plot_model(ElasticNet, polynomial=False, alphas=(0, 0.1, 1), random_state=47)\n",
    "plt.ylabel(\"$y$\", rotation=0, fontsize=18)\n",
    "\n",
    "# Polynomial model with different alphas\n",
    "plt.subplot(122)\n",
    "plot_model(ElasticNet, polynomial=True, alphas=(0, 10**-7, 1), random_state=47)\n",
    "plt.show()"
   ]
  },
  {
   "cell_type": "markdown",
   "metadata": {},
   "source": [
    "## Early Stopping\n",
    "\n",
    "**Early Stopping** is a regularization technique that stops training as soon as the validation error reaches a minimum. This can be achieved by keeping a record of the lowest error (along with the model and epoch responsible for it) throughout the training process, and reverting to it if the validation error is consistently higher over some number of subsequent epochs."
   ]
  },
  {
   "cell_type": "code",
   "execution_count": 38,
   "metadata": {},
   "outputs": [],
   "source": [
    "from sklearn.base import clone\n",
    "\n",
    "poly_scaler = Pipeline([\n",
    "    ('poly_features', PolynomialFeatures(degree=90, include_bias=False)),\n",
    "    ('std_scaler', StandardScaler())\n",
    "])\n",
    "\n",
    "X_train, X_val, y_train, y_val = train_test_split(X[:50], y[:50].ravel(), test_size=0.5, random_state=10)\n",
    "X_train_poly_scaled = poly_scaler.fit_transform(X_train)\n",
    "X_val_poly_scaled = poly_scaler.transform(X_val)\n",
    "\n",
    "sgd_reg = SGDRegressor(\n",
    "    max_iter=1,\n",
    "    tol=-np.infty,\n",
    "    warm_start=True,\n",
    "    penalty=None,\n",
    "    learning_rate='constant',\n",
    "    eta0=0.0005    \n",
    ")\n",
    "\n",
    "minimum_val_error = float('inf')\n",
    "best_epoch = None\n",
    "best_model = None\n",
    "\n",
    "for epoch in range(1000):\n",
    "    sgd_reg.fit(X_train_poly_scaled, y_train)\n",
    "    y_val_predict = sgd_reg.predict(X_val_poly_scaled)\n",
    "    val_error = mean_squared_error(y_val, y_val_predict)\n",
    "    if val_error < minimum_val_error:\n",
    "        minimum_val_error = val_error\n",
    "        best_epoch = epoch\n",
    "        best_model = clone(sgd_reg)"
   ]
  },
  {
   "cell_type": "code",
   "execution_count": 39,
   "metadata": {},
   "outputs": [
    {
     "data": {
      "text/plain": [
       "5920.293921185337"
      ]
     },
     "execution_count": 39,
     "metadata": {},
     "output_type": "execute_result"
    }
   ],
   "source": [
    "best_model.fit(X_train_poly_scaled, y_train)\n",
    "best_predict = best_model.predict(X_val_poly_scaled)\n",
    "mean_squared_error(y_val, best_predict)"
   ]
  },
  {
   "cell_type": "code",
   "execution_count": 40,
   "metadata": {},
   "outputs": [
    {
     "data": {
      "text/plain": [
       "2126.5399428238934"
      ]
     },
     "execution_count": 40,
     "metadata": {},
     "output_type": "execute_result"
    }
   ],
   "source": [
    "mean_squared_error(y_val, y_val_predict)"
   ]
  },
  {
   "cell_type": "markdown",
   "metadata": {},
   "source": [
    "# Logistic Regression\n",
    "\n",
    "**Logistic Regression** is commonly used for classification, which involves estimating the probability that an instance belongs to a class.\n",
    "\n",
    "## Estimating Probabilities\n",
    "\n",
    "Rather than outputting a specific result like Linear Regression, Logistic Regression uses the logistic function (a sigmoid) to output a probability between 0 and 1.\n",
    "\n",
    "*Equation 13: Logistic Regression model estimated probability (vectorized form)*\n",
    "\n",
    "\\begin{equation*}\n",
    "\\hat{p}=h_\\boldsymbol{\\theta}(\\mathbf{x})=\\sigma(\\mathbf{x}^\\mathsf{T}\\boldsymbol{\\theta})\n",
    "\\end{equation*}\n",
    "\n",
    "*Equation 14: Logistic function*\n",
    "\n",
    "\\begin{equation*}\n",
    "\\sigma(t)=\\frac{1}{1+\\text{exp}(-t)}\n",
    "\\end{equation*}\n",
    "\n",
    "The inverse of the logistic function is called the logit function, which provides the logit $t$ for a given $p$.\n",
    "\n",
    "*Equation 14b: Logit function*\n",
    "\n",
    "\\begin{equation*}\n",
    "t(p)=log\\Bigl(\\frac{p}{1-p}\\Bigr)\n",
    "\\end{equation*}"
   ]
  },
  {
   "cell_type": "code",
   "execution_count": 41,
   "metadata": {},
   "outputs": [
    {
     "data": {
      "image/png": "[encoded data removed]",
      "text/plain": [
       "<Figure size 576x216 with 1 Axes>"
      ]
     },
     "metadata": {
      "needs_background": "light"
     },
     "output_type": "display_data"
    }
   ],
   "source": [
    "t = np.arange(-10, 10, 0.1)\n",
    "sig = 1 / (1 + np.exp(-t))\n",
    "\n",
    "plt.figure(figsize=(8, 3))\n",
    "plt.plot(t, sig)\n",
    "plt.grid()\n",
    "plt.xlabel('t')\n",
    "plt.ylabel(r'$\\sigma(t)$')\n",
    "plt.xticks(np.arange(-10, 10, 10))\n",
    "plt.yticks(np.arange(0, 1, 0.5))\n",
    "plt.axis([-10, 10, -0.01, 1.01])\n",
    "plt.show()"
   ]
  },
  {
   "cell_type": "markdown",
   "metadata": {},
   "source": [
    "Logistic Regression predicts 1 if $\\mathbf{x}^\\mathsf{T}\\boldsymbol{\\theta}$ is positive and 0 if it is negative.\n",
    "\n",
    "*Equation 15: Logistic Regression model prediction*\n",
    "\n",
    "\\begin{equation*}\n",
    "\\hat{y}=\n",
    "    \\begin{cases}\n",
    "    0 & \\text{ if } \\hat{p}\\lt0.5\\\\\n",
    "    1 & \\text{ if } \\hat{p}\\geq0.5\\\\\n",
    "    \\end{cases}\n",
    "\\end{equation*}"
   ]
  },
  {
   "cell_type": "markdown",
   "metadata": {},
   "source": [
    "## Training and Cost Function\n",
    "\n",
    "Training results in a parameter vector $\\boldsymbol{\\theta}$ that estimates high probabilities for positive instances and low probabilities for negative instances."
   ]
  },
  {
   "cell_type": "markdown",
   "metadata": {},
   "source": [
    "*Equation 16: Cost function of a single training instance*\n",
    "\n",
    "\\begin{equation*}\n",
    "c(\\boldsymbol{\\theta})=\n",
    "    \\begin{cases}\n",
    "    -log(\\hat{p}) & \\text{ if } y=1\\\\\n",
    "    -\\text{log}(1-\\hat{p}) & \\text{ if } y=0\\\\\n",
    "    \\end{cases}\n",
    "\\end{equation*}"
   ]
  },
  {
   "cell_type": "markdown",
   "metadata": {},
   "source": [
    "The cost will be large if: \n",
    "- the model estimates a probability close to 0 for a positive instance\n",
    "- the model estimates a probability close to 1 for a negative instance\n",
    "\n",
    "The cost will be small if:\n",
    "- the model estimates a probability close to 1 for a positive instance\n",
    "- the model estimates a probability close to 0 for a negative instance\n",
    "\n",
    "The complete cost function is the average cost over all training instances."
   ]
  },
  {
   "cell_type": "markdown",
   "metadata": {},
   "source": [
    "*Equation 17: Logistic Regression cost function (log loss)*\n",
    "\n",
    "\\begin{equation*}\n",
    "J(\\boldsymbol{\\theta})=-\\frac{1}{m}\\sum^m_{i=1}\\bigl[\n",
    "    y^{(i)}log\\bigl(\n",
    "        \\hat{p}^{(i)}\n",
    "    \\bigr)+\\bigl(\n",
    "        1-y^{(i)}\n",
    "    \\bigr)log\\bigl(\n",
    "        1-\\hat{p}^{(i)}\n",
    "    \\bigr)\n",
    "\\bigr]\n",
    "\\end{equation*}"
   ]
  },
  {
   "cell_type": "markdown",
   "metadata": {},
   "source": [
    "While there is no closed-form solution for the logistic regression cost function, it is a convex function, so a global minimum can be found using an optimization algorithm such as Gradient Descent."
   ]
  },
  {
   "cell_type": "markdown",
   "metadata": {},
   "source": [
    "*Equation 18: Logistic cost function partial derivative with respect to the $j^{\\text{th}}$ model parameter $\\theta_j$*\n",
    "\n",
    "\\begin{equation*}\n",
    "\\frac{\\partial}{\\partial{\\theta_j}}J(\\boldsymbol{\\theta})=\n",
    "\\frac{1}{m}\\sum^m_{i=1}\\bigl(\n",
    "    \\sigma\\bigl(\n",
    "        \\boldsymbol{\\theta}^\\mathsf{T}\\mathbf{x}^{(i)}\n",
    "    \\bigr)-y^{(i)}\n",
    "\\bigr)x^{(i)}_j\n",
    "\\end{equation*}"
   ]
  },
  {
   "cell_type": "markdown",
   "metadata": {},
   "source": [
    "## Decision Boundaries\n",
    "\n",
    "The **Decision Boundary** is value at which Logistic Regression returns a classification probability of 0.5, indicating equal chance of both positive and negative classification. The Iris dataset will be used to demonstrate this."
   ]
  },
  {
   "cell_type": "code",
   "execution_count": 46,
   "metadata": {},
   "outputs": [
    {
     "data": {
      "text/plain": [
       "dict_keys(['data', 'target', 'target_names', 'DESCR', 'feature_names', 'filename'])"
      ]
     },
     "execution_count": 46,
     "metadata": {},
     "output_type": "execute_result"
    }
   ],
   "source": [
    "from sklearn import datasets\n",
    "iris = datasets.load_iris()\n",
    "iris.keys()"
   ]
  },
  {
   "cell_type": "code",
   "execution_count": 52,
   "metadata": {},
   "outputs": [
    {
     "name": "stdout",
     "output_type": "stream",
     "text": [
      "Features: ['sepal length (cm)', 'sepal width (cm)', 'petal length (cm)', 'petal width (cm)']\n",
      "Targets: ['setosa' 'versicolor' 'virginica']\n"
     ]
    }
   ],
   "source": [
    "print(f\"Features: {iris['feature_names']}\\nTargets: {iris['target_names']}\")"
   ]
  },
  {
   "cell_type": "code",
   "execution_count": 53,
   "metadata": {},
   "outputs": [],
   "source": [
    "# Just use petal width\n",
    "X = iris['data'][:, 3:]\n",
    "\n",
    "# 1 for Iris virginica, 0 otherwise\n",
    "y = (iris['target'] == 2).astype(np.int)"
   ]
  },
  {
   "cell_type": "code",
   "execution_count": 54,
   "metadata": {},
   "outputs": [
    {
     "data": {
      "text/plain": [
       "LogisticRegression(C=1.0, class_weight=None, dual=False, fit_intercept=True,\n",
       "                   intercept_scaling=1, l1_ratio=None, max_iter=100,\n",
       "                   multi_class='auto', n_jobs=None, penalty='l2',\n",
       "                   random_state=None, solver='lbfgs', tol=0.0001, verbose=0,\n",
       "                   warm_start=False)"
      ]
     },
     "execution_count": 54,
     "metadata": {},
     "output_type": "execute_result"
    }
   ],
   "source": [
    "from sklearn.linear_model import LogisticRegression\n",
    "\n",
    "log_reg = LogisticRegression()\n",
    "log_reg.fit(X, y)"
   ]
  },
  {
   "cell_type": "code",
   "execution_count": 55,
   "metadata": {},
   "outputs": [],
   "source": [
    "X_new = np.linspace(0, 3, 1000).reshape(-1, 1)\n",
    "y_proba = log_reg.predict_proba(X_new)"
   ]
  },
  {
   "cell_type": "code",
   "execution_count": 71,
   "metadata": {},
   "outputs": [
    {
     "data": {
      "image/png": "[encoded data removed]",
      "text/plain": [
       "<Figure size 576x216 with 1 Axes>"
      ]
     },
     "metadata": {
      "needs_background": "light"
     },
     "output_type": "display_data"
    }
   ],
   "source": [
    "plt.figure(figsize=(8, 3))\n",
    "plt.plot(X_new, y_proba[:, 1], 'g-', label='Iris virginica')\n",
    "plt.plot(X_new, y_proba[:, 0], 'b--', label='Not Iris virginica')\n",
    "plt.legend()\n",
    "plt.grid()\n",
    "plt.xticks(np.arange(0, 3, 1.66))\n",
    "plt.yticks(np.arange(0, 1, 0.5))\n",
    "plt.xlabel('Petal width (cm)')\n",
    "plt.ylabel('Probability')\n",
    "plt.axis([0, 3, -0.01, 1.01])\n",
    "plt.show()"
   ]
  },
  {
   "cell_type": "markdown",
   "metadata": {},
   "source": [
    "In this model, the decision boundary is at 1.66. If the petal width is higher, the model will predict the instance is an Iris virginica, otherwise it will not."
   ]
  },
  {
   "cell_type": "code",
   "execution_count": 72,
   "metadata": {},
   "outputs": [
    {
     "data": {
      "text/plain": [
       "array([1, 0])"
      ]
     },
     "execution_count": 72,
     "metadata": {},
     "output_type": "execute_result"
    }
   ],
   "source": [
    "log_reg.predict([[1.7], [1.5]])"
   ]
  },
  {
   "cell_type": "markdown",
   "metadata": {},
   "source": [
    "## Softmax Regression\n",
    "\n",
    "**Softmax Regression** is a Logistic Regression model generalized to support multiple classes directly by computing a score for each class and  applying the softmax function to the results to determine the probability of each class."
   ]
  },
  {
   "cell_type": "markdown",
   "metadata": {},
   "source": [
    "*Equation 19: Softmax score for class k*\n",
    "\n",
    "\\begin{equation*}\n",
    "s_k(\\mathbf{x})=\\mathbf{x}^\\mathsf{T}\\boldsymbol{\\theta}^{(k)}\n",
    "\\end{equation*}"
   ]
  },
  {
   "cell_type": "markdown",
   "metadata": {},
   "source": [
    "*Equation 20: Softmax function*\n",
    "\n",
    "\\begin{equation*}\n",
    "\\hat{p}_k=\\sigma(\\mathbf{s}(\\mathbf{x}))_k=\\frac{\n",
    "    \\text{exp}\\bigl(\n",
    "        s_k(\\mathbf{x})\n",
    "    \\bigr)\n",
    "}{\n",
    "    \\sum^K_{j=1}\\text{exp}\\bigl(\n",
    "        s_j(\\mathbf{x})\n",
    "    \\bigr)\n",
    "}\n",
    "\\end{equation*}\n",
    "\n",
    "- $K$ is the number of classes\n",
    "- $\\mathbf{s}(\\mathbf{x})$ is a vector containing the scores of each class for instance $\\mathbf{x}$\n",
    "- $\\sigma(\\mathbf{s}(\\mathbf{x}))_k$ is the estimated probability that $\\mathbf{x}$ belongs to $k$ given $\\mathbf{s}(\\mathbf{x})$"
   ]
  },
  {
   "cell_type": "markdown",
   "metadata": {},
   "source": [
    "*Equation 21: Softmax Regression classifier prediction*\n",
    "\n",
    "\\begin{equation*}\n",
    "\\hat{y}\n",
    "=\\underset{k}{\\text{argmax}}\\sigma(\\mathbf{s}(\\mathbf{x}))_k\n",
    "=\\underset{k}{\\text{argmax}}s_k(\\mathbf{x})\n",
    "=\\underset{k}{\\text{argmax}}\\Bigl(\n",
    "    \\Bigl(\n",
    "        \\boldsymbol{\\theta}^{(k)}\n",
    "    \\Bigr)^\\mathsf{T}\\mathbf{x}\n",
    "\\Bigr)\n",
    "\\end{equation*}"
   ]
  },
  {
   "cell_type": "markdown",
   "metadata": {},
   "source": [
    "*Equation 22: Cross entropy cost function*\n",
    "\n",
    "\\begin{equation*}\n",
    "J(\\boldsymbol{\\Theta})=-\\frac{1}{m}\\sum^m_{(i=1)}\\sum^K_{(k=1)}y^{(i)}_k\\text{log}\\bigl(\\hat{p}^{(i)}_k\\bigr)\n",
    "\\end{equation*}\n",
    "\n",
    "- $y^{(i)}_k$ is the target probability that the $i^{th}$ instance belongs to class $k$"
   ]
  },
  {
   "cell_type": "markdown",
   "metadata": {},
   "source": [
    "Minimizing the cross entropy penalizes the model when it estimates a low probability for a target class."
   ]
  },
  {
   "cell_type": "markdown",
   "metadata": {},
   "source": [
    "*Equation 23: Cross entropy gradient vector for class k*\n",
    "\n",
    "\\begin{equation*}\n",
    "\\nabla_{\\boldsymbol{\\theta}^{(k)}}J(\\boldsymbol{\\Theta})\n",
    "=\\frac{1}{m}\\sum^m_{i=1}\\bigl(\n",
    "    \\hat{p}^{(i)}_k-y^{(i)}_k\n",
    "\\bigr)\\mathbf{x}^{(i)}\n",
    "\\end{equation*}"
   ]
  },
  {
   "cell_type": "markdown",
   "metadata": {},
   "source": [
    "This equation can be used to calculate the gradient vector for every class that can then be used along with an optimization algorithm (such as Gradient Descent) to determine a parameter matrix $\\Theta$ that minimizes the cost function."
   ]
  },
  {
   "cell_type": "code",
   "execution_count": 73,
   "metadata": {},
   "outputs": [
    {
     "data": {
      "text/plain": [
       "LogisticRegression(C=10, class_weight=None, dual=False, fit_intercept=True,\n",
       "                   intercept_scaling=1, l1_ratio=None, max_iter=100,\n",
       "                   multi_class='multinomial', n_jobs=None, penalty='l2',\n",
       "                   random_state=None, solver='lbfgs', tol=0.0001, verbose=0,\n",
       "                   warm_start=False)"
      ]
     },
     "execution_count": 73,
     "metadata": {},
     "output_type": "execute_result"
    }
   ],
   "source": [
    "# Use both petal length and petal width\n",
    "X = iris['data'][:, (2, 3)]\n",
    "y = iris['target']\n",
    "\n",
    "softmax_reg = LogisticRegression(multi_class='multinomial', solver='lbfgs', C=10)\n",
    "softmax_reg.fit(X, y)"
   ]
  },
  {
   "cell_type": "code",
   "execution_count": 74,
   "metadata": {},
   "outputs": [
    {
     "data": {
      "text/plain": [
       "array([2])"
      ]
     },
     "execution_count": 74,
     "metadata": {},
     "output_type": "execute_result"
    }
   ],
   "source": [
    "softmax_reg.predict([[5, 2]])"
   ]
  },
  {
   "cell_type": "code",
   "execution_count": 87,
   "metadata": {},
   "outputs": [
    {
     "data": {
      "text/plain": [
       "{'setosa': 6.380148956089212e-07,\n",
       " 'versicolor': 0.057492999525600795,\n",
       " 'virginica': 0.9425063624595037}"
      ]
     },
     "execution_count": 87,
     "metadata": {},
     "output_type": "execute_result"
    }
   ],
   "source": [
    "dict(zip(iris['target_names'], softmax_reg.predict_proba([[5, 2]])[0]))"
   ]
  },
  {
   "cell_type": "code",
   "execution_count": null,
   "metadata": {},
   "outputs": [],
   "source": []
  }
 ],
 "metadata": {
  "kernelspec": {
   "display_name": "Python 3",
   "language": "python",
   "name": "python3"
  },
  "language_info": {
   "codemirror_mode": {
    "name": "ipython",
    "version": 3
   },
   "file_extension": ".py",
   "mimetype": "text/x-python",
   "name": "python",
   "nbconvert_exporter": "python",
   "pygments_lexer": "ipython3",
   "version": "3.7.6"
  }
 },
 "nbformat": 4,
 "nbformat_minor": 4
}
