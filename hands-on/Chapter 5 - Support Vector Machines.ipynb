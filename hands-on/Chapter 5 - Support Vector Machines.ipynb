{
 "cells": [
  {
   "cell_type": "markdown",
   "metadata": {},
   "source": [
    "A Support Vector Machine (SVM) is a versatile model that is particularly well suited for classification of complex small- or medium-sized datasets. SVMs are capable of both linear and nonlinear classification, regression, and outlier detection."
   ]
  },
  {
   "cell_type": "markdown",
   "metadata": {},
   "source": [
    "Topics:\n",
    "- Linear SVM Classification\n",
    "- Nonlinear SVM Classification\n",
    "- SVM Regression\n",
    "- Math & Theory"
   ]
  },
  {
   "cell_type": "markdown",
   "metadata": {},
   "source": [
    "# Linear SVM Classification\n",
    "\n",
    "Linear SVM Classification is a form of *large margin classification* that determines a decision boundary with the largest possible margin between classes.\n",
    "\n",
    "*Support vectors* are instances located at the edge of the margin that define the decision boundary.\n",
    "\n",
    "SVMs are sensitive to feature scales due to their motivation to maximize distance between support vectors. Imbalanced feature scales can result in some features (with larger scales) dominating the maximum distance calculation, so scaling data is an important step before training."
   ]
  },
  {
   "cell_type": "markdown",
   "metadata": {},
   "source": [
    "## Soft Margin Classification\n",
    "\n",
    "Classification that relies on all instances being outside the margins defined by the decision boundary is called **hard margin classification**, which has two prominent issues:\n",
    "\n",
    "- It only works if the data is linearly separable\n",
    "- It is sensitive to outliers\n",
    "\n",
    "**Soft Margin Classification** solves these issues by finding a balance between large margins and allowed margin violations. This balance is defined by regularization parameter $C$. \n",
    "\n",
    "- A lower $C$ value allows a large number of margin violations to enable a larger margin\n",
    "- A higher $C$ value restricts the number of margin violations to reduce the margin size"
   ]
  },
  {
   "cell_type": "code",
   "execution_count": 1,
   "metadata": {},
   "outputs": [],
   "source": [
    "import numpy as np\n",
    "import matplotlib.pyplot as plt\n",
    "from sklearn import datasets\n",
    "from sklearn.pipeline import Pipeline\n",
    "from sklearn.preprocessing import StandardScaler\n",
    "from sklearn.svm import LinearSVC"
   ]
  },
  {
   "cell_type": "code",
   "execution_count": 2,
   "metadata": {},
   "outputs": [
    {
     "data": {
      "text/plain": [
       "Pipeline(memory=None,\n",
       "         steps=[('scaler',\n",
       "                 StandardScaler(copy=True, with_mean=True, with_std=True)),\n",
       "                ('linear_svc',\n",
       "                 LinearSVC(C=1, class_weight=None, dual=True,\n",
       "                           fit_intercept=True, intercept_scaling=1,\n",
       "                           loss='hinge', max_iter=1000, multi_class='ovr',\n",
       "                           penalty='l2', random_state=None, tol=0.0001,\n",
       "                           verbose=0))],\n",
       "         verbose=False)"
      ]
     },
     "execution_count": 2,
     "metadata": {},
     "output_type": "execute_result"
    }
   ],
   "source": [
    "iris = datasets.load_iris()\n",
    "\n",
    "# Include petal length and petal width\n",
    "X = iris['data'][:, (2, 3)]\n",
    "\n",
    "# Target Iris virginica\n",
    "y = (iris['target'] == 2).astype(np.float64)\n",
    "\n",
    "svm_clf = Pipeline([\n",
    "    ('scaler', StandardScaler()),\n",
    "    ('linear_svc', LinearSVC(C=1, loss='hinge'))    \n",
    "])\n",
    "\n",
    "svm_clf.fit(X, y)"
   ]
  },
  {
   "cell_type": "code",
   "execution_count": 3,
   "metadata": {},
   "outputs": [
    {
     "data": {
      "text/plain": [
       "array([1.])"
      ]
     },
     "execution_count": 3,
     "metadata": {},
     "output_type": "execute_result"
    }
   ],
   "source": [
    "svm_clf.predict([[5.5, 1.7]])"
   ]
  },
  {
   "cell_type": "code",
   "execution_count": 4,
   "metadata": {},
   "outputs": [
    {
     "data": {
      "text/plain": [
       "Pipeline(memory=None,\n",
       "         steps=[('scaler',\n",
       "                 StandardScaler(copy=True, with_mean=True, with_std=True)),\n",
       "                ('standard_svc',\n",
       "                 SVC(C=1, break_ties=False, cache_size=200, class_weight=None,\n",
       "                     coef0=0.0, decision_function_shape='ovr', degree=3,\n",
       "                     gamma='scale', kernel='linear', max_iter=-1,\n",
       "                     probability=False, random_state=None, shrinking=True,\n",
       "                     tol=0.001, verbose=False))],\n",
       "         verbose=False)"
      ]
     },
     "execution_count": 4,
     "metadata": {},
     "output_type": "execute_result"
    }
   ],
   "source": [
    "# Could also use the standard SVC class\n",
    "from sklearn.svm import SVC\n",
    "\n",
    "svm_clf = Pipeline([\n",
    "    ('scaler', StandardScaler()),\n",
    "    ('standard_svc', SVC(kernel='linear', C=1))  \n",
    "])\n",
    "\n",
    "svm_clf.fit(X, y)"
   ]
  },
  {
   "cell_type": "code",
   "execution_count": 5,
   "metadata": {},
   "outputs": [
    {
     "data": {
      "text/plain": [
       "array([1.])"
      ]
     },
     "execution_count": 5,
     "metadata": {},
     "output_type": "execute_result"
    }
   ],
   "source": [
    "svm_clf.predict([[5.5, 1.7]])"
   ]
  },
  {
   "cell_type": "code",
   "execution_count": 6,
   "metadata": {},
   "outputs": [
    {
     "data": {
      "text/plain": [
       "Pipeline(memory=None,\n",
       "         steps=[('scaler',\n",
       "                 StandardScaler(copy=True, with_mean=True, with_std=True)),\n",
       "                ('linear_sgd',\n",
       "                 SGDClassifier(alpha=0.1, average=False, class_weight=None,\n",
       "                               early_stopping=False, epsilon=0.1, eta0=0.0,\n",
       "                               fit_intercept=True, l1_ratio=0.15,\n",
       "                               learning_rate='optimal', loss='hinge',\n",
       "                               max_iter=1000, n_iter_no_change=5, n_jobs=None,\n",
       "                               penalty='l2', power_t=0.5, random_state=None,\n",
       "                               shuffle=True, tol=0.001, validation_fraction=0.1,\n",
       "                               verbose=0, warm_start=False))],\n",
       "         verbose=False)"
      ]
     },
     "execution_count": 6,
     "metadata": {},
     "output_type": "execute_result"
    }
   ],
   "source": [
    "# Could also use the SGD Classifier for out-of-core training on large or online datasets\n",
    "from sklearn.linear_model import SGDClassifier\n",
    "\n",
    "svm_clf = Pipeline([\n",
    "    ('scaler', StandardScaler()),\n",
    "    ('linear_sgd', SGDClassifier(loss='hinge', alpha=1/(10*1))) # alpha=1/(m*C  \n",
    "])\n",
    "\n",
    "svm_clf.fit(X, y)"
   ]
  },
  {
   "cell_type": "code",
   "execution_count": 7,
   "metadata": {},
   "outputs": [
    {
     "data": {
      "text/plain": [
       "array([1.])"
      ]
     },
     "execution_count": 7,
     "metadata": {},
     "output_type": "execute_result"
    }
   ],
   "source": [
    "svm_clf.predict([[5.5, 1.7]])"
   ]
  },
  {
   "cell_type": "markdown",
   "metadata": {},
   "source": [
    "# Nonlinear SVM Classification\n",
    "\n",
    "One issue encountered with linear SVM classifiers is that data is rarely linearly separable. One approach for such datasets is to add polynomial features."
   ]
  },
  {
   "cell_type": "code",
   "execution_count": 8,
   "metadata": {},
   "outputs": [],
   "source": [
    "from sklearn.datasets import make_moons\n",
    "from sklearn.preprocessing import PolynomialFeatures\n",
    "\n",
    "# Generate sample 'moons' data in the form of overlapping half circles\n",
    "X, y = make_moons(n_samples=100, noise=0.15, random_state=47)"
   ]
  },
  {
   "cell_type": "code",
   "execution_count": 9,
   "metadata": {},
   "outputs": [
    {
     "data": {
      "image/png": "[encoded data removed]",
      "text/plain": [
       "<Figure size 432x288 with 1 Axes>"
      ]
     },
     "metadata": {
      "needs_background": "light"
     },
     "output_type": "display_data"
    }
   ],
   "source": [
    "def plot_dataset(X, y, axes):\n",
    "    plt.plot(X[:, 0][y==0], X[:, 1][y==0], \"b.\")\n",
    "    plt.plot(X[:, 0][y==1], X[:, 1][y==1], \"g.\")\n",
    "    plt.axis(axes)\n",
    "    plt.grid(True, which='both')\n",
    "    plt.xlabel(r\"$x_1$\", fontsize=20)\n",
    "    plt.ylabel(r\"$x_2$\", fontsize=20, rotation=0)\n",
    "\n",
    "axes = [-1.5, 2.5,  -1, 1.5]\n",
    "plot_dataset(X, y, axes)"
   ]
  },
  {
   "cell_type": "code",
   "execution_count": 10,
   "metadata": {},
   "outputs": [
    {
     "data": {
      "text/plain": [
       "Pipeline(memory=None,\n",
       "         steps=[('poly_features',\n",
       "                 PolynomialFeatures(degree=3, include_bias=True,\n",
       "                                    interaction_only=False, order='C')),\n",
       "                ('scaler',\n",
       "                 StandardScaler(copy=True, with_mean=True, with_std=True)),\n",
       "                ('svm_clf',\n",
       "                 LinearSVC(C=10, class_weight=None, dual=True,\n",
       "                           fit_intercept=True, intercept_scaling=1,\n",
       "                           loss='hinge', max_iter=10000, multi_class='ovr',\n",
       "                           penalty='l2', random_state=None, tol=0.0001,\n",
       "                           verbose=0))],\n",
       "         verbose=False)"
      ]
     },
     "execution_count": 10,
     "metadata": {},
     "output_type": "execute_result"
    }
   ],
   "source": [
    "# Include PolynomialFeatures in the pipeline\n",
    "polynomial_svm_clf = Pipeline([\n",
    "    ('poly_features', PolynomialFeatures(degree=3)),\n",
    "    ('scaler', StandardScaler()),\n",
    "    ('svm_clf', LinearSVC(C=10, loss='hinge', max_iter=10000))\n",
    "])\n",
    "polynomial_svm_clf.fit(X, y)"
   ]
  },
  {
   "cell_type": "code",
   "execution_count": 11,
   "metadata": {},
   "outputs": [
    {
     "data": {
      "image/png": "[encoded data removed]",
      "text/plain": [
       "<Figure size 432x288 with 1 Axes>"
      ]
     },
     "metadata": {
      "needs_background": "light"
     },
     "output_type": "display_data"
    }
   ],
   "source": [
    "def plot_predictions(clf, axes):\n",
    "    x0s = np.linspace(axes[0], axes[1], 100)\n",
    "    x1s = np.linspace(axes[2], axes[3], 100)\n",
    "    x0, x1 = np.meshgrid(x0s, x1s)\n",
    "    X = np.c_[x0.ravel(), x1.ravel()]\n",
    "    y_pred = clf.predict(X).reshape(x0.shape)\n",
    "    y_decision = clf.decision_function(X).reshape(x0.shape)\n",
    "    plt.contourf(x0, x1, y_pred, cmap=plt.cm.brg, alpha=0.2)\n",
    "    plt.contourf(x0, x1, y_decision, cmap=plt.cm.brg, alpha=0.1)\n",
    "\n",
    "plot_dataset(X, y, axes)\n",
    "plot_predictions(polynomial_svm_clf, axes)"
   ]
  },
  {
   "cell_type": "markdown",
   "metadata": {},
   "source": [
    "- Low-degree polynomial features can't handle more complex datasets\n",
    "- High-degree polynomial features introduce training complexity and severely impact performance\n",
    "\n",
    "## Polynomial Kernel\n",
    "\n",
    "The SVC class implements a kernel trick, which can provide the same benefits of adding multiple polynomial features without the added training complexity."
   ]
  },
  {
   "cell_type": "code",
   "execution_count": 12,
   "metadata": {},
   "outputs": [
    {
     "data": {
      "text/plain": [
       "Pipeline(memory=None,\n",
       "         steps=[('scaler',\n",
       "                 StandardScaler(copy=True, with_mean=True, with_std=True)),\n",
       "                ('svm_clf',\n",
       "                 SVC(C=5, break_ties=False, cache_size=200, class_weight=None,\n",
       "                     coef0=1, decision_function_shape='ovr', degree=3,\n",
       "                     gamma='scale', kernel='poly', max_iter=-1,\n",
       "                     probability=False, random_state=None, shrinking=True,\n",
       "                     tol=0.001, verbose=False))],\n",
       "         verbose=False)"
      ]
     },
     "execution_count": 12,
     "metadata": {},
     "output_type": "execute_result"
    }
   ],
   "source": [
    "poly_kernel_svm_clf = Pipeline([\n",
    "    ('scaler', StandardScaler()),\n",
    "    ('svm_clf', SVC(kernel='poly', degree=3, coef0=1, C=5))\n",
    "])\n",
    "poly_kernel_svm_clf.fit(X, y)"
   ]
  },
  {
   "cell_type": "code",
   "execution_count": 13,
   "metadata": {},
   "outputs": [
    {
     "data": {
      "image/png": "[encoded data removed]",
      "text/plain": [
       "<Figure size 432x288 with 1 Axes>"
      ]
     },
     "metadata": {
      "needs_background": "light"
     },
     "output_type": "display_data"
    }
   ],
   "source": [
    "plot_dataset(X, y, axes)\n",
    "plot_predictions(poly_kernel_svm_clf, axes)"
   ]
  },
  {
   "cell_type": "markdown",
   "metadata": {},
   "source": [
    "## Similarity Features\n",
    "\n",
    "A **similarity function** measures how much each instance resembles a **landmark** instance selected as a reference. A common similarity function is the Gaussian Radial Basis Function (RBF).\n",
    "\n",
    "*Equation 1: Gaussian RBF*\n",
    "\n",
    "\\begin{equation*}\n",
    "\\phi_y(\\mathbf{x},\\ell)=\\text{exp}\\bigl(-y||\\mathbf{x}-\\ell||^2\\bigr)\n",
    "\\end{equation*}"
   ]
  },
  {
   "cell_type": "code",
   "execution_count": 14,
   "metadata": {},
   "outputs": [],
   "source": [
    "def gaussian_rbf(x, landmark, gamma):\n",
    "    return np.exp(-gamma * np.linalg.norm(x - landmark, axis=1)**2)\n",
    "\n",
    "gamma = 0.3\n",
    "\n",
    "# Random data points that are not linearly separable\n",
    "x_1 = np.sort(np.random.uniform(-4, 4, 9)).reshape(-1, 1)\n",
    "y_k = np.array([0, 0, 1, 1, 1, 1, 1, 0, 0])\n",
    "\n",
    "# Landmarks for x_1\n",
    "landmarks = x_1[2], x_1[6]\n",
    "\n",
    "# Gaussian RBF for each landmark\n",
    "x1s = np.linspace(-4.5, 4.5, 200).reshape(-1, 1)\n",
    "x2s = gaussian_rbf(x1s, landmarks[0], gamma)\n",
    "x3s = gaussian_rbf(x1s, landmarks[1], gamma)"
   ]
  },
  {
   "cell_type": "code",
   "execution_count": 15,
   "metadata": {},
   "outputs": [
    {
     "data": {
      "text/plain": [
       "<matplotlib.collections.PathCollection at 0x1dad1ba5948>"
      ]
     },
     "execution_count": 15,
     "metadata": {},
     "output_type": "execute_result"
    },
    {
     "data": {
      "image/png": "[encoded data removed]",
      "text/plain": [
       "<Figure size 432x288 with 1 Axes>"
      ]
     },
     "metadata": {
      "needs_background": "light"
     },
     "output_type": "display_data"
    }
   ],
   "source": [
    "# Visualization for each landmark\n",
    "plt.plot(x1s, x2s, 'b--')\n",
    "plt.plot(x1s, x3s, 'b:')\n",
    "#plt.plot(x_1, np.zeros(9), 'b.')\n",
    "#plt.plot(x_2, np.zeros(9), 'g.')\n",
    "plt.plot(x_1[y_k==0], np.zeros(len(x_1[:][y_k==0])), \"bs\")\n",
    "plt.plot(x_1[y_k==1], np.zeros(len(x_1[:][y_k==1])), \"g^\")\n",
    "plt.scatter(landmarks, np.zeros(len(landmarks)), alpha=0.5, c='red')"
   ]
  },
  {
   "cell_type": "code",
   "execution_count": 34,
   "metadata": {},
   "outputs": [
    {
     "data": {
      "text/plain": [
       "[-0.1, 1.1, -0.1, 1.1]"
      ]
     },
     "execution_count": 34,
     "metadata": {},
     "output_type": "execute_result"
    },
    {
     "data": {
      "image/png": "[encoded data removed]",
      "text/plain": [
       "<Figure size 432x288 with 1 Axes>"
      ]
     },
     "metadata": {
      "needs_background": "light"
     },
     "output_type": "display_data"
    }
   ],
   "source": [
    "# Apply the Gaussian RBF to the data for each landmark and separate by similarity\n",
    "x_k = np.c_[gaussian_rbf(x_1, landmarks[0], gamma), gaussian_rbf(x_1, landmarks[1], gamma)]\n",
    "plt.plot(x_k[:, 0][y_k==0], x_k[:, 1][y_k==0], \"bs\")\n",
    "plt.plot(x_k[:, 0][y_k==1], x_k[:, 1][y_k==1], \"g^\")\n",
    "\n",
    "# Demonstrate linear separability\n",
    "plt.plot([-0.1, 0.8], [1.0, -0.25], \"r--\")\n",
    "plt.axis([-0.1, 1.1, -0.1, 1.1])"
   ]
  },
  {
   "cell_type": "markdown",
   "metadata": {},
   "source": [
    "## Gaussian RBF Kernel\n",
    "\n",
    "The SVC kernel trick can be used for Gaussian RBF as well to achieve performance similar to using many similarity features."
   ]
  },
  {
   "cell_type": "code",
   "execution_count": 17,
   "metadata": {},
   "outputs": [
    {
     "data": {
      "text/plain": [
       "Pipeline(memory=None,\n",
       "         steps=[('scaler',\n",
       "                 StandardScaler(copy=True, with_mean=True, with_std=True)),\n",
       "                ('svm_clf',\n",
       "                 SVC(C=0.001, break_ties=False, cache_size=200,\n",
       "                     class_weight=None, coef0=0.0,\n",
       "                     decision_function_shape='ovr', degree=3, gamma=5,\n",
       "                     kernel='rbf', max_iter=-1, probability=False,\n",
       "                     random_state=None, shrinking=True, tol=0.001,\n",
       "                     verbose=False))],\n",
       "         verbose=False)"
      ]
     },
     "execution_count": 17,
     "metadata": {},
     "output_type": "execute_result"
    }
   ],
   "source": [
    "rbf_kernel_svm_clf = Pipeline([\n",
    "    ('scaler', StandardScaler()),\n",
    "    ('svm_clf', SVC(kernel='rbf', gamma=5, C=0.001))\n",
    "])\n",
    "rbf_kernel_svm_clf.fit(X, y)"
   ]
  },
  {
   "cell_type": "code",
   "execution_count": 18,
   "metadata": {},
   "outputs": [
    {
     "data": {
      "image/png": "[encoded data removed]",
      "text/plain": [
       "<Figure size 432x288 with 1 Axes>"
      ]
     },
     "metadata": {
      "needs_background": "light"
     },
     "output_type": "display_data"
    }
   ],
   "source": [
    "plot_dataset(X, y, axes)\n",
    "plot_predictions(rbf_kernel_svm_clf, axes)\n",
    "plt.title(r'$\\gamma=5$, $C=0.001$')\n",
    "plt.show()"
   ]
  },
  {
   "cell_type": "markdown",
   "metadata": {},
   "source": [
    "A lower $\\gamma$ will widen the range of influence for each instance"
   ]
  },
  {
   "cell_type": "code",
   "execution_count": 19,
   "metadata": {},
   "outputs": [
    {
     "data": {
      "image/png": "[encoded data removed]",
      "text/plain": [
       "<Figure size 432x288 with 1 Axes>"
      ]
     },
     "metadata": {
      "needs_background": "light"
     },
     "output_type": "display_data"
    }
   ],
   "source": [
    "rbf_kernel_svm_clf = Pipeline([\n",
    "    ('scaler', StandardScaler()),\n",
    "    ('svm_clf', SVC(kernel='rbf', gamma=1, C=0.001))\n",
    "])\n",
    "rbf_kernel_svm_clf.fit(X, y)\n",
    "plot_dataset(X, y, axes)\n",
    "plot_predictions(rbf_kernel_svm_clf, axes)\n",
    "plt.title(r'$\\gamma=1$, $C=0.001$')\n",
    "plt.show()"
   ]
  },
  {
   "cell_type": "markdown",
   "metadata": {},
   "source": [
    "- If a model is overfitting, $\\gamma$ should be reduced\n",
    "- If it is underfitting, $\\gamma$ should be increased"
   ]
  },
  {
   "cell_type": "markdown",
   "metadata": {},
   "source": [
    "## Computational Complexity\n",
    "\n",
    "- LinearSVC is typically preferred for larger training sets\n",
    "- SVC is preferred for small or medium training sets"
   ]
  },
  {
   "cell_type": "code",
   "execution_count": 20,
   "metadata": {},
   "outputs": [
    {
     "data": {
      "text/html": [
       "<div>\n",
       "<style scoped>\n",
       "    .dataframe tbody tr th:only-of-type {\n",
       "        vertical-align: middle;\n",
       "    }\n",
       "\n",
       "    .dataframe tbody tr th {\n",
       "        vertical-align: top;\n",
       "    }\n",
       "\n",
       "    .dataframe thead th {\n",
       "        text-align: right;\n",
       "    }\n",
       "</style>\n",
       "<table border=\"1\" class=\"dataframe\">\n",
       "  <thead>\n",
       "    <tr style=\"text-align: right;\">\n",
       "      <th></th>\n",
       "      <th>Class</th>\n",
       "      <th>Time complexity</th>\n",
       "      <th>Out-of-core support</th>\n",
       "      <th>Scaling requred</th>\n",
       "      <th>Kernel trick</th>\n",
       "    </tr>\n",
       "  </thead>\n",
       "  <tbody>\n",
       "    <tr>\n",
       "      <th>0</th>\n",
       "      <td>LinearSVC</td>\n",
       "      <td>$O(m\\times n)$</td>\n",
       "      <td>No</td>\n",
       "      <td>Yes</td>\n",
       "      <td>No</td>\n",
       "    </tr>\n",
       "    <tr>\n",
       "      <th>1</th>\n",
       "      <td>SGDClassifier</td>\n",
       "      <td>$O(m\\times n)$</td>\n",
       "      <td>Yes</td>\n",
       "      <td>Yes</td>\n",
       "      <td>No</td>\n",
       "    </tr>\n",
       "    <tr>\n",
       "      <th>2</th>\n",
       "      <td>SVC</td>\n",
       "      <td>$O(m^2\\times n)$ to $O(m^3\\times n)$</td>\n",
       "      <td>No</td>\n",
       "      <td>Yes</td>\n",
       "      <td>Yes</td>\n",
       "    </tr>\n",
       "  </tbody>\n",
       "</table>\n",
       "</div>"
      ],
      "text/plain": [
       "           Class                       Time complexity Out-of-core support  \\\n",
       "0      LinearSVC                        $O(m\\times n)$                  No   \n",
       "1  SGDClassifier                        $O(m\\times n)$                 Yes   \n",
       "2            SVC  $O(m^2\\times n)$ to $O(m^3\\times n)$                  No   \n",
       "\n",
       "  Scaling requred Kernel trick  \n",
       "0             Yes           No  \n",
       "1             Yes           No  \n",
       "2             Yes          Yes  "
      ]
     },
     "execution_count": 20,
     "metadata": {},
     "output_type": "execute_result"
    }
   ],
   "source": [
    "import pandas as pd\n",
    "from io import StringIO\n",
    "\n",
    "compared = StringIO(r\"\"\"Class,Time complexity,Out-of-core support,Scaling requred,Kernel trick\n",
    "LinearSVC,$O(m\\times n)$,No,Yes,No\n",
    "SGDClassifier,$O(m\\times n)$,Yes,Yes,No\n",
    "SVC,$O(m^2\\times n)$ to $O(m^3\\times n)$,No,Yes,Yes\n",
    "\"\"\")\n",
    "pd.read_csv(compared)"
   ]
  },
  {
   "cell_type": "markdown",
   "metadata": {},
   "source": [
    "# SVM Regression\n",
    "\n",
    "The SVM algorithm can be applied to linear and nonlinear regression by maximizing the number of instances within a margin, the width of which is controlled by hyperparameter $\\epsilon$.\n",
    "\n",
    "The LinearSVR and SVR classes are regression equivalents of LinearSVC and SVC."
   ]
  },
  {
   "cell_type": "code",
   "execution_count": 21,
   "metadata": {},
   "outputs": [
    {
     "data": {
      "text/plain": [
       "LinearSVR(C=1.0, dual=True, epsilon=1.5, fit_intercept=True,\n",
       "          intercept_scaling=1.0, loss='epsilon_insensitive', max_iter=1000,\n",
       "          random_state=None, tol=0.0001, verbose=0)"
      ]
     },
     "execution_count": 21,
     "metadata": {},
     "output_type": "execute_result"
    }
   ],
   "source": [
    "from sklearn.svm import LinearSVR\n",
    "\n",
    "m = 50\n",
    "X = 2 * np.random.rand(m, 1)\n",
    "y = (4 + 3 * X + np.random.randn(m, 1)).ravel()\n",
    "\n",
    "# Linear regression\n",
    "svm_reg = LinearSVR(epsilon=1.5)\n",
    "svm_reg.fit(X, y)"
   ]
  },
  {
   "cell_type": "code",
   "execution_count": 22,
   "metadata": {},
   "outputs": [],
   "source": [
    "def plot_svm_regression(svm_reg, X, y, axes):\n",
    "    x1s = np.linspace(axes[0], axes[1], 100).reshape(100, 1)\n",
    "    y_pred = svm_reg.predict(x1s)\n",
    "    plt.plot(x1s, y_pred, \"k-\", linewidth=2, label=r\"$\\hat{y}$\")\n",
    "    plt.plot(x1s, y_pred + svm_reg.epsilon, \"k--\")\n",
    "    plt.plot(x1s, y_pred - svm_reg.epsilon, \"k--\")\n",
    "    plt.plot(X, y, \"bo\")\n",
    "    plt.xlabel(r\"$x_1$\", fontsize=18)\n",
    "    plt.legend(loc=\"upper left\", fontsize=18)\n",
    "    plt.axis(axes)"
   ]
  },
  {
   "cell_type": "code",
   "execution_count": 23,
   "metadata": {},
   "outputs": [
    {
     "data": {
      "image/png": "[encoded data removed]",
      "text/plain": [
       "<Figure size 432x288 with 1 Axes>"
      ]
     },
     "metadata": {
      "needs_background": "light"
     },
     "output_type": "display_data"
    }
   ],
   "source": [
    "plot_svm_regression(svm_reg, X, y, [-0.25, 2.0, 0.5, 12.5])"
   ]
  },
  {
   "cell_type": "code",
   "execution_count": 24,
   "metadata": {},
   "outputs": [
    {
     "data": {
      "text/plain": [
       "SVR(C=100, cache_size=200, coef0=0.0, degree=2, epsilon=0.1, gamma='scale',\n",
       "    kernel='poly', max_iter=-1, shrinking=True, tol=0.001, verbose=False)"
      ]
     },
     "execution_count": 24,
     "metadata": {},
     "output_type": "execute_result"
    }
   ],
   "source": [
    "# Polynomial\n",
    "from sklearn.svm import SVR\n",
    "\n",
    "m = 100\n",
    "X = 2 * np.random.rand(m, 1) - 1\n",
    "y = (0.2 + 0.1 * X + 0.5 * X**2 + np.random.randn(m, 1)/10).ravel()\n",
    "\n",
    "svm_poly_reg = SVR(kernel='poly', degree=2, C=100, epsilon=0.1)\n",
    "svm_poly_reg.fit(X, y)"
   ]
  },
  {
   "cell_type": "code",
   "execution_count": 25,
   "metadata": {},
   "outputs": [
    {
     "data": {
      "image/png": "[encoded data removed]",
      "text/plain": [
       "<Figure size 432x288 with 1 Axes>"
      ]
     },
     "metadata": {
      "needs_background": "light"
     },
     "output_type": "display_data"
    }
   ],
   "source": [
    "plot_svm_regression(svm_poly_reg, X, y, [-1.25, 1.25, -0.25, 1.0])"
   ]
  },
  {
   "cell_type": "markdown",
   "metadata": {},
   "source": [
    "# Math & Theory\n",
    "\n",
    "- $\\mathbf{w}$ is the vector of feature weights\n",
    "- $b$ is the bias term"
   ]
  },
  {
   "cell_type": "markdown",
   "metadata": {},
   "source": [
    "## Decision Function & Predictions"
   ]
  },
  {
   "cell_type": "markdown",
   "metadata": {},
   "source": [
    "A linear SVM classifier predicts the class of instance $\\mathbf{x}$ by computing decision function $\\mathbf{w}^\\mathsf{T}\\mathbf{x} + b = w_1x_1 + \\cdots + w_nx_n + b$ and predicting a positive or negative class for a positive or negative result respectively."
   ]
  },
  {
   "cell_type": "markdown",
   "metadata": {},
   "source": [
    "*Equation 2: Linear SVM classifier prediction*\n",
    "\n",
    "\\begin{equation*}\n",
    "\\hat{y}=\n",
    "    \\begin{cases}\n",
    "    0 & \\text{if} & \\mathbf{w}^\\mathsf{T}\\mathbf{x}+b\\lt0,\\\\\n",
    "    1 & \\text{if} & \\mathbf{w}^\\mathsf{T}\\mathbf{x}+b\\geq0\n",
    "    \\end{cases}\n",
    "\\end{equation*}"
   ]
  },
  {
   "cell_type": "markdown",
   "metadata": {},
   "source": [
    "For datasets with $n$ features represented by an $n$-dimensional hyperplane, the decision function is also an $n$-dimensional hyperplane that intersects with it to establish the decision boundary, which is an $(n-1)$-dimensional hyperplane.\n",
    "\n",
    "The decision boundary includes two equidistant lines defined by the points where the decision function is equal to 1 and -1 respectively, forming the classifier margin. Training a linear SVM classifier determines optimal values for $\\mathbf{w}$ and $b$ to maximize this margin while avoiding or limiting violations, depending on whether a hard or soft margin is desired."
   ]
  },
  {
   "cell_type": "markdown",
   "metadata": {},
   "source": [
    "## Training Objective\n",
    "\n",
    "The slope of the decision function is the norm of the weight vector $||\\mathbf{w}||$. A larger (steeper) slope narrows the margin between the points at which the decision function is equal to +/- 1, therefore a smaller weight vector is desired to achieve a larger margin.\n",
    "\n",
    "For hard margins the decision function must be greater than 1 for all positive training instances ($t^{(i)}=1$) and less than -1 for negative training instances ($t^{(i)}=-1$), expressed as $t^{(i)}(\\mathbf{w}^\\mathsf{T}\\mathbf{x}^{(i)}+b)\\geq1$ for all instances."
   ]
  },
  {
   "cell_type": "markdown",
   "metadata": {},
   "source": [
    "*Equation 3: Hard margin linear SVM classifier objective*\n",
    "\n",
    "\\begin{align}\n",
    "&\\underset{\\mathbf{w},b}{\\text{minimize}}\\Bigl(\\frac{1}{2}\\mathbf{w}^\\mathsf{T}\\mathbf{w}\\Bigr)\\\\\n",
    "&\\text{subject to}\\quad t^{(i)}\\bigl(\\mathbf{w}^\\mathsf{T}\\mathbf{x}^{(i)}+b\\bigr)\\geq1\\quad \\text{ for }i=1, 2, \\cdots, m\n",
    "\\end{align}\n"
   ]
  },
  {
   "cell_type": "markdown",
   "metadata": {},
   "source": [
    "Note that $\\frac{1}{2}\\mathbf{w}^\\mathsf{T}\\mathbf{w}$ is equal to $\\frac{1}{2}||\\mathbf{w}||^2$, this is minimized instead of $||\\mathbf{w}||$ for optimization as it has a much simpler derivative ($\\mathbf{w}$) and $||\\mathbf{w}||$ is not differentiable at $\\mathbf{w}=0$."
   ]
  },
  {
   "cell_type": "markdown",
   "metadata": {},
   "source": [
    "For soft margins, a slack variable $\\zeta$ is introduced to define how much each instance is allowed to violate the margin. Minimizing $\\zeta$ conflicts with minimizing $\\frac{1}{2}\\mathbf{w}^\\mathsf{T}\\mathbf{w}$, thus the inclusion of hyperparameter $C$ that defines the trade-off between the two."
   ]
  },
  {
   "cell_type": "markdown",
   "metadata": {},
   "source": [
    "*Equation 4: Soft margin linear SVM classifier objective*\n",
    "\n",
    "\\begin{align}\n",
    "&\\underset{\\mathbf{w},b,\\zeta}{\\text{minimize}}\\Bigl(\\frac{1}{2}\\mathbf{w}^\\mathsf{T}\\mathbf{w}+C\\sum^m_{i=1}\\zeta^{(i)}\\Bigr)\\\\\n",
    "&\\text{subject to}\\quad t^{(i)}\\bigl(\\mathbf{w}^\\mathsf{T}\\mathbf{x}^{(i)}+b)\\geq1-\\zeta^{(i)}\\quad \n",
    "\\text{and}\\quad\n",
    "\\zeta^{(i)}\\geq0\\quad\n",
    "\\text{ for }i=1,2\\cdots,m\n",
    "\\end{align}"
   ]
  },
  {
   "cell_type": "markdown",
   "metadata": {},
   "source": [
    "## Quadratic Programming\n",
    "\n",
    "**Quadratic Programming** is a type of nonlinear programming that is appied to optimizing quadratic functions of variables subject to linear constraints.\n",
    "\n",
    "*Equation 5: Quadratic Programming problem*\n",
    "\n",
    "\\begin{align}\n",
    "&\\underset{\\mathbf{p}}{\\text{minimize}}\\Bigl(\\frac{1}{2}\\mathbf{p^\\mathsf{T}Hp}+\\mathbf{f^\\mathsf{T}}\\Bigr)\\\\\n",
    "&\\text{subject to}\\quad \\mathbf{Ap\\le b}\n",
    "\\end{align}\n",
    "\n",
    "where:\n",
    "- $\\mathbf{p}$ and $\\mathbf{f}$ are $n_p$-dimensional vectors\n",
    "    - $n_p$ is the number of parameters\n",
    "- $\\mathbf{b}$ is an $n_c$-dimensional vector\n",
    "    - $n_c$ is the number of constraints\n",
    "- $\\mathbf{H}$ is an $n_p \\times n_p$ matrix\n",
    "- $\\mathbf{A}$ is an $n_p \\times n_c$ matrix"
   ]
  },
  {
   "cell_type": "markdown",
   "metadata": {},
   "source": [
    "The condition $\\mathbf{Ap\\leq b}$ defines constraints $\\mathbf{p^\\mathsf{T}a}^{(i)}\\leq b^{(i)}$ for $i=1, 2, \\cdots, n_c$ where $\\mathbf{a}^{(i)}$ is the $i^{th}$ row of $\\mathbf{A}$ and $b^{(i)}$ is the $i^{th}$ element of $\\mathbf{b}$."
   ]
  },
  {
   "cell_type": "markdown",
   "metadata": {},
   "source": [
    "The linear SVM classifier objectives can be derived from this equation because they are both convex quadratic optimization problems with linear constraints."
   ]
  },
  {
   "cell_type": "markdown",
   "metadata": {},
   "source": [
    "## The Dual Problem\n",
    "\n",
    "For every constrained optimization problem (or primal problem) a closely related problem (the dual problem) may be expressed that, under some  conditions, can have the same solution. The SVM problem is one example where this is the case.\n",
    "\n",
    "*Equation 6: Dual form of the linear SVM objective*\n",
    "\n",
    "\\begin{align}\n",
    "&\\underset{\\alpha}{\\text{minimize}} \\frac{1}{2} \\sum^m_{i=1} \\sum^m_{j=1} \n",
    "\\alpha^{(i)} \\alpha^{(j)} t^{(i)} t^{(j)} \\mathbf{x}^{(i)\\mathsf{T}} \\mathbf{x}^{(j)} -\n",
    "\\sum^m_{i=1} \\alpha^{(i)}\\\\\n",
    "& \\text{subject to} \\quad \\alpha^{(i)} \\geq 0 \\quad \\text{for } i=1,2,\\cdots,m\n",
    "\\end{align}"
   ]
  },
  {
   "cell_type": "markdown",
   "metadata": {},
   "source": [
    "A quadratic programming solver can be used to determine vector $\\hat{\\boldsymbol{\\alpha}}$ that minimizes this equation."
   ]
  },
  {
   "cell_type": "markdown",
   "metadata": {},
   "source": [
    "*Equation 7: From the dual solution to the primal solution*\n",
    "\n",
    "\\begin{align}\n",
    "&\\hat{\\mathbf{w}} = \\sum^m_{i=1} \\hat{\\alpha}^{(i)} t^{(i)} \\mathbf{x}^{(i)}\\\\\n",
    "&\\hat{b} = \\frac{1}{n_s} \\sum^m_{i=1,\\;\\hat{\\alpha}^{(i)} \\gt 0} \\bigl( t^{(i)} - \\hat{\\mathbf{w}}^\\mathsf{T} \\mathbf{x}^{(i)} \\bigr)\n",
    "\\end{align}"
   ]
  },
  {
   "cell_type": "markdown",
   "metadata": {},
   "source": [
    "where $\\hat{\\mathbf{w}}$ and $\\hat{b}$ minimize the primal problem.\n",
    "\n",
    "- When the number of training instances is smaller than the number of features, the dual problem is faster to solve than the primal problem\n",
    "- The dual problem enables use of the kernel trick, the primal does not"
   ]
  },
  {
   "cell_type": "markdown",
   "metadata": {},
   "source": [
    "## Kernelized SVMs\n",
    "\n",
    "Consider a second-degree polynomial transformation applied to a two-dimensional training set."
   ]
  },
  {
   "cell_type": "markdown",
   "metadata": {},
   "source": [
    "*Equation 8: Second-degree polynomial mapping*\n",
    "\n",
    "\\begin{equation*}\n",
    "\\phi(\\mathbf{x}) = \\phi\\biggl(\n",
    "    \\begin{pmatrix}\n",
    "    x_1\\\\\n",
    "    x_2\\\\\n",
    "    \\end{pmatrix} \\biggr) =\n",
    "    \\begin{pmatrix}\n",
    "    x^2_1\\\\\n",
    "    \\sqrt{2}x_1x_2\\\\\n",
    "    x^2_2\\\\\n",
    "    \\end{pmatrix}\n",
    "\\end{equation*}"
   ]
  },
  {
   "cell_type": "markdown",
   "metadata": {},
   "source": [
    "Now consider calculating the dot product of two transformed two-dimensional vectors $\\mathbf{a}$ and $\\mathbf{b}$."
   ]
  },
  {
   "cell_type": "markdown",
   "metadata": {},
   "source": [
    "*Equation 9: Kernel trick for a second-degree polynomial mapping*\n",
    "\n",
    "\\begin{align}\n",
    "\\phi(\\mathbf{a})^\\mathsf{T}\\phi(\\mathbf{b})\n",
    "    & = \\begin{pmatrix}\n",
    "    a_1^2\\\\\n",
    "    \\sqrt{2}a_1a_2\\\\\n",
    "    a_2^2\\\\\n",
    "    \\end{pmatrix}^\\mathsf{T}\n",
    "    \\begin{pmatrix}\n",
    "    b_1^2\\\\\n",
    "    \\sqrt{2}b_1b_2\\\\\n",
    "    b_2^2\\\\\n",
    "    \\end{pmatrix}\\\\[1ex]\n",
    "& = a_1^2b_1^2 + a_1b_1a_2b_2 + a_2^2b_2^2\\\\[1ex]\n",
    "& = (a_1b_1 + a_2b_2)^2\\\\[1ex]\n",
    "& = \\biggl(\n",
    "    \\begin{pmatrix}\n",
    "    a_1\\\\\n",
    "    a_2\\\\\n",
    "    \\end{pmatrix}^\\mathsf{T}\n",
    "    \\begin{pmatrix}\n",
    "    b_1\\\\\n",
    "    b_2\\\\\n",
    "    \\end{pmatrix}\n",
    "\\biggr)^2\\\\[1ex]\n",
    "& = (\\mathbf{a^\\mathsf{T}b})^2\n",
    "\\end{align}"
   ]
  },
  {
   "cell_type": "markdown",
   "metadata": {},
   "source": [
    "The dot product of the transformed vectors is equal to the squared dot product of the original vectors. This trick eliminates the need to transform each vector, significantly improving computational efficiency.\n",
    "\n",
    "A kernel is a function capable of computing the dot product of two transformed vectors without actually transforming them."
   ]
  },
  {
   "cell_type": "markdown",
   "metadata": {},
   "source": [
    "*Equation 10: Common kernels*\n",
    "\n",
    "\\begin{array}{@{}rl}\n",
    "\\text{Linear:} & K(\\mathbf{a}, \\mathbf{b}) = \\mathbf{a^\\mathsf{T}b}\\\\\n",
    "\\text{Polynomial:} & K(\\mathbf{a}, \\mathbf{b}) = (\\gamma\\mathbf{a^\\mathsf{T}}+r)^d\\\\\n",
    "\\text{Gaussian RBF:} & K(\\mathbf{a}, \\mathbf{b}) = \\text{exp}\\bigl( -\\gamma ||\\mathbf{a-b}||^2 \\bigr)\\\\\n",
    "\\text{Sigmoid:} & K(\\mathbf{a}, \\mathbf{b}) = \\text{tanh}(\\gamma\\mathbf{a^\\mathsf{T}b}+r)\n",
    "\\end{array}"
   ]
  },
  {
   "cell_type": "markdown",
   "metadata": {},
   "source": [
    "*Mercer's theorem* states that if a function $K(\\mathbf{a}, \\mathbf{b})$ satisfies *Mercer's condition*, then there exists a function $\\phi$ that maps $\\mathbf{a}$ and $\\mathbf{b}$ into another space such that $K(\\mathbf{a}, \\mathbf{b}) = \\phi(\\mathbf{a})^\\mathsf{T} \\phi(\\mathbf{b})$.\n",
    "\n",
    "*Mercer's condition:*\n",
    "\n",
    "There exists a mapping $\\phi$ and an expansion\n",
    "\n",
    "\\begin{equation*}\n",
    "K(\\mathbf{x}, \\mathbf{y}) = \\sum_i \\phi(\\mathbf{x})_i \\phi(\\mathbf{y})_i\n",
    "\\end{equation*}\n",
    "\n",
    "if and only if, for any $g(\\mathbf{x})$ such that\n",
    "\n",
    "\\begin{equation*}\n",
    "\\int g(\\mathbf{x})^2 d\\mathbf{x} \\text{ is finite }\n",
    "\\end{equation*}\n",
    "\n",
    "then\n",
    "\n",
    "\\begin{equation*}\n",
    "\\int K(\\mathbf{x}, \\mathbf{y}) g(\\mathbf{x}) g(\\mathbf{y}) d\\mathbf{x} d\\mathbf{y} \\geq 0\n",
    "\\end{equation*}"
   ]
  },
  {
   "cell_type": "markdown",
   "metadata": {},
   "source": [
    "Applying the kernel trick to the determination of the primal solution from the dual solution will involve equations that include $\\phi(x^{(i)})$, which can result in a $\\hat{\\mathbf{w}}$ that's impossible to compute. \n",
    "\n",
    "This can be avoided by expanding $\\hat{\\mathbf{w}}$ according to *Equation 7* in the decision function and deriving a form that accommodates the kernel trick."
   ]
  },
  {
   "cell_type": "markdown",
   "metadata": {},
   "source": [
    "*Equation 11: Making predictions with a kernelized SVM*\n",
    "\n",
    "\\begin{align}\n",
    "h_{\\hat{\\mathbf{w}},\\;\\hat{b}} \n",
    "& = \\hat{\\mathbf{w}}^\\mathsf{T}\\phi\\bigl( \\mathbf{x}^{(n)} \\bigr) + \\hat{b}\\\\[1ex]\n",
    "& = \\biggl( \n",
    "    \\sum_{i=1}^m \\hat{\\alpha}^{(i)} t^{(i)} \\phi\\bigl( \n",
    "        \\mathbf{x}^{(i)} \n",
    "    \\bigr) \n",
    "\\biggr)^\\mathsf{T} \\phi\\bigl( \\mathbf{x}^{(i)} \\bigr) + \\hat{b}\\\\[1ex]\n",
    "& = \\sum_{i=1}^m \\hat{\\alpha}^{(i)} t^{(i)} \\bigl(\n",
    "    \\phi\\bigl(\n",
    "        \\mathbf{x}^{(i)}\n",
    "    \\bigr)^\\mathsf{T} \\phi\\bigl(\n",
    "        \\mathbf{x}^{(n)}\n",
    "    \\bigr)\n",
    "\\bigr) + \\hat{b}\\\\[1ex]\n",
    "& = \\sum_{i=1,\\; \\hat{\\alpha}^{(i)} \\gt 1} \\hat{\\alpha}^{(i)} t^{(i)} K\\bigl(\n",
    "    \\mathbf{x}^{(i)},\\, \\mathbf{x}^{(n)}\n",
    "\\bigr) + \\hat{b}\n",
    "\\end{align}"
   ]
  },
  {
   "cell_type": "markdown",
   "metadata": {},
   "source": [
    "A kernel trick form of $\\hat{b}$ can be derived using the same method."
   ]
  },
  {
   "cell_type": "markdown",
   "metadata": {},
   "source": [
    "*Equation 12: Using the kernel trick to compute the bias term*\n",
    "\n",
    "\\begin{align}\n",
    "\\hat{b} \n",
    "& = \\frac{1}{n_s} \\sum_{i=1,\\; \\hat{\\alpha}^{(i)} \\gt 0} \\bigl(\n",
    "    t^{(i)} - \\hat{\\mathbf{w}}^\\mathsf{T} \\phi \\bigl(\n",
    "        \\mathbf{x}^{(i)}\n",
    "    \\bigr)\n",
    "\\bigr)\\\\\n",
    "& = \\frac{1}{n_s} \\sum_{i=1,\\; \\hat{\\alpha}^{(i)} \\gt 0} \\Bigl(\n",
    "    t^{(i)} - \\Bigl(\n",
    "        \\sum_{j=1}^m \\hat{\\alpha}^{(j)} t^{(j)} \\phi \\bigl(\n",
    "            \\mathbf{x}^{(j)}\n",
    "        \\bigr)\n",
    "    \\Bigr)^\\mathsf{T} \\phi \\bigl(\n",
    "        \\mathbf{x}^{(i)}\n",
    "    \\bigr)\n",
    "\\Bigr)\\\\\n",
    "& = \\frac{1}{n_s} \\sum_{i=1,\\; \\hat{\\alpha}^{(i)} \\gt 0} \\Biggl(\n",
    "    t^{(i)} - \\sum_{j=1,\\; \\hat{\\alpha}^{(j)} \\gt 0} \\hat{\\alpha}^{(j)} t^{(j)} K \\bigl(\n",
    "        \\mathbf{x}^{(i)},\\, \\mathbf{x}^{(j)}\n",
    "    \\bigr)\n",
    "\\Biggr)\n",
    "\\end{align}"
   ]
  },
  {
   "cell_type": "markdown",
   "metadata": {},
   "source": [
    "## Online SVMs\n",
    "\n",
    "An online linear SVM classifier can be implemented using Gradient Descent to minimize the cost function."
   ]
  },
  {
   "cell_type": "markdown",
   "metadata": {},
   "source": [
    "*Equation 13: Linear SVM classifier cost function*\n",
    "\n",
    "\\begin{equation*}\n",
    "J(\\mathbf{w},b) = \\frac{1}{2} \\mathbf{w^\\mathsf{T}w} + C \\sum_{i=1}^m max\\bigl(\n",
    "    0, 1 - t^{(i)} \\bigl(\n",
    "        \\mathbf{w^\\mathsf{T}x}^{(i)}+b\n",
    "    \\bigr)\n",
    "\\bigr)\n",
    "\\end{equation*}"
   ]
  },
  {
   "cell_type": "markdown",
   "metadata": {},
   "source": [
    "where $max(0, 1-t)$ is the hinge loss function, asserting that an instance's margin violation is 0 if it is located outside the margin on the correct side of the boundary and proportional to the distance to the correct boundary if not."
   ]
  }
 ],
 "metadata": {
  "kernelspec": {
   "display_name": "Python 3",
   "language": "python",
   "name": "python3"
  },
  "language_info": {
   "codemirror_mode": {
    "name": "ipython",
    "version": 3
   },
   "file_extension": ".py",
   "mimetype": "text/x-python",
   "name": "python",
   "nbconvert_exporter": "python",
   "pygments_lexer": "ipython3",
   "version": "3.7.6"
  }
 },
 "nbformat": 4,
 "nbformat_minor": 4
}
