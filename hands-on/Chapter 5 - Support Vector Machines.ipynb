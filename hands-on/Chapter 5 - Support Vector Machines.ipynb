{
 "cells": [
  {
   "cell_type": "markdown",
   "metadata": {},
   "source": [
    "A Support Vector Machine (SVM) is a versatile model that is particularly well suited for classification of complex small- or medium-sized datasets. SVMs are capable of both linear and nonlinear classification, regression, and outlier detection."
   ]
  },
  {
   "cell_type": "markdown",
   "metadata": {},
   "source": [
    "Topics:\n",
    "- Linear SVM Classification\n",
    "- Nonlinear SVM Classification\n",
    "- SVM Regression\n",
    "- Math & Theory Details"
   ]
  },
  {
   "cell_type": "markdown",
   "metadata": {},
   "source": [
    "# Linear SVM Classification\n",
    "\n",
    "Linear SVM Classification is a form of *large margin classification* that determines a decision boundary with the largest possible margin between classes.\n",
    "\n",
    "*Support vectors* are instances located at the edge of the margin that define the decision boundary.\n",
    "\n",
    "SVMs are sensitive to feature scales due to their motivation to maximize distance between support vectors. Imbalanced feature scales can result in some features (with larger scales) dominating the maximum distance calculation, so scaling data is an important step before training."
   ]
  },
  {
   "cell_type": "code",
   "execution_count": null,
   "metadata": {},
   "outputs": [],
   "source": []
  }
 ],
 "metadata": {
  "kernelspec": {
   "display_name": "Python 3",
   "language": "python",
   "name": "python3"
  },
  "language_info": {
   "codemirror_mode": {
    "name": "ipython",
    "version": 3
   },
   "file_extension": ".py",
   "mimetype": "text/x-python",
   "name": "python",
   "nbconvert_exporter": "python",
   "pygments_lexer": "ipython3",
   "version": "3.7.6"
  }
 },
 "nbformat": 4,
 "nbformat_minor": 4
}
