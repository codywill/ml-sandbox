{
 "cells": [
  {
   "cell_type": "markdown",
   "metadata": {},
   "source": [
    "Artificial neural networks are models inspired by networks of biological neurons that are made up of artificial neurons that individually perform various computations.\n",
    "\n",
    "Topics:\n",
    "\n",
    "- Overview\n",
    "- Implementation\n",
    "- Tuning"
   ]
  },
  {
   "cell_type": "markdown",
   "metadata": {},
   "source": [
    "# Overview\n",
    "\n",
    "One simple ANN architecture is the **Perceptron**, which is made up of a single layer of **threshold logic units (TLUs)**. A TLU computes a weighted sum of inputs and applies a step function to determine an output."
   ]
  },
  {
   "cell_type": "markdown",
   "metadata": {},
   "source": [
    "*Equation 1: Common step functions*\n",
    "\n",
    "\\begin{equation*}\n",
    "\\text{heaviside}(z) = \\begin{cases}\n",
    "0 \\;\\text{ if }\\; z \\lt t\\\\\n",
    "1 \\;\\text{ if }\\; z \\geq t\\\\\n",
    "\\end{cases}\n",
    "\\end{equation*}\n",
    "\n",
    "\\begin{equation*}\n",
    "\\text{sgn}(z) = \\begin{cases}\\begin{aligned}\n",
    "-1 \\;\\text{ if }\\; z \\lt t\\\\\n",
    "0 \\;\\text{ if }\\; z = t\\\\\n",
    "1 \\;\\text{ if }\\; z \\geq t\\\\\n",
    "\\end{aligned}\\end{cases}\n",
    "\\end{equation*}\n",
    "\n",
    "where $t$ is some numeric threshold."
   ]
  },
  {
   "cell_type": "markdown",
   "metadata": {},
   "source": [
    "Each TLU in a Perceptron is connected to all of the inputs in the input layer, classifying the Perceptron as a **fully connected layer**. Constant inputs are referred to as **bias neurons**."
   ]
  },
  {
   "cell_type": "markdown",
   "metadata": {},
   "source": [
    "*Equation 2: Computing fully connected layer outputs*\n",
    "\n",
    "\\begin{equation*}\n",
    "h_\\mathbf{W},\\mathbf{b}(\\mathbf{X}) = \\phi(\\mathbf{XW}+\\mathbf{b})\n",
    "\\end{equation*}\n",
    "\n",
    "- $\\mathbf{X}$ is the matrix of input features\n",
    "- $\\mathbf{W}$ is the vector of non-bias connectionn weights\n",
    "- $\\mathbf{b}$ is the vector of bias connection weights\n",
    "- $\\phi$ is the activation function (such as a step function)"
   ]
  },
  {
   "cell_type": "markdown",
   "metadata": {},
   "source": [
    "Training a Perceptron involves adjusting the weights after making predictions on each training instance to reduce the error."
   ]
  },
  {
   "cell_type": "markdown",
   "metadata": {},
   "source": [
    "*Equation 3: Perceptron learning rule*\n",
    "\n",
    "\\begin{equation*}\n",
    "w_{i,j}^{\\text{next step}} = w_{i,j} + \\eta  \\bigl(y_j - \\hat{y}_j\\bigr)x_i\n",
    "\\end{equation*}\n",
    "\n",
    "- $w_{i,j}$ is the connection weight between the $i^{\\text{th}}$ input neuron and the $j^{\\text{th}}$ output neuron\n",
    "- $x_i$ is the $i^{\\text{th}}$ input value of the current training instance\n",
    "- $\\hat{y}_j$ is the output of the $j^{\\text{th}}$ output neuron for the current training instance\n",
    "- $y_j$ is the target output of the $j^{\\text{th}}$ output neuron for the current training instance\n",
    "- $\\eta$ is the learning rate"
   ]
  },
  {
   "cell_type": "code",
   "execution_count": 1,
   "metadata": {},
   "outputs": [
    {
     "data": {
      "text/plain": [
       "Perceptron(alpha=0.0001, class_weight=None, early_stopping=False, eta0=1.0,\n",
       "           fit_intercept=True, max_iter=1000, n_iter_no_change=5, n_jobs=None,\n",
       "           penalty=None, random_state=0, shuffle=True, tol=0.001,\n",
       "           validation_fraction=0.1, verbose=0, warm_start=False)"
      ]
     },
     "execution_count": 1,
     "metadata": {},
     "output_type": "execute_result"
    }
   ],
   "source": [
    "# Perceptron demonstration with sklearn\n",
    "import numpy as np\n",
    "from sklearn.datasets import load_iris\n",
    "from sklearn.linear_model import Perceptron\n",
    "\n",
    "iris = load_iris()\n",
    "\n",
    "# Get petal length and width\n",
    "X = iris.data[:, (2, 3)]\n",
    "y = (iris.target == 0).astype(np.int)\n",
    "\n",
    "per_clf = Perceptron()\n",
    "per_clf.fit(X, y)"
   ]
  },
  {
   "cell_type": "code",
   "execution_count": 3,
   "metadata": {},
   "outputs": [
    {
     "data": {
      "text/plain": [
       "array([0])"
      ]
     },
     "execution_count": 3,
     "metadata": {},
     "output_type": "execute_result"
    }
   ],
   "source": [
    "y_pred = per_clf.predict([[2, 0.5]])\n",
    "y_pred"
   ]
  },
  {
   "cell_type": "markdown",
   "metadata": {},
   "source": [
    "A Multilayer Perceptron (MLP) is composed of one input layer, one or more hidden layers containing TLUs, and an output layer of TLUs. An artificial neural network that contains several hidden layers is considered a deep neural network (DNN).\n",
    "\n",
    "The backpropagation algorithm is a common training algorithm for layered networks. It works by passing batches of data through the layers and preserving the intermediate results, computing the output error, determining how each intermediate result contributed to the error in the following layer, and performing Gradient Descent to tweak each weight to reduce the error at each step. Each full pass of a batch is referred to as an epoch.\n",
    "\n",
    "Since the step function has no derivative, it is incompatible with Gradient Descent, and other activation functions must be used. Some options include:\n",
    "\n",
    "- The logistic  sigmoid function: $\\sigma(z) = 1/(1+\\text{exp}(-z))$\n",
    "- The hyperbolic tangent function: $tanh(z) = 2\\sigma(2z)-1$\n",
    "- The rectified linear unit function (ReLU): $\\text{ReLU}(z) = max(0, z)$"
   ]
  },
  {
   "cell_type": "markdown",
   "metadata": {},
   "source": [
    "## Implementation"
   ]
  },
  {
   "cell_type": "code",
   "execution_count": 2,
   "metadata": {},
   "outputs": [],
   "source": [
    "import tensorflow as tf\n",
    "from tensorflow import keras\n",
    "\n",
    "# Use Fashion MNIST dataset\n",
    "fashion_mnist = keras.datasets.fashion_mnist\n",
    "\n",
    "# Split into test and train sets\n",
    "(X_train_full, y_train_full), (X_test, y_test) = fashion_mnist.load_data()"
   ]
  },
  {
   "cell_type": "code",
   "execution_count": 3,
   "metadata": {},
   "outputs": [
    {
     "data": {
      "text/plain": [
       "((60000, 28, 28), dtype('uint8'))"
      ]
     },
     "execution_count": 3,
     "metadata": {},
     "output_type": "execute_result"
    }
   ],
   "source": [
    "X_train_full.shape, X_train_full.dtype"
   ]
  },
  {
   "cell_type": "code",
   "execution_count": 4,
   "metadata": {},
   "outputs": [],
   "source": [
    "# Normalize, separate validation and train sets\n",
    "X_valid, X_train = X_train_full[:5000] / 255.0, X_train_full[5000:] / 255.0\n",
    "y_valid, y_train = y_train_full[:5000], y_train_full[5000:]"
   ]
  },
  {
   "cell_type": "code",
   "execution_count": 5,
   "metadata": {},
   "outputs": [],
   "source": [
    "# Establish class names\n",
    "class_names = [\n",
    "    'T-shirt/top',\n",
    "    'Trouser',\n",
    "    'Pullover',\n",
    "    'Dress',\n",
    "    'Coat',\n",
    "    'Sandal',\n",
    "    'Shirt',\n",
    "    'Sneaker',\n",
    "    'Bag',\n",
    "    'Ankle boot'\n",
    "]"
   ]
  },
  {
   "cell_type": "code",
   "execution_count": 6,
   "metadata": {},
   "outputs": [
    {
     "data": {
      "image/png": "[encoded data removed]",
      "text/plain": [
       "<Figure size 432x288 with 1 Axes>"
      ]
     },
     "metadata": {
      "needs_background": "light"
     },
     "output_type": "display_data"
    }
   ],
   "source": [
    "import matplotlib.pyplot as plt\n",
    "\n",
    "plt.imshow(X_train[0], cmap=\"binary\")\n",
    "plt.axis('off')\n",
    "plt.show()"
   ]
  },
  {
   "cell_type": "code",
   "execution_count": 7,
   "metadata": {},
   "outputs": [
    {
     "data": {
      "text/plain": [
       "'Coat'"
      ]
     },
     "execution_count": 7,
     "metadata": {},
     "output_type": "execute_result"
    }
   ],
   "source": [
    "class_names[y_train[0]]"
   ]
  },
  {
   "cell_type": "code",
   "execution_count": 8,
   "metadata": {},
   "outputs": [],
   "source": [
    "# Clear existing session\n",
    "keras.backend.clear_session()\n",
    "\n",
    "# Sequential model, single stack of layers connected sequentially\n",
    "model = keras.models.Sequential()\n",
    "\n",
    "# Flatten each input to a 1D array\n",
    "model.add(keras.layers.Flatten(input_shape=[28, 28]))\n",
    "\n",
    "# Two dense hidden layers, relu as it's usually the default\n",
    "model.add(keras.layers.Dense(300, activation='relu'))\n",
    "model.add(keras.layers.Dense(100, activation='relu'))\n",
    "\n",
    "# Dense output layer with one output per class, softmax for exclusive classification\n",
    "model.add(keras.layers.Dense(10, activation='softmax'))"
   ]
  },
  {
   "cell_type": "code",
   "execution_count": 9,
   "metadata": {},
   "outputs": [],
   "source": [
    "keras.backend.clear_session()\n",
    "\n",
    "# Alternatively, initialize the model with list of layers\n",
    "model = keras.models.Sequential([\n",
    "    keras.layers.Flatten(input_shape=[28, 28]),\n",
    "    keras.layers.Dense(300, activation='relu'),\n",
    "    keras.layers.Dense(100, activation='relu'),\n",
    "    keras.layers.Dense(10, activation='softmax')\n",
    "])"
   ]
  },
  {
   "cell_type": "code",
   "execution_count": 10,
   "metadata": {},
   "outputs": [
    {
     "name": "stdout",
     "output_type": "stream",
     "text": [
      "Model: \"sequential\"\n",
      "_________________________________________________________________\n",
      "Layer (type)                 Output Shape              Param #   \n",
      "=================================================================\n",
      "flatten (Flatten)            (None, 784)               0         \n",
      "_________________________________________________________________\n",
      "dense (Dense)                (None, 300)               235500    \n",
      "_________________________________________________________________\n",
      "dense_1 (Dense)              (None, 100)               30100     \n",
      "_________________________________________________________________\n",
      "dense_2 (Dense)              (None, 10)                1010      \n",
      "=================================================================\n",
      "Total params: 266,610\n",
      "Trainable params: 266,610\n",
      "Non-trainable params: 0\n",
      "_________________________________________________________________\n"
     ]
    }
   ],
   "source": [
    "# View the model summary\n",
    "model.summary()"
   ]
  },
  {
   "cell_type": "code",
   "execution_count": 11,
   "metadata": {},
   "outputs": [
    {
     "data": {
      "text/plain": [
       "[<tensorflow.python.keras.layers.core.Flatten at 0x20cff5e7c88>,\n",
       " <tensorflow.python.keras.layers.core.Dense at 0x20cff65cfc8>,\n",
       " <tensorflow.python.keras.layers.core.Dense at 0x20cdf360208>,\n",
       " <tensorflow.python.keras.layers.core.Dense at 0x20cdf360988>]"
      ]
     },
     "execution_count": 11,
     "metadata": {},
     "output_type": "execute_result"
    }
   ],
   "source": [
    "# Access the list of layers\n",
    "model.layers"
   ]
  },
  {
   "cell_type": "code",
   "execution_count": 12,
   "metadata": {},
   "outputs": [
    {
     "data": {
      "text/plain": [
       "True"
      ]
     },
     "execution_count": 12,
     "metadata": {},
     "output_type": "execute_result"
    }
   ],
   "source": [
    "# Access layers by name or index\n",
    "model.get_layer('dense') is model.layers[1]"
   ]
  },
  {
   "cell_type": "code",
   "execution_count": 13,
   "metadata": {},
   "outputs": [
    {
     "data": {
      "text/plain": [
       "(array([[-0.00023267, -0.02242439, -0.03643226, ...,  0.0466231 ,\n",
       "          0.00348783,  0.04005018],\n",
       "        [-0.06162835,  0.03964276,  0.03694639, ...,  0.07041022,\n",
       "          0.041781  , -0.06971791],\n",
       "        [ 0.03926212,  0.06389691,  0.03737323, ...,  0.05727755,\n",
       "          0.05293128,  0.01367906],\n",
       "        ...,\n",
       "        [ 0.00638623,  0.00300123,  0.00422489, ..., -0.0642083 ,\n",
       "         -0.03030301, -0.02549198],\n",
       "        [ 0.03974923,  0.07265262, -0.01564472, ...,  0.02200408,\n",
       "          0.01381736,  0.05074489],\n",
       "        [-0.00818192,  0.03355133,  0.05846569, ..., -0.0644336 ,\n",
       "          0.03404753, -0.0319648 ]], dtype=float32),\n",
       " array([0., 0., 0., 0., 0., 0., 0., 0., 0., 0., 0., 0., 0., 0., 0., 0., 0.,\n",
       "        0., 0., 0., 0., 0., 0., 0., 0., 0., 0., 0., 0., 0., 0., 0., 0., 0.,\n",
       "        0., 0., 0., 0., 0., 0., 0., 0., 0., 0., 0., 0., 0., 0., 0., 0., 0.,\n",
       "        0., 0., 0., 0., 0., 0., 0., 0., 0., 0., 0., 0., 0., 0., 0., 0., 0.,\n",
       "        0., 0., 0., 0., 0., 0., 0., 0., 0., 0., 0., 0., 0., 0., 0., 0., 0.,\n",
       "        0., 0., 0., 0., 0., 0., 0., 0., 0., 0., 0., 0., 0., 0., 0., 0., 0.,\n",
       "        0., 0., 0., 0., 0., 0., 0., 0., 0., 0., 0., 0., 0., 0., 0., 0., 0.,\n",
       "        0., 0., 0., 0., 0., 0., 0., 0., 0., 0., 0., 0., 0., 0., 0., 0., 0.,\n",
       "        0., 0., 0., 0., 0., 0., 0., 0., 0., 0., 0., 0., 0., 0., 0., 0., 0.,\n",
       "        0., 0., 0., 0., 0., 0., 0., 0., 0., 0., 0., 0., 0., 0., 0., 0., 0.,\n",
       "        0., 0., 0., 0., 0., 0., 0., 0., 0., 0., 0., 0., 0., 0., 0., 0., 0.,\n",
       "        0., 0., 0., 0., 0., 0., 0., 0., 0., 0., 0., 0., 0., 0., 0., 0., 0.,\n",
       "        0., 0., 0., 0., 0., 0., 0., 0., 0., 0., 0., 0., 0., 0., 0., 0., 0.,\n",
       "        0., 0., 0., 0., 0., 0., 0., 0., 0., 0., 0., 0., 0., 0., 0., 0., 0.,\n",
       "        0., 0., 0., 0., 0., 0., 0., 0., 0., 0., 0., 0., 0., 0., 0., 0., 0.,\n",
       "        0., 0., 0., 0., 0., 0., 0., 0., 0., 0., 0., 0., 0., 0., 0., 0., 0.,\n",
       "        0., 0., 0., 0., 0., 0., 0., 0., 0., 0., 0., 0., 0., 0., 0., 0., 0.,\n",
       "        0., 0., 0., 0., 0., 0., 0., 0., 0., 0., 0.], dtype=float32))"
      ]
     },
     "execution_count": 13,
     "metadata": {},
     "output_type": "execute_result"
    }
   ],
   "source": [
    "# Access weights and biases\n",
    "weights, biases = model.get_layer('dense').get_weights()\n",
    "weights, biases"
   ]
  },
  {
   "cell_type": "code",
   "execution_count": 14,
   "metadata": {},
   "outputs": [],
   "source": [
    "# Compile the model to specify loss function and optimizer\n",
    "model.compile(loss='sparse_categorical_crossentropy', optimizer='sgd', metrics=['accuracy'])"
   ]
  },
  {
   "cell_type": "markdown",
   "metadata": {},
   "source": [
    "Note: sparse_categorical_crossentropy is used for exclusive classification. If one-hot vectors are desired, categorical_crossentropy should be used instead."
   ]
  },
  {
   "cell_type": "code",
   "execution_count": 15,
   "metadata": {},
   "outputs": [
    {
     "name": "stdout",
     "output_type": "stream",
     "text": [
      "Train on 55000 samples, validate on 5000 samples\n",
      "Epoch 1/30\n",
      "55000/55000 [==============================] - 8s 149us/sample - loss: 0.7109 - accuracy: 0.7676 - val_loss: 0.4978 - val_accuracy: 0.8360\n",
      "Epoch 2/30\n",
      "55000/55000 [==============================] - 7s 133us/sample - loss: 0.4863 - accuracy: 0.8321 - val_loss: 0.4439 - val_accuracy: 0.8460\n",
      "Epoch 3/30\n",
      "55000/55000 [==============================] - 8s 145us/sample - loss: 0.4421 - accuracy: 0.8471 - val_loss: 0.4255 - val_accuracy: 0.8586\n",
      "Epoch 4/30\n",
      "55000/55000 [==============================] - 8s 152us/sample - loss: 0.4136 - accuracy: 0.8548 - val_loss: 0.3889 - val_accuracy: 0.8674\n",
      "Epoch 5/30\n",
      "55000/55000 [==============================] - 8s 144us/sample - loss: 0.3949 - accuracy: 0.8612 - val_loss: 0.3806 - val_accuracy: 0.8664\n",
      "Epoch 6/30\n",
      "55000/55000 [==============================] - 8s 147us/sample - loss: 0.3781 - accuracy: 0.8659 - val_loss: 0.3641 - val_accuracy: 0.8772\n",
      "Epoch 7/30\n",
      "55000/55000 [==============================] - 8s 141us/sample - loss: 0.3649 - accuracy: 0.8703 - val_loss: 0.3786 - val_accuracy: 0.8686\n",
      "Epoch 8/30\n",
      "55000/55000 [==============================] - 7s 131us/sample - loss: 0.3529 - accuracy: 0.8744 - val_loss: 0.3567 - val_accuracy: 0.8766\n",
      "Epoch 9/30\n",
      "55000/55000 [==============================] - 8s 142us/sample - loss: 0.3425 - accuracy: 0.8789 - val_loss: 0.3597 - val_accuracy: 0.8760\n",
      "Epoch 10/30\n",
      "55000/55000 [==============================] - 7s 135us/sample - loss: 0.3323 - accuracy: 0.8811 - val_loss: 0.3465 - val_accuracy: 0.8732\n",
      "Epoch 11/30\n",
      "55000/55000 [==============================] - 7s 134us/sample - loss: 0.3243 - accuracy: 0.8846 - val_loss: 0.3335 - val_accuracy: 0.8826\n",
      "Epoch 12/30\n",
      "55000/55000 [==============================] - 7s 131us/sample - loss: 0.3170 - accuracy: 0.8864 - val_loss: 0.3409 - val_accuracy: 0.8786\n",
      "Epoch 13/30\n",
      "55000/55000 [==============================] - 7s 134us/sample - loss: 0.3092 - accuracy: 0.8883 - val_loss: 0.3331 - val_accuracy: 0.8820\n",
      "Epoch 14/30\n",
      "55000/55000 [==============================] - 8s 149us/sample - loss: 0.3031 - accuracy: 0.8917 - val_loss: 0.3458 - val_accuracy: 0.8744\n",
      "Epoch 15/30\n",
      "55000/55000 [==============================] - 8s 141us/sample - loss: 0.2960 - accuracy: 0.8929 - val_loss: 0.3159 - val_accuracy: 0.8860\n",
      "Epoch 16/30\n",
      "55000/55000 [==============================] - 8s 140us/sample - loss: 0.2902 - accuracy: 0.8952 - val_loss: 0.3249 - val_accuracy: 0.8854\n",
      "Epoch 17/30\n",
      "55000/55000 [==============================] - 9s 156us/sample - loss: 0.2842 - accuracy: 0.8980 - val_loss: 0.3111 - val_accuracy: 0.8896\n",
      "Epoch 18/30\n",
      "55000/55000 [==============================] - 7s 134us/sample - loss: 0.2794 - accuracy: 0.8984 - val_loss: 0.3124 - val_accuracy: 0.8846\n",
      "Epoch 19/30\n",
      "55000/55000 [==============================] - 7s 129us/sample - loss: 0.2743 - accuracy: 0.9012 - val_loss: 0.3170 - val_accuracy: 0.8848\n",
      "Epoch 20/30\n",
      "55000/55000 [==============================] - 7s 126us/sample - loss: 0.2694 - accuracy: 0.9028 - val_loss: 0.3167 - val_accuracy: 0.8864\n",
      "Epoch 21/30\n",
      "55000/55000 [==============================] - 8s 154us/sample - loss: 0.2636 - accuracy: 0.9045 - val_loss: 0.3041 - val_accuracy: 0.8882\n",
      "Epoch 22/30\n",
      "55000/55000 [==============================] - 8s 150us/sample - loss: 0.2593 - accuracy: 0.9060 - val_loss: 0.3047 - val_accuracy: 0.8878\n",
      "Epoch 23/30\n",
      "55000/55000 [==============================] - 8s 148us/sample - loss: 0.2541 - accuracy: 0.9084 - val_loss: 0.3025 - val_accuracy: 0.8910\n",
      "Epoch 24/30\n",
      "55000/55000 [==============================] - 8s 148us/sample - loss: 0.2501 - accuracy: 0.9091 - val_loss: 0.3019 - val_accuracy: 0.8906\n",
      "Epoch 25/30\n",
      "55000/55000 [==============================] - 8s 140us/sample - loss: 0.2458 - accuracy: 0.9111 - val_loss: 0.3027 - val_accuracy: 0.8910\n",
      "Epoch 26/30\n",
      "55000/55000 [==============================] - 8s 152us/sample - loss: 0.2416 - accuracy: 0.9131 - val_loss: 0.3098 - val_accuracy: 0.8862\n",
      "Epoch 27/30\n",
      "55000/55000 [==============================] - 8s 147us/sample - loss: 0.2382 - accuracy: 0.9145 - val_loss: 0.3246 - val_accuracy: 0.8812\n",
      "Epoch 28/30\n",
      "55000/55000 [==============================] - 8s 143us/sample - loss: 0.2338 - accuracy: 0.9162 - val_loss: 0.2933 - val_accuracy: 0.8942\n",
      "Epoch 29/30\n",
      "55000/55000 [==============================] - 8s 145us/sample - loss: 0.2290 - accuracy: 0.9175 - val_loss: 0.3126 - val_accuracy: 0.8870\n",
      "Epoch 30/30\n",
      "55000/55000 [==============================] - 8s 143us/sample - loss: 0.2267 - accuracy: 0.9182 - val_loss: 0.2971 - val_accuracy: 0.8926\n"
     ]
    }
   ],
   "source": [
    "# Training the model returns a History object\n",
    "history = model.fit(X_train, y_train, epochs=30, validation_data=(X_valid, y_valid))"
   ]
  },
  {
   "cell_type": "code",
   "execution_count": 16,
   "metadata": {},
   "outputs": [
    {
     "data": {
      "text/plain": [
       "<matplotlib.axes._subplots.AxesSubplot at 0x20cff4d7b08>"
      ]
     },
     "execution_count": 16,
     "metadata": {},
     "output_type": "execute_result"
    },
    {
     "data": {
      "image/png": "[encoded data removed]",
      "text/plain": [
       "<Figure size 432x288 with 1 Axes>"
      ]
     },
     "metadata": {
      "needs_background": "light"
     },
     "output_type": "display_data"
    }
   ],
   "source": [
    "import pandas as pd\n",
    "\n",
    "# The history can be plotted to observe the accuracy and loss over time\n",
    "pd.DataFrame(history.history).plot()"
   ]
  },
  {
   "cell_type": "code",
   "execution_count": null,
   "metadata": {},
   "outputs": [],
   "source": []
  }
 ],
 "metadata": {
  "kernelspec": {
   "display_name": "Python 3",
   "language": "python",
   "name": "python3"
  },
  "language_info": {
   "codemirror_mode": {
    "name": "ipython",
    "version": 3
   },
   "file_extension": ".py",
   "mimetype": "text/x-python",
   "name": "python",
   "nbconvert_exporter": "python",
   "pygments_lexer": "ipython3",
   "version": "3.7.6"
  }
 },
 "nbformat": 4,
 "nbformat_minor": 4
}
