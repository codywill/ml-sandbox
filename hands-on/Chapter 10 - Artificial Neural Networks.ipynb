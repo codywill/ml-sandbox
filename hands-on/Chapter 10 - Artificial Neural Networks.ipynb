{
 "cells": [
  {
   "cell_type": "markdown",
   "metadata": {},
   "source": [
    "Artificial neural networks are models inspired by networks of biological neurons that are made up of artificial neurons that individually perform various computations.\n",
    "\n",
    "Topics:\n",
    "\n",
    "- Overview\n",
    "- Implementation\n",
    "- Tuning"
   ]
  },
  {
   "cell_type": "markdown",
   "metadata": {},
   "source": [
    "# Overview\n",
    "\n",
    "One simple ANN architecture is the **Perceptron**, which is made up of a single layer of **threshold logic units (TLUs)**. A TLU computes a weighted sum of inputs and applies a step function to determine an output."
   ]
  },
  {
   "cell_type": "markdown",
   "metadata": {},
   "source": [
    "*Equation 1: Common step functions*\n",
    "\n",
    "\\begin{equation*}\n",
    "\\text{heaviside}(z) = \\begin{cases}\n",
    "0 \\;\\text{ if }\\; z \\lt t\\\\\n",
    "1 \\;\\text{ if }\\; z \\geq t\\\\\n",
    "\\end{cases}\n",
    "\\end{equation*}\n",
    "\n",
    "\\begin{equation*}\n",
    "\\text{sgn}(z) = \\begin{cases}\\begin{aligned}\n",
    "-1 \\;\\text{ if }\\; z \\lt t\\\\\n",
    "0 \\;\\text{ if }\\; z = t\\\\\n",
    "1 \\;\\text{ if }\\; z \\geq t\\\\\n",
    "\\end{aligned}\\end{cases}\n",
    "\\end{equation*}\n",
    "\n",
    "where $t$ is some numeric threshold."
   ]
  },
  {
   "cell_type": "markdown",
   "metadata": {},
   "source": [
    "Each TLU in a Perceptron is connected to all of the inputs in the input layer, classifying the Perceptron as a **fully connected layer**. Constant inputs are referred to as **bias neurons**."
   ]
  },
  {
   "cell_type": "markdown",
   "metadata": {},
   "source": [
    "*Equation 2: Computing fully connected layer outputs*\n",
    "\n",
    "\\begin{equation*}\n",
    "h_\\mathbf{W},\\mathbf{b}(\\mathbf{X}) = \\phi(\\mathbf{XW}+\\mathbf{b})\n",
    "\\end{equation*}\n",
    "\n",
    "- $\\mathbf{X}$ is the matrix of input features\n",
    "- $\\mathbf{W}$ is the vector of non-bias connectionn weights\n",
    "- $\\mathbf{b}$ is the vector of bias connection weights\n",
    "- $\\phi$ is the activation function (such as a step function)"
   ]
  },
  {
   "cell_type": "markdown",
   "metadata": {},
   "source": [
    "Training a Perceptron involves adjusting the weights after making predictions on each training instance to reduce the error."
   ]
  },
  {
   "cell_type": "markdown",
   "metadata": {},
   "source": [
    "*Equation 3: Perceptron learning rule*\n",
    "\n",
    "\\begin{equation*}\n",
    "w_{i,j}^{\\text{next step}} = w_{i,j} + \\eta  \\bigl(y_j - \\hat{y}_j\\bigr)x_i\n",
    "\\end{equation*}\n",
    "\n",
    "- $w_{i,j}$ is the connection weight between the $i^{\\text{th}}$ input neuron and the $j^{\\text{th}}$ output neuron\n",
    "- $x_i$ is the $i^{\\text{th}}$ input value of the current training instance\n",
    "- $\\hat{y}_j$ is the output of the $j^{\\text{th}}$ output neuron for the current training instance\n",
    "- $y_j$ is the target output of the $j^{\\text{th}}$ output neuron for the current training instance\n",
    "- $\\eta$ is the learning rate"
   ]
  },
  {
   "cell_type": "code",
   "execution_count": 9,
   "metadata": {},
   "outputs": [
    {
     "data": {
      "text/plain": [
       "Perceptron(alpha=0.0001, class_weight=None, early_stopping=False, eta0=1.0,\n",
       "           fit_intercept=True, max_iter=1000, n_iter_no_change=5, n_jobs=None,\n",
       "           penalty=None, random_state=0, shuffle=True, tol=0.001,\n",
       "           validation_fraction=0.1, verbose=0, warm_start=False)"
      ]
     },
     "execution_count": 9,
     "metadata": {},
     "output_type": "execute_result"
    }
   ],
   "source": [
    "# Perceptron demonstration with sklearn\n",
    "import numpy as np\n",
    "from sklearn.datasets import load_iris\n",
    "from sklearn.linear_model import Perceptron\n",
    "\n",
    "iris = load_iris()\n",
    "\n",
    "# Get petal length and width\n",
    "X = iris.data[:, (2, 3)]\n",
    "y = (iris.target == 0).astype(np.int)\n",
    "\n",
    "per_clf = Perceptron()\n",
    "per_clf.fit(X, y)"
   ]
  },
  {
   "cell_type": "code",
   "execution_count": 2,
   "metadata": {},
   "outputs": [
    {
     "data": {
      "text/plain": [
       "array([0])"
      ]
     },
     "execution_count": 2,
     "metadata": {},
     "output_type": "execute_result"
    }
   ],
   "source": [
    "y_pred = per_clf.predict([[2, 0.5]])\n",
    "y_pred"
   ]
  },
  {
   "cell_type": "markdown",
   "metadata": {},
   "source": [
    "A Multilayer Perceptron (MLP) is composed of one input layer, one or more hidden layers containing TLUs, and an output layer of TLUs. An artificial neural network that contains several hidden layers is considered a deep neural network (DNN).\n",
    "\n",
    "The backpropagation algorithm is a common training algorithm for layered networks. It works by passing batches of data through the layers and preserving the intermediate results, computing the output error, determining how each intermediate result contributed to the error in the following layer, and performing Gradient Descent to tweak each weight to reduce the error at each step. Each full pass of a batch is referred to as an epoch.\n",
    "\n",
    "Since the step function has no derivative, it is incompatible with Gradient Descent, and other activation functions must be used. Some options include:\n",
    "\n",
    "- The logistic  sigmoid function: $\\sigma(z) = 1/(1+\\text{exp}(-z))$\n",
    "- The hyperbolic tangent function: $tanh(z) = 2\\sigma(2z)-1$\n",
    "- The rectified linear unit function (ReLU): $\\text{ReLU}(z) = max(0, z)$"
   ]
  },
  {
   "cell_type": "markdown",
   "metadata": {},
   "source": [
    "## Implementation\n",
    "\n",
    "Keras has three APIs for building models: the Sequential API, the Functional API, and the Subclassing API. Each of the following sections will demonstrate one of them.\n",
    "\n",
    "### Classification (Sequential API)"
   ]
  },
  {
   "cell_type": "code",
   "execution_count": 1,
   "metadata": {},
   "outputs": [],
   "source": [
    "import tensorflow as tf\n",
    "from tensorflow import keras\n",
    "\n",
    "# Use Fashion MNIST dataset\n",
    "fashion_mnist = keras.datasets.fashion_mnist\n",
    "\n",
    "# Split into test and train sets\n",
    "(X_train_full, y_train_full), (X_test, y_test) = fashion_mnist.load_data()"
   ]
  },
  {
   "cell_type": "code",
   "execution_count": 4,
   "metadata": {},
   "outputs": [
    {
     "data": {
      "text/plain": [
       "((60000, 28, 28), dtype('uint8'))"
      ]
     },
     "execution_count": 4,
     "metadata": {},
     "output_type": "execute_result"
    }
   ],
   "source": [
    "X_train_full.shape, X_train_full.dtype"
   ]
  },
  {
   "cell_type": "code",
   "execution_count": 5,
   "metadata": {},
   "outputs": [],
   "source": [
    "# Normalize, separate validation and train sets\n",
    "X_valid, X_train = X_train_full[:5000] / 255.0, X_train_full[5000:] / 255.0\n",
    "y_valid, y_train = y_train_full[:5000], y_train_full[5000:]"
   ]
  },
  {
   "cell_type": "code",
   "execution_count": 6,
   "metadata": {},
   "outputs": [],
   "source": [
    "# Establish class names\n",
    "class_names = [\n",
    "    'T-shirt/top',\n",
    "    'Trouser',\n",
    "    'Pullover',\n",
    "    'Dress',\n",
    "    'Coat',\n",
    "    'Sandal',\n",
    "    'Shirt',\n",
    "    'Sneaker',\n",
    "    'Bag',\n",
    "    'Ankle boot'\n",
    "]"
   ]
  },
  {
   "cell_type": "code",
   "execution_count": 7,
   "metadata": {},
   "outputs": [
    {
     "data": {
      "image/png": "[encoded data removed]",
      "text/plain": [
       "<Figure size 432x288 with 1 Axes>"
      ]
     },
     "metadata": {
      "needs_background": "light"
     },
     "output_type": "display_data"
    }
   ],
   "source": [
    "import matplotlib.pyplot as plt\n",
    "\n",
    "plt.imshow(X_train[0], cmap=\"binary\")\n",
    "plt.axis('off')\n",
    "plt.show()"
   ]
  },
  {
   "cell_type": "code",
   "execution_count": 8,
   "metadata": {},
   "outputs": [
    {
     "data": {
      "text/plain": [
       "'Coat'"
      ]
     },
     "execution_count": 8,
     "metadata": {},
     "output_type": "execute_result"
    }
   ],
   "source": [
    "class_names[y_train[0]]"
   ]
  },
  {
   "cell_type": "code",
   "execution_count": 9,
   "metadata": {},
   "outputs": [],
   "source": [
    "# Clear existing session\n",
    "keras.backend.clear_session()\n",
    "\n",
    "# Sequential model, single stack of layers connected sequentially\n",
    "model = keras.models.Sequential()\n",
    "\n",
    "# Flatten each input to a 1D array\n",
    "model.add(keras.layers.Flatten(input_shape=[28, 28]))\n",
    "\n",
    "# Two dense hidden layers, relu as it's usually the default\n",
    "model.add(keras.layers.Dense(300, activation='relu'))\n",
    "model.add(keras.layers.Dense(100, activation='relu'))\n",
    "\n",
    "# Dense output layer with one output per class, softmax for exclusive classification\n",
    "model.add(keras.layers.Dense(10, activation='softmax'))"
   ]
  },
  {
   "cell_type": "code",
   "execution_count": 10,
   "metadata": {},
   "outputs": [],
   "source": [
    "keras.backend.clear_session()\n",
    "\n",
    "# Alternatively, initialize the model with list of layers\n",
    "model = keras.models.Sequential([\n",
    "    keras.layers.Flatten(input_shape=[28, 28]),\n",
    "    keras.layers.Dense(300, activation='relu'),\n",
    "    keras.layers.Dense(100, activation='relu'),\n",
    "    keras.layers.Dense(10, activation='softmax')\n",
    "])"
   ]
  },
  {
   "cell_type": "code",
   "execution_count": 11,
   "metadata": {},
   "outputs": [
    {
     "name": "stdout",
     "output_type": "stream",
     "text": [
      "Model: \"sequential\"\n",
      "_________________________________________________________________\n",
      "Layer (type)                 Output Shape              Param #   \n",
      "=================================================================\n",
      "flatten (Flatten)            (None, 784)               0         \n",
      "_________________________________________________________________\n",
      "dense (Dense)                (None, 300)               235500    \n",
      "_________________________________________________________________\n",
      "dense_1 (Dense)              (None, 100)               30100     \n",
      "_________________________________________________________________\n",
      "dense_2 (Dense)              (None, 10)                1010      \n",
      "=================================================================\n",
      "Total params: 266,610\n",
      "Trainable params: 266,610\n",
      "Non-trainable params: 0\n",
      "_________________________________________________________________\n"
     ]
    }
   ],
   "source": [
    "# View the model summary\n",
    "model.summary()"
   ]
  },
  {
   "cell_type": "code",
   "execution_count": 12,
   "metadata": {},
   "outputs": [
    {
     "data": {
      "text/plain": [
       "[<tensorflow.python.keras.layers.core.Flatten at 0x1daff98cac8>,\n",
       " <tensorflow.python.keras.layers.core.Dense at 0x1daffa22648>,\n",
       " <tensorflow.python.keras.layers.core.Dense at 0x1daffa227c8>,\n",
       " <tensorflow.python.keras.layers.core.Dense at 0x1daffa22ec8>]"
      ]
     },
     "execution_count": 12,
     "metadata": {},
     "output_type": "execute_result"
    }
   ],
   "source": [
    "# Access the list of layers\n",
    "model.layers"
   ]
  },
  {
   "cell_type": "code",
   "execution_count": 13,
   "metadata": {},
   "outputs": [
    {
     "data": {
      "text/plain": [
       "True"
      ]
     },
     "execution_count": 13,
     "metadata": {},
     "output_type": "execute_result"
    }
   ],
   "source": [
    "# Access layers by name or index\n",
    "model.get_layer('dense') is model.layers[1]"
   ]
  },
  {
   "cell_type": "code",
   "execution_count": 14,
   "metadata": {},
   "outputs": [
    {
     "data": {
      "text/plain": [
       "(array([[ 0.05135491,  0.0093123 , -0.04415404, ..., -0.00132608,\n",
       "         -0.06461485, -0.0686061 ],\n",
       "        [-0.04437665, -0.0099875 , -0.00919275, ...,  0.00827672,\n",
       "          0.03127936, -0.02838699],\n",
       "        [-0.05012524,  0.05122694,  0.0237115 , ...,  0.00583497,\n",
       "          0.06205806, -0.04497433],\n",
       "        ...,\n",
       "        [ 0.01310103,  0.02924064,  0.00442895, ...,  0.05478485,\n",
       "         -0.04044497, -0.02812814],\n",
       "        [-0.05405405,  0.03119689,  0.03655479, ..., -0.01992878,\n",
       "         -0.04658104, -0.06543028],\n",
       "        [ 0.04888155, -0.04975817, -0.04395811, ..., -0.02314116,\n",
       "         -0.01381786,  0.01610918]], dtype=float32),\n",
       " array([0., 0., 0., 0., 0., 0., 0., 0., 0., 0., 0., 0., 0., 0., 0., 0., 0.,\n",
       "        0., 0., 0., 0., 0., 0., 0., 0., 0., 0., 0., 0., 0., 0., 0., 0., 0.,\n",
       "        0., 0., 0., 0., 0., 0., 0., 0., 0., 0., 0., 0., 0., 0., 0., 0., 0.,\n",
       "        0., 0., 0., 0., 0., 0., 0., 0., 0., 0., 0., 0., 0., 0., 0., 0., 0.,\n",
       "        0., 0., 0., 0., 0., 0., 0., 0., 0., 0., 0., 0., 0., 0., 0., 0., 0.,\n",
       "        0., 0., 0., 0., 0., 0., 0., 0., 0., 0., 0., 0., 0., 0., 0., 0., 0.,\n",
       "        0., 0., 0., 0., 0., 0., 0., 0., 0., 0., 0., 0., 0., 0., 0., 0., 0.,\n",
       "        0., 0., 0., 0., 0., 0., 0., 0., 0., 0., 0., 0., 0., 0., 0., 0., 0.,\n",
       "        0., 0., 0., 0., 0., 0., 0., 0., 0., 0., 0., 0., 0., 0., 0., 0., 0.,\n",
       "        0., 0., 0., 0., 0., 0., 0., 0., 0., 0., 0., 0., 0., 0., 0., 0., 0.,\n",
       "        0., 0., 0., 0., 0., 0., 0., 0., 0., 0., 0., 0., 0., 0., 0., 0., 0.,\n",
       "        0., 0., 0., 0., 0., 0., 0., 0., 0., 0., 0., 0., 0., 0., 0., 0., 0.,\n",
       "        0., 0., 0., 0., 0., 0., 0., 0., 0., 0., 0., 0., 0., 0., 0., 0., 0.,\n",
       "        0., 0., 0., 0., 0., 0., 0., 0., 0., 0., 0., 0., 0., 0., 0., 0., 0.,\n",
       "        0., 0., 0., 0., 0., 0., 0., 0., 0., 0., 0., 0., 0., 0., 0., 0., 0.,\n",
       "        0., 0., 0., 0., 0., 0., 0., 0., 0., 0., 0., 0., 0., 0., 0., 0., 0.,\n",
       "        0., 0., 0., 0., 0., 0., 0., 0., 0., 0., 0., 0., 0., 0., 0., 0., 0.,\n",
       "        0., 0., 0., 0., 0., 0., 0., 0., 0., 0., 0.], dtype=float32))"
      ]
     },
     "execution_count": 14,
     "metadata": {},
     "output_type": "execute_result"
    }
   ],
   "source": [
    "# Access weights and biases\n",
    "weights, biases = model.get_layer('dense').get_weights()\n",
    "weights, biases"
   ]
  },
  {
   "cell_type": "code",
   "execution_count": 15,
   "metadata": {},
   "outputs": [],
   "source": [
    "# Compile the model to specify loss function and optimizer\n",
    "model.compile(loss='sparse_categorical_crossentropy', optimizer='sgd', metrics=['accuracy'])"
   ]
  },
  {
   "cell_type": "markdown",
   "metadata": {},
   "source": [
    "Note: sparse_categorical_crossentropy is used for exclusive classification. If one-hot vectors are desired, categorical_crossentropy should be used instead."
   ]
  },
  {
   "cell_type": "code",
   "execution_count": 16,
   "metadata": {},
   "outputs": [
    {
     "name": "stdout",
     "output_type": "stream",
     "text": [
      "Train on 55000 samples, validate on 5000 samples\n",
      "Epoch 1/30\n",
      "55000/55000 [==============================] - 8s 150us/sample - loss: 0.7307 - accuracy: 0.7588 - val_loss: 0.5401 - val_accuracy: 0.8176\n",
      "Epoch 2/30\n",
      "55000/55000 [==============================] - 9s 159us/sample - loss: 0.4952 - accuracy: 0.8260 - val_loss: 0.4473 - val_accuracy: 0.8490\n",
      "Epoch 3/30\n",
      "55000/55000 [==============================] - 8s 143us/sample - loss: 0.4496 - accuracy: 0.8421 - val_loss: 0.4418 - val_accuracy: 0.8478\n",
      "Epoch 4/30\n",
      "55000/55000 [==============================] - 8s 142us/sample - loss: 0.4196 - accuracy: 0.8528 - val_loss: 0.3939 - val_accuracy: 0.8678\n",
      "Epoch 5/30\n",
      "55000/55000 [==============================] - 7s 126us/sample - loss: 0.3994 - accuracy: 0.8595 - val_loss: 0.3855 - val_accuracy: 0.8678\n",
      "Epoch 6/30\n",
      "55000/55000 [==============================] - 6s 115us/sample - loss: 0.3819 - accuracy: 0.8652 - val_loss: 0.3765 - val_accuracy: 0.8688\n",
      "Epoch 7/30\n",
      "55000/55000 [==============================] - 6s 115us/sample - loss: 0.3674 - accuracy: 0.8703 - val_loss: 0.3823 - val_accuracy: 0.8616\n",
      "Epoch 8/30\n",
      "55000/55000 [==============================] - 7s 119us/sample - loss: 0.3554 - accuracy: 0.8737 - val_loss: 0.3636 - val_accuracy: 0.8742\n",
      "Epoch 9/30\n",
      "55000/55000 [==============================] - 7s 119us/sample - loss: 0.3452 - accuracy: 0.8768 - val_loss: 0.3482 - val_accuracy: 0.8790\n",
      "Epoch 10/30\n",
      "55000/55000 [==============================] - 7s 120us/sample - loss: 0.3358 - accuracy: 0.8804 - val_loss: 0.3483 - val_accuracy: 0.8786\n",
      "Epoch 11/30\n",
      "55000/55000 [==============================] - 7s 119us/sample - loss: 0.3270 - accuracy: 0.8829 - val_loss: 0.3461 - val_accuracy: 0.8772\n",
      "Epoch 12/30\n",
      "55000/55000 [==============================] - 7s 132us/sample - loss: 0.3197 - accuracy: 0.8851 - val_loss: 0.3383 - val_accuracy: 0.8806\n",
      "Epoch 13/30\n",
      "55000/55000 [==============================] - 8s 137us/sample - loss: 0.3120 - accuracy: 0.8889 - val_loss: 0.3298 - val_accuracy: 0.8844\n",
      "Epoch 14/30\n",
      "55000/55000 [==============================] - 8s 137us/sample - loss: 0.3043 - accuracy: 0.8909 - val_loss: 0.3418 - val_accuracy: 0.8814\n",
      "Epoch 15/30\n",
      "55000/55000 [==============================] - 8s 141us/sample - loss: 0.2981 - accuracy: 0.8929 - val_loss: 0.3358 - val_accuracy: 0.8778\n",
      "Epoch 16/30\n",
      "55000/55000 [==============================] - 8s 143us/sample - loss: 0.2923 - accuracy: 0.8944 - val_loss: 0.3247 - val_accuracy: 0.8804\n",
      "Epoch 17/30\n",
      "55000/55000 [==============================] - 8s 141us/sample - loss: 0.2870 - accuracy: 0.8962 - val_loss: 0.3183 - val_accuracy: 0.8846\n",
      "Epoch 18/30\n",
      "55000/55000 [==============================] - 10s 176us/sample - loss: 0.2805 - accuracy: 0.8991 - val_loss: 0.3332 - val_accuracy: 0.8804\n",
      "Epoch 19/30\n",
      "55000/55000 [==============================] - 6s 113us/sample - loss: 0.2759 - accuracy: 0.9011 - val_loss: 0.3093 - val_accuracy: 0.8884\n",
      "Epoch 20/30\n",
      "55000/55000 [==============================] - 4s 80us/sample - loss: 0.2717 - accuracy: 0.9027 - val_loss: 0.3102 - val_accuracy: 0.8870\n",
      "Epoch 21/30\n",
      "55000/55000 [==============================] - 4s 81us/sample - loss: 0.2660 - accuracy: 0.9046 - val_loss: 0.3129 - val_accuracy: 0.8852\n",
      "Epoch 22/30\n",
      "55000/55000 [==============================] - 4s 81us/sample - loss: 0.2611 - accuracy: 0.9067 - val_loss: 0.3032 - val_accuracy: 0.8894\n",
      "Epoch 23/30\n",
      "55000/55000 [==============================] - 5s 87us/sample - loss: 0.2567 - accuracy: 0.9080 - val_loss: 0.3135 - val_accuracy: 0.8870\n",
      "Epoch 24/30\n",
      "55000/55000 [==============================] - 4s 80us/sample - loss: 0.2522 - accuracy: 0.9098 - val_loss: 0.2988 - val_accuracy: 0.8942\n",
      "Epoch 25/30\n",
      "55000/55000 [==============================] - 4s 78us/sample - loss: 0.2479 - accuracy: 0.9100 - val_loss: 0.3100 - val_accuracy: 0.8908\n",
      "Epoch 26/30\n",
      "55000/55000 [==============================] - 4s 79us/sample - loss: 0.2442 - accuracy: 0.9126 - val_loss: 0.3133 - val_accuracy: 0.8908\n",
      "Epoch 27/30\n",
      "55000/55000 [==============================] - 4s 78us/sample - loss: 0.2398 - accuracy: 0.9134 - val_loss: 0.3007 - val_accuracy: 0.8928\n",
      "Epoch 28/30\n",
      "55000/55000 [==============================] - 4s 78us/sample - loss: 0.2363 - accuracy: 0.9134 - val_loss: 0.2976 - val_accuracy: 0.8898\n",
      "Epoch 29/30\n",
      "55000/55000 [==============================] - 4s 79us/sample - loss: 0.2322 - accuracy: 0.9162 - val_loss: 0.3250 - val_accuracy: 0.8822\n",
      "Epoch 30/30\n",
      "55000/55000 [==============================] - 5s 84us/sample - loss: 0.2290 - accuracy: 0.9178 - val_loss: 0.3106 - val_accuracy: 0.8882\n"
     ]
    }
   ],
   "source": [
    "# Training the model returns a History object\n",
    "history = model.fit(X_train, y_train, epochs=30, validation_data=(X_valid, y_valid))"
   ]
  },
  {
   "cell_type": "code",
   "execution_count": 17,
   "metadata": {},
   "outputs": [
    {
     "data": {
      "text/plain": [
       "<matplotlib.axes._subplots.AxesSubplot at 0x1daffa99708>"
      ]
     },
     "execution_count": 17,
     "metadata": {},
     "output_type": "execute_result"
    },
    {
     "data": {
      "image/png": "[encoded data removed]",
      "text/plain": [
       "<Figure size 432x288 with 1 Axes>"
      ]
     },
     "metadata": {
      "needs_background": "light"
     },
     "output_type": "display_data"
    }
   ],
   "source": [
    "import pandas as pd\n",
    "\n",
    "# The history can be plotted to observe the accuracy and loss over time\n",
    "pd.DataFrame(history.history).plot()"
   ]
  },
  {
   "cell_type": "code",
   "execution_count": 18,
   "metadata": {},
   "outputs": [
    {
     "name": "stdout",
     "output_type": "stream",
     "text": [
      "10000/10000 [==============================] - 1s 134us/sample - loss: 75.0967 - accuracy: 0.8297\n"
     ]
    },
    {
     "data": {
      "text/plain": [
       "[75.09674187389612, 0.8297]"
      ]
     },
     "execution_count": 18,
     "metadata": {},
     "output_type": "execute_result"
    }
   ],
   "source": [
    "model.evaluate(X_test, y_test)"
   ]
  },
  {
   "cell_type": "code",
   "execution_count": 24,
   "metadata": {},
   "outputs": [],
   "source": [
    "X_new = X_test[:3]\n",
    "\n",
    "# Get probabilities for each class\n",
    "y_proba = model.predict(X_new)"
   ]
  },
  {
   "cell_type": "code",
   "execution_count": 25,
   "metadata": {},
   "outputs": [
    {
     "data": {
      "text/plain": [
       "array([[0., 0., 0., 0., 0., 0., 0., 0., 0., 1.],\n",
       "       [0., 0., 1., 0., 0., 0., 0., 0., 0., 0.],\n",
       "       [0., 1., 0., 0., 0., 0., 0., 0., 0., 0.]], dtype=float32)"
      ]
     },
     "execution_count": 25,
     "metadata": {},
     "output_type": "execute_result"
    }
   ],
   "source": [
    "y_proba"
   ]
  },
  {
   "cell_type": "code",
   "execution_count": 27,
   "metadata": {},
   "outputs": [
    {
     "data": {
      "text/plain": [
       "(array([9, 2, 1], dtype=int64),\n",
       " array(['Ankle boot', 'Pullover', 'Trouser'], dtype='<U11'))"
      ]
     },
     "execution_count": 27,
     "metadata": {},
     "output_type": "execute_result"
    }
   ],
   "source": [
    "# Get just the highest probability\n",
    "y_pred = model.predict_classes(X_new)\n",
    "y_pred, np.array(class_names)[y_pred]"
   ]
  },
  {
   "cell_type": "markdown",
   "metadata": {},
   "source": [
    "### Regression (Sequential API)"
   ]
  },
  {
   "cell_type": "code",
   "execution_count": 2,
   "metadata": {},
   "outputs": [],
   "source": [
    "from sklearn.datasets import fetch_california_housing\n",
    "from sklearn.model_selection import train_test_split\n",
    "from sklearn.preprocessing import StandardScaler\n",
    "\n",
    "# Use the California housing dataset\n",
    "housing = fetch_california_housing()\n",
    "\n",
    "# Separate into train, test, and validation sets\n",
    "X_train_full, X_test, y_train_full, y_test = train_test_split(housing.data, housing.target)\n",
    "X_train, X_valid, y_train, y_valid = train_test_split(X_train_full, y_train_full)\n",
    "\n",
    "# Scale the data\n",
    "scaler = StandardScaler()\n",
    "X_train = scaler.fit_transform(X_train)\n",
    "X_valid = scaler.transform(X_valid)\n",
    "X_test = scaler.transform(X_test)"
   ]
  },
  {
   "cell_type": "code",
   "execution_count": 29,
   "metadata": {},
   "outputs": [],
   "source": [
    "model = keras.models.Sequential([\n",
    "    # Use a shallow network to avoid overfitting the noisy data\n",
    "    keras.layers.Dense(30, activation='relu', input_shape=X_train.shape[1:]),\n",
    "    # Only one output neuron to return a single value\n",
    "    keras.layers.Dense(1)\n",
    "])\n",
    "\n",
    "# Mean squared error loss function for regression\n",
    "model.compile(loss='mean_squared_error', optimizer='sgd')"
   ]
  },
  {
   "cell_type": "code",
   "execution_count": 30,
   "metadata": {},
   "outputs": [
    {
     "name": "stdout",
     "output_type": "stream",
     "text": [
      "Train on 11610 samples, validate on 3870 samples\n",
      "Epoch 1/20\n",
      "11610/11610 [==============================] - 2s 180us/sample - loss: 0.7915 - val_loss: 1.0373\n",
      "Epoch 2/20\n",
      "11610/11610 [==============================] - 2s 139us/sample - loss: 0.5315 - val_loss: 1.0358\n",
      "Epoch 3/20\n",
      "11610/11610 [==============================] - 2s 140us/sample - loss: 0.4772 - val_loss: 2.2254\n",
      "Epoch 4/20\n",
      "11610/11610 [==============================] - 2s 139us/sample - loss: 0.4638 - val_loss: 3.2531\n",
      "Epoch 5/20\n",
      "11610/11610 [==============================] - 2s 137us/sample - loss: 0.4573 - val_loss: 0.4497\n",
      "Epoch 6/20\n",
      "11610/11610 [==============================] - 2s 137us/sample - loss: 0.4116 - val_loss: 0.4159\n",
      "Epoch 7/20\n",
      "11610/11610 [==============================] - 2s 139us/sample - loss: 0.3986 - val_loss: 0.3980\n",
      "Epoch 8/20\n",
      "11610/11610 [==============================] - 2s 147us/sample - loss: 0.3893 - val_loss: 0.4024\n",
      "Epoch 9/20\n",
      "11610/11610 [==============================] - 2s 142us/sample - loss: 0.3855 - val_loss: 0.3925\n",
      "Epoch 10/20\n",
      "11610/11610 [==============================] - 2s 140us/sample - loss: 0.3784 - val_loss: 0.4078\n",
      "Epoch 11/20\n",
      "11610/11610 [==============================] - 2s 137us/sample - loss: 0.3818 - val_loss: 0.4286\n",
      "Epoch 12/20\n",
      "11610/11610 [==============================] - 2s 139us/sample - loss: 0.3826 - val_loss: 0.4552\n",
      "Epoch 13/20\n",
      "11610/11610 [==============================] - 2s 149us/sample - loss: 0.3710 - val_loss: 0.3929\n",
      "Epoch 14/20\n",
      "11610/11610 [==============================] - 2s 137us/sample - loss: 0.3661 - val_loss: 0.3940\n",
      "Epoch 15/20\n",
      "11610/11610 [==============================] - 2s 136us/sample - loss: 0.3655 - val_loss: 0.3886\n",
      "Epoch 16/20\n",
      "11610/11610 [==============================] - 2s 136us/sample - loss: 0.3582 - val_loss: 0.4166\n",
      "Epoch 17/20\n",
      "11610/11610 [==============================] - 2s 137us/sample - loss: 0.3665 - val_loss: 0.4236\n",
      "Epoch 18/20\n",
      "11610/11610 [==============================] - 2s 139us/sample - loss: 0.3835 - val_loss: 0.4064\n",
      "Epoch 19/20\n",
      "11610/11610 [==============================] - 2s 139us/sample - loss: 0.3601 - val_loss: 0.3989\n",
      "Epoch 20/20\n",
      "11610/11610 [==============================] - 2s 142us/sample - loss: 0.3691 - val_loss: 0.4017\n"
     ]
    }
   ],
   "source": [
    "history = model.fit(X_train, y_train, epochs=20, validation_data=(X_valid, y_valid))"
   ]
  },
  {
   "cell_type": "code",
   "execution_count": 31,
   "metadata": {},
   "outputs": [
    {
     "name": "stdout",
     "output_type": "stream",
     "text": [
      "5160/5160 [==============================] - 0s 77us/sample - loss: 0.3689\n"
     ]
    },
    {
     "data": {
      "text/plain": [
       "0.36891114328258723"
      ]
     },
     "execution_count": 31,
     "metadata": {},
     "output_type": "execute_result"
    }
   ],
   "source": [
    "# Get the mean squared error of the test set\n",
    "mse_test = model.evaluate(X_test, y_test)\n",
    "mse_test"
   ]
  },
  {
   "cell_type": "code",
   "execution_count": 32,
   "metadata": {},
   "outputs": [
    {
     "data": {
      "text/plain": [
       "array([[3.9467266],\n",
       "       [1.2225099],\n",
       "       [1.4793062]], dtype=float32)"
      ]
     },
     "execution_count": 32,
     "metadata": {},
     "output_type": "execute_result"
    }
   ],
   "source": [
    "# Make predictions\n",
    "X_new = X_test[:3]\n",
    "y_pred = model.predict(X_new)\n",
    "y_pred"
   ]
  },
  {
   "cell_type": "markdown",
   "metadata": {},
   "source": [
    "### Nonsequential Models (Functional API)\n",
    "\n",
    "One example of a nonsequential neural network is a **Wide & Deep** network, which connects some (or all) of the input layer to the output layer. This enables the network to learn patterns from the long (deep) path and simple rules from the short (wide) path."
   ]
  },
  {
   "cell_type": "code",
   "execution_count": 5,
   "metadata": {},
   "outputs": [],
   "source": [
    "# Specify the input layer shape\n",
    "input_ = keras.layers.Input(shape=X_train.shape[1:])\n",
    "\n",
    "# Immediately call the hidden layers with the preceding layers to connect them\n",
    "hidden1 = keras.layers.Dense(30, activation='relu')(input_)\n",
    "hidden2 = keras.layers.Dense(30, activation='relu')(hidden1)\n",
    "\n",
    "# Connect the input layer to the output of the second hidden layer\n",
    "concat = keras.layers.Concatenate()([input_, hidden2])\n",
    "\n",
    "# Connect the output layer to the output of the concatenation\n",
    "output = keras.layers.Dense(1)(concat)\n",
    "\n",
    "# Create the model, specifying the input and output layers\n",
    "model = keras.Model(inputs=[input_], outputs=[output])"
   ]
  },
  {
   "cell_type": "code",
   "execution_count": 6,
   "metadata": {},
   "outputs": [
    {
     "name": "stdout",
     "output_type": "stream",
     "text": [
      "Train on 11610 samples, validate on 3870 samples\n",
      "Epoch 1/20\n",
      "11610/11610 [==============================] - 2s 211us/sample - loss: 2.1924 - val_loss: 88.6711\n",
      "Epoch 2/20\n",
      "11610/11610 [==============================] - 2s 151us/sample - loss: 2.4754 - val_loss: 11.7280\n",
      "Epoch 3/20\n",
      "11610/11610 [==============================] - 2s 146us/sample - loss: nan - val_loss: nan\n",
      "Epoch 4/20\n",
      "11610/11610 [==============================] - 2s 146us/sample - loss: nan - val_loss: nan\n",
      "Epoch 5/20\n",
      "11610/11610 [==============================] - 2s 146us/sample - loss: nan - val_loss: nan\n",
      "Epoch 6/20\n",
      "11610/11610 [==============================] - 2s 147us/sample - loss: nan - val_loss: nan\n",
      "Epoch 7/20\n",
      "11610/11610 [==============================] - 2s 146us/sample - loss: nan - val_loss: nan\n",
      "Epoch 8/20\n",
      "11610/11610 [==============================] - 2s 148us/sample - loss: nan - val_loss: nan\n",
      "Epoch 9/20\n",
      "11610/11610 [==============================] - 2s 146us/sample - loss: nan - val_loss: nan\n",
      "Epoch 10/20\n",
      "11610/11610 [==============================] - 2s 145us/sample - loss: nan - val_loss: nan\n",
      "Epoch 11/20\n",
      "11610/11610 [==============================] - 2s 146us/sample - loss: nan - val_loss: nan\n",
      "Epoch 12/20\n",
      "11610/11610 [==============================] - 2s 146us/sample - loss: nan - val_loss: nan\n",
      "Epoch 13/20\n",
      "11610/11610 [==============================] - 2s 146us/sample - loss: nan - val_loss: nan\n",
      "Epoch 14/20\n",
      "11610/11610 [==============================] - 2s 146us/sample - loss: nan - val_loss: nan\n",
      "Epoch 15/20\n",
      "11610/11610 [==============================] - 2s 146us/sample - loss: nan - val_loss: nan\n",
      "Epoch 16/20\n",
      "11610/11610 [==============================] - 2s 146us/sample - loss: nan - val_loss: nan\n",
      "Epoch 17/20\n",
      "11610/11610 [==============================] - 2s 146us/sample - loss: nan - val_loss: nan\n",
      "Epoch 18/20\n",
      "11610/11610 [==============================] - 2s 147us/sample - loss: nan - val_loss: nan\n",
      "Epoch 19/20\n",
      "11610/11610 [==============================] - 2s 147us/sample - loss: nan - val_loss: nan\n",
      "Epoch 20/20\n",
      "11610/11610 [==============================] - 2s 147us/sample - loss: nan - val_loss: nan\n"
     ]
    }
   ],
   "source": [
    "model.compile(loss='mean_squared_error', optimizer='sgd')\n",
    "history = model.fit(X_train, y_train, epochs=20, validation_data=(X_valid, y_valid))"
   ]
  },
  {
   "cell_type": "markdown",
   "metadata": {},
   "source": [
    "The model clearly diverged early in the training. A Wide & Deep network may help solve this."
   ]
  },
  {
   "cell_type": "code",
   "execution_count": 7,
   "metadata": {},
   "outputs": [],
   "source": [
    "# Shape to add features 0-4 to the wide path\n",
    "input_A = keras.layers.Input(shape=[5], name='wide_input')\n",
    "\n",
    "# Shape to add features 2-7 to the deep path\n",
    "input_B = keras.layers.Input(shape=[6], name='deep_input')\n",
    "\n",
    "# Connect hidden layers\n",
    "hidden1 = keras.layers.Dense(30, activation='relu')(input_B)\n",
    "hidden2 = keras.layers.Dense(30, activation='relu')(hidden1)\n",
    "\n",
    "# Concatenate as before\n",
    "concat = keras.layers.concatenate([input_A, hidden2])\n",
    "output = keras.layers.Dense(1, name='output')(concat)\n",
    "model = keras.Model(inputs=[input_A, input_B], outputs=[output])"
   ]
  },
  {
   "cell_type": "code",
   "execution_count": 19,
   "metadata": {},
   "outputs": [],
   "source": [
    "# Another form of the previous compile\n",
    "model.compile(loss='mse', optimizer=keras.optimizers.SGD(lr=1e-3))"
   ]
  },
  {
   "cell_type": "code",
   "execution_count": 26,
   "metadata": {},
   "outputs": [],
   "source": [
    "# Split the data for inputs A and B\n",
    "split_a_b = lambda x: (x[:, :5], x[:, 2:])\n",
    "\n",
    "X_train_a_b = split_a_b(X_train)\n",
    "X_valid_a_b = split_a_b(X_valid)\n",
    "X_test_a_b = split_a_b(X_test)\n",
    "\n",
    "X_new_a_b = X_test_a_b[0][:3], X_test_a_b[1][:3]\n",
    "\n",
    "# For more complicated networks, a dictionary of name:data can be used instead of tuples\n",
    "X_train_a_b_dict = dict(zip(['wide_input', 'deep_input'], split_a_b(X_train)))"
   ]
  },
  {
   "cell_type": "code",
   "execution_count": 17,
   "metadata": {},
   "outputs": [
    {
     "name": "stdout",
     "output_type": "stream",
     "text": [
      "Train on 11610 samples, validate on 3870 samples\n",
      "Epoch 1/20\n",
      "11610/11610 [==============================] - 2s 203us/sample - loss: 2.1348 - val_loss: 0.9410\n",
      "Epoch 2/20\n",
      "11610/11610 [==============================] - 2s 154us/sample - loss: 0.7838 - val_loss: 0.7221\n",
      "Epoch 3/20\n",
      "11610/11610 [==============================] - 2s 154us/sample - loss: 0.6790 - val_loss: 0.6576\n",
      "Epoch 4/20\n",
      "11610/11610 [==============================] - 2s 155us/sample - loss: 0.6367 - val_loss: 0.6221\n",
      "Epoch 5/20\n",
      "11610/11610 [==============================] - 2s 157us/sample - loss: 0.6086 - val_loss: 0.5976\n",
      "Epoch 6/20\n",
      "11610/11610 [==============================] - 2s 153us/sample - loss: 0.5855 - val_loss: 0.5766\n",
      "Epoch 7/20\n",
      "11610/11610 [==============================] - 2s 157us/sample - loss: 0.5672 - val_loss: 0.5578\n",
      "Epoch 8/20\n",
      "11610/11610 [==============================] - 2s 155us/sample - loss: 0.5505 - val_loss: 0.5463\n",
      "Epoch 9/20\n",
      "11610/11610 [==============================] - 2s 153us/sample - loss: 0.5404 - val_loss: 0.5353\n",
      "Epoch 10/20\n",
      "11610/11610 [==============================] - 2s 152us/sample - loss: 0.5301 - val_loss: 0.5273\n",
      "Epoch 11/20\n",
      "11610/11610 [==============================] - 2s 154us/sample - loss: 0.5234 - val_loss: 0.5191\n",
      "Epoch 12/20\n",
      "11610/11610 [==============================] - 2s 159us/sample - loss: 0.5164 - val_loss: 0.5138\n",
      "Epoch 13/20\n",
      "11610/11610 [==============================] - 2s 157us/sample - loss: 0.5107 - val_loss: 0.5085\n",
      "Epoch 14/20\n",
      "11610/11610 [==============================] - 2s 153us/sample - loss: 0.5055 - val_loss: 0.5043\n",
      "Epoch 15/20\n",
      "11610/11610 [==============================] - 2s 153us/sample - loss: 0.5006 - val_loss: 0.5006\n",
      "Epoch 16/20\n",
      "11610/11610 [==============================] - 2s 153us/sample - loss: 0.4974 - val_loss: 0.4958\n",
      "Epoch 17/20\n",
      "11610/11610 [==============================] - 2s 156us/sample - loss: 0.4937 - val_loss: 0.4934\n",
      "Epoch 18/20\n",
      "11610/11610 [==============================] - 2s 157us/sample - loss: 0.4901 - val_loss: 0.4899\n",
      "Epoch 19/20\n",
      "11610/11610 [==============================] - 2s 154us/sample - loss: 0.4877 - val_loss: 0.4872\n",
      "Epoch 20/20\n",
      "11610/11610 [==============================] - 2s 154us/sample - loss: 0.4850 - val_loss: 0.4850\n"
     ]
    }
   ],
   "source": [
    "history = model.fit(X_train_a_b, y_train, epochs=20, validation_data=(X_valid_a_b, y_valid))"
   ]
  },
  {
   "cell_type": "code",
   "execution_count": 20,
   "metadata": {},
   "outputs": [
    {
     "name": "stdout",
     "output_type": "stream",
     "text": [
      "5160/5160 [==============================] - 0s 86us/sample - loss: 0.5077\n"
     ]
    },
    {
     "data": {
      "text/plain": [
       "array([[1.1750535],\n",
       "       [2.8511384],\n",
       "       [1.0439118]], dtype=float32)"
      ]
     },
     "execution_count": 20,
     "metadata": {},
     "output_type": "execute_result"
    }
   ],
   "source": [
    "mse_test = model.evaluate(X_test_a_b, y_test)\n",
    "y_pred = model.predict(X_new_a_b)\n",
    "y_pred"
   ]
  },
  {
   "cell_type": "markdown",
   "metadata": {},
   "source": [
    "In some cases multiple outputs may desired:\n",
    "\n",
    "- Locating (regression) and classifying (classification) an object in a picture\n",
    "- Multitask classification (facial expressions, whether they're wearing glasses)\n",
    "- Regularization via auxiliary outputs to ensure the deep path is learning what it should"
   ]
  },
  {
   "cell_type": "code",
   "execution_count": 21,
   "metadata": {},
   "outputs": [],
   "source": [
    "# As above\n",
    "input_A = keras.layers.Input(shape=[5], name='wide_input')\n",
    "input_B = keras.layers.Input(shape=[6], name='deep_input')\n",
    "hidden1 = keras.layers.Dense(30, activation='relu')(input_B)\n",
    "hidden2 = keras.layers.Dense(30, activation='relu')(hidden1)\n",
    "concat = keras.layers.concatenate([input_A, hidden2])\n",
    "\n",
    "# Main output connencted to the output of the concatenation\n",
    "output = keras.layers.Dense(1, name='main_output')(concat)\n",
    "\n",
    "# Auxiliary output, connected to hidden2 before the concatenation\n",
    "aux_output = keras.layers.Dense(1, name='aux_output')(hidden2)\n",
    "\n",
    "model = keras.Model(inputs=[input_A, input_B], outputs=[output, aux_output])"
   ]
  },
  {
   "cell_type": "code",
   "execution_count": 27,
   "metadata": {},
   "outputs": [],
   "source": [
    "# Include losses for both outputs, using dict method\n",
    "output_names = ['main_output', 'aux_output']\n",
    "output_losses = dict(zip(output_names, ['mse','mse']))\n",
    "output_weights = dict(zip(output_names, [0.9, 0.1]))\n",
    "\n",
    "model.compile(loss=output_losses, loss_weights=output_weights, optimizer='sgd')"
   ]
  },
  {
   "cell_type": "code",
   "execution_count": 29,
   "metadata": {},
   "outputs": [
    {
     "name": "stdout",
     "output_type": "stream",
     "text": [
      "Train on 11610 samples, validate on 3870 samples\n",
      "Epoch 1/20\n",
      "11610/11610 [==============================] - 3s 283us/sample - loss: 0.9476 - main_output_loss: 0.8372 - aux_output_loss: 1.9391 - val_loss: 0.5801 - val_main_output_loss: 0.5113 - val_aux_output_loss: 1.1990\n",
      "Epoch 2/20\n",
      "11610/11610 [==============================] - 2s 215us/sample - loss: 0.5531 - main_output_loss: 0.4950 - aux_output_loss: 1.0767 - val_loss: 0.6403 - val_main_output_loss: 0.5951 - val_aux_output_loss: 1.0449\n",
      "Epoch 3/20\n",
      "11610/11610 [==============================] - 2s 209us/sample - loss: 0.5281 - main_output_loss: 0.4831 - aux_output_loss: 0.9330 - val_loss: 0.5090 - val_main_output_loss: 0.4642 - val_aux_output_loss: 0.9111\n",
      "Epoch 4/20\n",
      "11610/11610 [==============================] - 2s 209us/sample - loss: 0.5439 - main_output_loss: 0.5114 - aux_output_loss: 0.8357 - val_loss: 0.4947 - val_main_output_loss: 0.4578 - val_aux_output_loss: 0.8255\n",
      "Epoch 5/20\n",
      "11610/11610 [==============================] - 2s 211us/sample - loss: 0.4821 - main_output_loss: 0.4517 - aux_output_loss: 0.7568 - val_loss: 0.4738 - val_main_output_loss: 0.4431 - val_aux_output_loss: 0.7496\n",
      "Epoch 6/20\n",
      "11610/11610 [==============================] - 2s 210us/sample - loss: 0.4664 - main_output_loss: 0.4399 - aux_output_loss: 0.7037 - val_loss: 0.4631 - val_main_output_loss: 0.4357 - val_aux_output_loss: 0.7084\n",
      "Epoch 7/20\n",
      "11610/11610 [==============================] - 2s 210us/sample - loss: 0.4522 - main_output_loss: 0.4282 - aux_output_loss: 0.6698 - val_loss: 0.4473 - val_main_output_loss: 0.4221 - val_aux_output_loss: 0.6728\n",
      "Epoch 8/20\n",
      "11610/11610 [==============================] - 3s 218us/sample - loss: 0.4494 - main_output_loss: 0.4277 - aux_output_loss: 0.6443 - val_loss: 0.4426 - val_main_output_loss: 0.4195 - val_aux_output_loss: 0.6503\n",
      "Epoch 9/20\n",
      "11610/11610 [==============================] - 3s 217us/sample - loss: 0.4364 - main_output_loss: 0.4157 - aux_output_loss: 0.6218 - val_loss: 0.4272 - val_main_output_loss: 0.4054 - val_aux_output_loss: 0.6226\n",
      "Epoch 10/20\n",
      "11610/11610 [==============================] - 3s 218us/sample - loss: 0.4264 - main_output_loss: 0.4068 - aux_output_loss: 0.6032 - val_loss: 0.4194 - val_main_output_loss: 0.3988 - val_aux_output_loss: 0.6039\n",
      "Epoch 11/20\n",
      "11610/11610 [==============================] - 3s 217us/sample - loss: 0.4172 - main_output_loss: 0.3987 - aux_output_loss: 0.5823 - val_loss: 0.4143 - val_main_output_loss: 0.3946 - val_aux_output_loss: 0.5902\n",
      "Epoch 12/20\n",
      "11610/11610 [==============================] - 3s 221us/sample - loss: 0.4410 - main_output_loss: 0.4271 - aux_output_loss: 0.5653 - val_loss: 0.4103 - val_main_output_loss: 0.3916 - val_aux_output_loss: 0.5777\n",
      "Epoch 13/20\n",
      "11610/11610 [==============================] - 3s 220us/sample - loss: 0.4054 - main_output_loss: 0.3889 - aux_output_loss: 0.5538 - val_loss: 0.4011 - val_main_output_loss: 0.3829 - val_aux_output_loss: 0.5632\n",
      "Epoch 14/20\n",
      "11610/11610 [==============================] - 3s 222us/sample - loss: 0.3992 - main_output_loss: 0.3836 - aux_output_loss: 0.5378 - val_loss: 0.3894 - val_main_output_loss: 0.3719 - val_aux_output_loss: 0.5461\n",
      "Epoch 15/20\n",
      "11610/11610 [==============================] - 3s 219us/sample - loss: 0.3919 - main_output_loss: 0.3768 - aux_output_loss: 0.5277 - val_loss: 0.3830 - val_main_output_loss: 0.3663 - val_aux_output_loss: 0.5323\n",
      "Epoch 16/20\n",
      "11610/11610 [==============================] - 3s 218us/sample - loss: 0.3936 - main_output_loss: 0.3801 - aux_output_loss: 0.5152 - val_loss: 0.4454 - val_main_output_loss: 0.4338 - val_aux_output_loss: 0.5487\n",
      "Epoch 17/20\n",
      "11610/11610 [==============================] - 3s 220us/sample - loss: 0.3863 - main_output_loss: 0.3727 - aux_output_loss: 0.5098 - val_loss: 0.3815 - val_main_output_loss: 0.3659 - val_aux_output_loss: 0.5209\n",
      "Epoch 18/20\n",
      "11610/11610 [==============================] - 3s 225us/sample - loss: 0.3763 - main_output_loss: 0.3628 - aux_output_loss: 0.4973 - val_loss: 0.3727 - val_main_output_loss: 0.3570 - val_aux_output_loss: 0.5131\n",
      "Epoch 19/20\n",
      "11610/11610 [==============================] - 3s 221us/sample - loss: 0.3717 - main_output_loss: 0.3585 - aux_output_loss: 0.4904 - val_loss: 0.3672 - val_main_output_loss: 0.3524 - val_aux_output_loss: 0.4992\n",
      "Epoch 20/20\n",
      "11610/11610 [==============================] - 3s 225us/sample - loss: 0.3683 - main_output_loss: 0.3561 - aux_output_loss: 0.4829 - val_loss: 0.3611 - val_main_output_loss: 0.3465 - val_aux_output_loss: 0.4923\n"
     ]
    }
   ],
   "source": [
    "# Fit the model, including y_ sets for each output\n",
    "history = model.fit(X_train_a_b, [y_train, y_train], epochs=20, validation_data=(X_valid_a_b, [y_valid, y_valid]))"
   ]
  },
  {
   "cell_type": "code",
   "execution_count": 31,
   "metadata": {},
   "outputs": [
    {
     "name": "stdout",
     "output_type": "stream",
     "text": [
      "5160/5160 [==============================] - 1s 165us/sample - loss: 0.3839 - main_output_loss: 0.3749 - aux_output_loss: 0.4956\n"
     ]
    },
    {
     "data": {
      "text/plain": [
       "(0.38389586723128033, 0.37486687, 0.49560943)"
      ]
     },
     "execution_count": 31,
     "metadata": {},
     "output_type": "execute_result"
    }
   ],
   "source": [
    "# Get total and separate losses\n",
    "total_loss, main_loss, aux_loss = model.evaluate(X_test_a_b, [y_test, y_test])\n",
    "total_loss, main_loss, aux_loss"
   ]
  },
  {
   "cell_type": "code",
   "execution_count": 33,
   "metadata": {},
   "outputs": [
    {
     "data": {
      "text/plain": [
       "(array([[0.96850395],\n",
       "        [2.5149505 ],\n",
       "        [1.4132416 ]], dtype=float32), array([[0.8313312 ],\n",
       "        [1.8640378 ],\n",
       "        [0.94842786]], dtype=float32))"
      ]
     },
     "execution_count": 33,
     "metadata": {},
     "output_type": "execute_result"
    }
   ],
   "source": [
    "# Get both predictions\n",
    "y_pred_main, y_pred_aux = model.predict(X_new_a_b)\n",
    "y_pred_main, y_pred_aux"
   ]
  },
  {
   "cell_type": "markdown",
   "metadata": {},
   "source": [
    "### Dynamic Models (Subclassing API)"
   ]
  },
  {
   "cell_type": "code",
   "execution_count": 39,
   "metadata": {},
   "outputs": [],
   "source": [
    "# Create a subclass for the wide & deep model\n",
    "class WideAndDeepModel(keras.Model):\n",
    "    def __init__(self, units=30, activation='relu', **kwargs):\n",
    "        # Handle standard arguments\n",
    "        super().__init__(**kwargs)\n",
    "        \n",
    "        # Initialize the model layers\n",
    "        self.hidden1 = keras.layers.Dense(units, activation=activation)\n",
    "        self.hidden2 = keras.layers.Dense(units, activation=activation)\n",
    "        self.main_output = keras.layers.Dense(1)\n",
    "        self.aux_output = keras.layers.Dense(1)\n",
    "    \n",
    "    def call(self, inputs):\n",
    "        # Establish the model architecture dynamically\n",
    "        input_A, input_B = inputs\n",
    "        hidden1 = self.hidden1(input_B)\n",
    "        hidden2 = self.hidden2(hidden1)\n",
    "        concat = keras.layers.concatenate([input_A, hidden2])\n",
    "        main_output = self.main_output(concat)\n",
    "        aux_output = self.aux_output(hidden2)\n",
    "        return main_output, aux_output"
   ]
  },
  {
   "cell_type": "code",
   "execution_count": 41,
   "metadata": {},
   "outputs": [
    {
     "name": "stdout",
     "output_type": "stream",
     "text": [
      "Train on 11610 samples, validate on 3870 samples\n",
      "Epoch 1/20\n",
      "11610/11610 [==============================] - 3s 253us/sample - loss: 1.2033 - output_1_loss: 1.0610 - output_2_loss: 2.4808 - val_loss: 0.6346 - val_output_1_loss: 0.5495 - val_output_2_loss: 1.4003\n",
      "Epoch 2/20\n",
      "11610/11610 [==============================] - 3s 221us/sample - loss: 0.6569 - output_1_loss: 0.5858 - output_2_loss: 1.2950 - val_loss: 0.5849 - val_output_1_loss: 0.5076 - val_output_2_loss: 1.2793\n",
      "Epoch 3/20\n",
      "11610/11610 [==============================] - 2s 209us/sample - loss: 0.5647 - output_1_loss: 0.4981 - output_2_loss: 1.1650 - val_loss: 0.5403 - val_output_1_loss: 0.4733 - val_output_2_loss: 1.1421\n",
      "Epoch 4/20\n",
      "11610/11610 [==============================] - 2s 209us/sample - loss: 0.5233 - output_1_loss: 0.4662 - output_2_loss: 1.0368 - val_loss: 0.5188 - val_output_1_loss: 0.4617 - val_output_2_loss: 1.0311\n",
      "Epoch 5/20\n",
      "11610/11610 [==============================] - 2s 210us/sample - loss: 0.5028 - output_1_loss: 0.4544 - output_2_loss: 0.9368 - val_loss: 0.4988 - val_output_1_loss: 0.4502 - val_output_2_loss: 0.9344\n",
      "Epoch 6/20\n",
      "11610/11610 [==============================] - 2s 208us/sample - loss: 0.4871 - output_1_loss: 0.4464 - output_2_loss: 0.8523 - val_loss: 0.4792 - val_output_1_loss: 0.4389 - val_output_2_loss: 0.8410\n",
      "Epoch 7/20\n",
      "11610/11610 [==============================] - 2s 209us/sample - loss: 0.4689 - output_1_loss: 0.4349 - output_2_loss: 0.7733 - val_loss: 0.4712 - val_output_1_loss: 0.4386 - val_output_2_loss: 0.7634\n",
      "Epoch 8/20\n",
      "11610/11610 [==============================] - 3s 229us/sample - loss: 0.4571 - output_1_loss: 0.4281 - output_2_loss: 0.7166 - val_loss: 0.4516 - val_output_1_loss: 0.4219 - val_output_2_loss: 0.7176\n",
      "Epoch 9/20\n",
      "11610/11610 [==============================] - 3s 223us/sample - loss: 0.4442 - output_1_loss: 0.4186 - output_2_loss: 0.6756 - val_loss: 0.4924 - val_output_1_loss: 0.4697 - val_output_2_loss: 0.6952\n",
      "Epoch 10/20\n",
      "11610/11610 [==============================] - 3s 216us/sample - loss: 0.4370 - output_1_loss: 0.4140 - output_2_loss: 0.6468 - val_loss: 0.4295 - val_output_1_loss: 0.4052 - val_output_2_loss: 0.6474\n",
      "Epoch 11/20\n",
      "11610/11610 [==============================] - 2s 208us/sample - loss: 0.4244 - output_1_loss: 0.4027 - output_2_loss: 0.6225 - val_loss: 0.4328 - val_output_1_loss: 0.4118 - val_output_2_loss: 0.6205\n",
      "Epoch 12/20\n",
      "11610/11610 [==============================] - 2s 210us/sample - loss: 0.4300 - output_1_loss: 0.4107 - output_2_loss: 0.6033 - val_loss: 0.4130 - val_output_1_loss: 0.3915 - val_output_2_loss: 0.6050\n",
      "Epoch 13/20\n",
      "11610/11610 [==============================] - 2s 211us/sample - loss: 0.4085 - output_1_loss: 0.3887 - output_2_loss: 0.5864 - val_loss: 0.3980 - val_output_1_loss: 0.3775 - val_output_2_loss: 0.5806\n",
      "Epoch 14/20\n",
      "11610/11610 [==============================] - 2s 214us/sample - loss: 0.4005 - output_1_loss: 0.3815 - output_2_loss: 0.5705 - val_loss: 0.3997 - val_output_1_loss: 0.3803 - val_output_2_loss: 0.5732\n",
      "Epoch 15/20\n",
      "11610/11610 [==============================] - 3s 227us/sample - loss: 0.3924 - output_1_loss: 0.3739 - output_2_loss: 0.5574 - val_loss: 0.3889 - val_output_1_loss: 0.3699 - val_output_2_loss: 0.5582\n",
      "Epoch 16/20\n",
      "11610/11610 [==============================] - 2s 214us/sample - loss: 0.3855 - output_1_loss: 0.3677 - output_2_loss: 0.5445 - val_loss: 0.3978 - val_output_1_loss: 0.3797 - val_output_2_loss: 0.5591\n",
      "Epoch 17/20\n",
      "11610/11610 [==============================] - 2s 215us/sample - loss: 0.3829 - output_1_loss: 0.3661 - output_2_loss: 0.5340 - val_loss: 0.3775 - val_output_1_loss: 0.3600 - val_output_2_loss: 0.5336\n",
      "Epoch 18/20\n",
      "11610/11610 [==============================] - 2s 215us/sample - loss: 0.3766 - output_1_loss: 0.3601 - output_2_loss: 0.5244 - val_loss: 0.3811 - val_output_1_loss: 0.3646 - val_output_2_loss: 0.5280\n",
      "Epoch 19/20\n",
      "11610/11610 [==============================] - 2s 215us/sample - loss: 0.3736 - output_1_loss: 0.3578 - output_2_loss: 0.5162 - val_loss: 0.3654 - val_output_1_loss: 0.3484 - val_output_2_loss: 0.5173\n",
      "Epoch 20/20\n",
      "11610/11610 [==============================] - 3s 218us/sample - loss: 0.3708 - output_1_loss: 0.3553 - output_2_loss: 0.5099 - val_loss: 0.3574 - val_output_1_loss: 0.3410 - val_output_2_loss: 0.5037\n"
     ]
    }
   ],
   "source": [
    "model = WideAndDeepModel()\n",
    "\n",
    "# Compile and fit as above\n",
    "model.compile(loss=['mse', 'mse'], loss_weights=[0.9, 0.1], optimizer='sgd')\n",
    "history = model.fit(X_train_a_b, [y_train, y_train], epochs=20, validation_data=(X_valid_a_b, [y_valid, y_valid]))"
   ]
  },
  {
   "cell_type": "markdown",
   "metadata": {},
   "source": [
    "Models created using the Sequential or Functional APIs can be saved in the HDF5 format for later use."
   ]
  },
  {
   "cell_type": "code",
   "execution_count": 3,
   "metadata": {},
   "outputs": [
    {
     "name": "stdout",
     "output_type": "stream",
     "text": [
      "Train on 11610 samples, validate on 3870 samples\n",
      "Epoch 1/20\n",
      "11610/11610 [==============================] - 3s 236us/sample - loss: 0.8737 - val_loss: 0.6196\n",
      "Epoch 2/20\n",
      "11610/11610 [==============================] - 2s 147us/sample - loss: 0.7487 - val_loss: 0.4827\n",
      "Epoch 3/20\n",
      "11610/11610 [==============================] - 2s 149us/sample - loss: 0.4773 - val_loss: 0.4597\n",
      "Epoch 4/20\n",
      "11610/11610 [==============================] - 2s 152us/sample - loss: 0.4559 - val_loss: 0.4670\n",
      "Epoch 5/20\n",
      "11610/11610 [==============================] - 2s 147us/sample - loss: 0.4476 - val_loss: 0.4341\n",
      "Epoch 6/20\n",
      "11610/11610 [==============================] - 2s 141us/sample - loss: 0.4343 - val_loss: 0.4226\n",
      "Epoch 7/20\n",
      "11610/11610 [==============================] - 2s 146us/sample - loss: 0.4264 - val_loss: 0.4167\n",
      "Epoch 8/20\n",
      "11610/11610 [==============================] - 2s 143us/sample - loss: 0.4328 - val_loss: 0.4116\n",
      "Epoch 9/20\n",
      "11610/11610 [==============================] - 2s 141us/sample - loss: 0.4173 - val_loss: 0.4067\n",
      "Epoch 10/20\n",
      "11610/11610 [==============================] - 2s 140us/sample - loss: 0.4105 - val_loss: 0.4032\n",
      "Epoch 11/20\n",
      "11610/11610 [==============================] - 2s 139us/sample - loss: 0.4048 - val_loss: 0.3985\n",
      "Epoch 12/20\n",
      "11610/11610 [==============================] - 2s 141us/sample - loss: 0.4001 - val_loss: 0.3938\n",
      "Epoch 13/20\n",
      "11610/11610 [==============================] - 2s 141us/sample - loss: 0.3952 - val_loss: 0.3886\n",
      "Epoch 14/20\n",
      "11610/11610 [==============================] - 2s 148us/sample - loss: 0.3970 - val_loss: 0.3900\n",
      "Epoch 15/20\n",
      "11610/11610 [==============================] - 2s 141us/sample - loss: 0.3909 - val_loss: 0.3993\n",
      "Epoch 16/20\n",
      "11610/11610 [==============================] - 2s 141us/sample - loss: 0.3865 - val_loss: 0.3834\n",
      "Epoch 17/20\n",
      "11610/11610 [==============================] - 2s 142us/sample - loss: 0.3980 - val_loss: 0.3788\n",
      "Epoch 18/20\n",
      "11610/11610 [==============================] - 2s 141us/sample - loss: 0.3829 - val_loss: 0.4915\n",
      "Epoch 19/20\n",
      "11610/11610 [==============================] - 2s 140us/sample - loss: 0.3897 - val_loss: 0.4771\n",
      "Epoch 20/20\n",
      "11610/11610 [==============================] - 2s 140us/sample - loss: 0.3886 - val_loss: 0.3803\n"
     ]
    }
   ],
   "source": [
    "model = keras.models.Sequential([\n",
    "    # Use a shallow network to avoid overfitting the noisy data\n",
    "    keras.layers.Dense(30, activation='relu', input_shape=X_train.shape[1:]),\n",
    "    # Only one output neuron to return a single value\n",
    "    keras.layers.Dense(1)\n",
    "])\n",
    "\n",
    "# Mean squared error loss function for regression\n",
    "model.compile(loss='mean_squared_error', optimizer='sgd')\n",
    "history = model.fit(X_train, y_train, epochs=20, validation_data=(X_valid, y_valid))"
   ]
  },
  {
   "cell_type": "code",
   "execution_count": 4,
   "metadata": {},
   "outputs": [],
   "source": [
    "model.save('pickles/keras_demo.h5')"
   ]
  },
  {
   "cell_type": "code",
   "execution_count": 6,
   "metadata": {},
   "outputs": [
    {
     "data": {
      "text/plain": [
       "array([[8.651577],\n",
       "       [4.9775  ],\n",
       "       [7.072366]], dtype=float32)"
      ]
     },
     "execution_count": 6,
     "metadata": {},
     "output_type": "execute_result"
    }
   ],
   "source": [
    "model = keras.models.load_model('pickles/keras_demo.h5')\n",
    "X_new = X_test[:3]\n",
    "model.predict(X_new)"
   ]
  },
  {
   "cell_type": "markdown",
   "metadata": {},
   "source": [
    "Models created with the Subclassing API can't be saved this way, but the save_weights and load_weights methods can still eliminate the need to retrain."
   ]
  },
  {
   "cell_type": "markdown",
   "metadata": {},
   "source": [
    "Callbacks can be specified in the fit method to be executed at various points in the training process:\n",
    "\n",
    "- Start and end of training\n",
    "- Start and end of each epoch\n",
    "- Before and after processing each batch\n",
    "\n",
    "For example, ModelCheckpoint saves a checkpoint of the model at the end of each epoch."
   ]
  },
  {
   "cell_type": "code",
   "execution_count": 6,
   "metadata": {},
   "outputs": [
    {
     "name": "stdout",
     "output_type": "stream",
     "text": [
      "Train on 11610 samples\n",
      "Epoch 1/10\n",
      "11610/11610 [==============================] - 2s 148us/sample - loss: 0.3897\n",
      "Epoch 2/10\n",
      "11610/11610 [==============================] - 1s 115us/sample - loss: 0.3818\n",
      "Epoch 3/10\n",
      "11610/11610 [==============================] - 1s 115us/sample - loss: 0.3721\n",
      "Epoch 4/10\n",
      "11610/11610 [==============================] - 1s 117us/sample - loss: 0.3749\n",
      "Epoch 5/10\n",
      "11610/11610 [==============================] - 1s 123us/sample - loss: 0.3677\n",
      "Epoch 6/10\n",
      "11610/11610 [==============================] - 1s 113us/sample - loss: 0.3662\n",
      "Epoch 7/10\n",
      "11610/11610 [==============================] - 1s 113us/sample - loss: 0.3676\n",
      "Epoch 8/10\n",
      "11610/11610 [==============================] - 1s 114us/sample - loss: 0.3726\n",
      "Epoch 9/10\n",
      "11610/11610 [==============================] - 1s 114us/sample - loss: 0.3843\n",
      "Epoch 10/10\n",
      "11610/11610 [==============================] - 1s 113us/sample - loss: 0.3673\n"
     ]
    }
   ],
   "source": [
    "checkpoint_cb = keras.callbacks.ModelCheckpoint('pickles/keras_demo.h5')\n",
    "history = model.fit(X_train, y_train, epochs=10, callbacks=[checkpoint_cb])"
   ]
  },
  {
   "cell_type": "code",
   "execution_count": 7,
   "metadata": {},
   "outputs": [
    {
     "name": "stdout",
     "output_type": "stream",
     "text": [
      "Train on 11610 samples, validate on 3870 samples\n",
      "Epoch 1/10\n",
      "11610/11610 [==============================] - 2s 164us/sample - loss: 0.3624 - val_loss: 0.3557\n",
      "Epoch 2/10\n",
      "11610/11610 [==============================] - 2s 143us/sample - loss: 0.3578 - val_loss: 0.3610\n",
      "Epoch 3/10\n",
      "11610/11610 [==============================] - 2s 144us/sample - loss: 0.3583 - val_loss: 0.3561\n",
      "Epoch 4/10\n",
      "11610/11610 [==============================] - 2s 143us/sample - loss: 0.3601 - val_loss: 0.3633\n",
      "Epoch 5/10\n",
      "11610/11610 [==============================] - 2s 142us/sample - loss: 0.3568 - val_loss: 0.3540\n",
      "Epoch 6/10\n",
      "11610/11610 [==============================] - 2s 145us/sample - loss: 0.3547 - val_loss: 0.3526\n",
      "Epoch 7/10\n",
      "11610/11610 [==============================] - 2s 141us/sample - loss: 0.3922 - val_loss: 0.3611\n",
      "Epoch 8/10\n",
      "11610/11610 [==============================] - 2s 151us/sample - loss: 0.3503 - val_loss: 0.3484\n",
      "Epoch 9/10\n",
      "11610/11610 [==============================] - 2s 147us/sample - loss: 0.3491 - val_loss: 0.3506\n",
      "Epoch 10/10\n",
      "11610/11610 [==============================] - 2s 143us/sample - loss: 0.3498 - val_loss: 0.3440\n"
     ]
    }
   ],
   "source": [
    "# Only save the checkpoint if it scores better than the previously saved checkpoint\n",
    "checkpoint_cb = keras.callbacks.ModelCheckpoint('pickles/keras_demo.h5', save_best_only=True)\n",
    "\n",
    "# Include the validation set\n",
    "history = model.fit(X_train, y_train, epochs=10, validation_data=(X_valid, y_valid), callbacks=[checkpoint_cb])"
   ]
  },
  {
   "cell_type": "markdown",
   "metadata": {},
   "source": [
    "The EarlyStopping callback can be used to interrupt the training when no progress is made after some patience threshold, optionally rolling back to the highest scoring model."
   ]
  },
  {
   "cell_type": "code",
   "execution_count": 8,
   "metadata": {},
   "outputs": [
    {
     "name": "stdout",
     "output_type": "stream",
     "text": [
      "Train on 11610 samples, validate on 3870 samples\n",
      "Epoch 1/100\n",
      "11610/11610 [==============================] - 2s 158us/sample - loss: 0.3673 - val_loss: 0.3522\n",
      "Epoch 2/100\n",
      "11610/11610 [==============================] - 2s 141us/sample - loss: 0.3505 - val_loss: 0.3451\n",
      "Epoch 3/100\n",
      "11610/11610 [==============================] - 2s 142us/sample - loss: 0.3462 - val_loss: 0.3410\n",
      "Epoch 4/100\n",
      "11610/11610 [==============================] - 2s 142us/sample - loss: 0.3441 - val_loss: 0.3399\n",
      "Epoch 5/100\n",
      "11610/11610 [==============================] - 2s 147us/sample - loss: 0.3410 - val_loss: 0.3447\n",
      "Epoch 6/100\n",
      "11610/11610 [==============================] - 2s 144us/sample - loss: 0.3424 - val_loss: 0.3379\n",
      "Epoch 7/100\n",
      "11610/11610 [==============================] - 2s 141us/sample - loss: 0.3375 - val_loss: 0.3386\n",
      "Epoch 8/100\n",
      "11610/11610 [==============================] - 2s 142us/sample - loss: 0.3397 - val_loss: 0.3319\n",
      "Epoch 9/100\n",
      "11610/11610 [==============================] - 2s 144us/sample - loss: 0.4229 - val_loss: 0.3868\n",
      "Epoch 10/100\n",
      "11610/11610 [==============================] - 2s 142us/sample - loss: 0.3636 - val_loss: 0.3642\n",
      "Epoch 11/100\n",
      "11610/11610 [==============================] - 2s 146us/sample - loss: 0.3484 - val_loss: 0.3471\n",
      "Epoch 12/100\n",
      "11610/11610 [==============================] - 2s 142us/sample - loss: 0.3424 - val_loss: 0.3404\n",
      "Epoch 13/100\n",
      "11610/11610 [==============================] - 2s 142us/sample - loss: 0.3370 - val_loss: 0.3389\n",
      "Epoch 14/100\n",
      "11610/11610 [==============================] - 2s 140us/sample - loss: 0.3351 - val_loss: 0.3492\n",
      "Epoch 15/100\n",
      "11610/11610 [==============================] - 2s 144us/sample - loss: 0.3356 - val_loss: 0.3407\n",
      "Epoch 16/100\n",
      "11610/11610 [==============================] - 2s 146us/sample - loss: 0.3332 - val_loss: 0.3338\n",
      "Epoch 17/100\n",
      "11610/11610 [==============================] - 2s 147us/sample - loss: 0.3326 - val_loss: 0.3326\n",
      "Epoch 18/100\n",
      "11610/11610 [==============================] - 2s 151us/sample - loss: 0.3315 - val_loss: 0.3296\n",
      "Epoch 19/100\n",
      "11610/11610 [==============================] - 2s 148us/sample - loss: 0.3301 - val_loss: 0.3341\n",
      "Epoch 20/100\n",
      "11610/11610 [==============================] - 2s 149us/sample - loss: 0.3282 - val_loss: 0.3248\n",
      "Epoch 21/100\n",
      "11610/11610 [==============================] - 2s 141us/sample - loss: 0.3276 - val_loss: 0.3274\n",
      "Epoch 22/100\n",
      "11610/11610 [==============================] - 2s 148us/sample - loss: 0.3297 - val_loss: 0.3261\n",
      "Epoch 23/100\n",
      "11610/11610 [==============================] - 2s 143us/sample - loss: 0.3268 - val_loss: 0.3292\n",
      "Epoch 24/100\n",
      "11610/11610 [==============================] - 2s 140us/sample - loss: 0.3596 - val_loss: 0.3588\n",
      "Epoch 25/100\n",
      "11610/11610 [==============================] - 2s 144us/sample - loss: 0.3344 - val_loss: 0.3398\n",
      "Epoch 26/100\n",
      "11610/11610 [==============================] - 2s 141us/sample - loss: 0.3303 - val_loss: 0.3324\n",
      "Epoch 27/100\n",
      "11610/11610 [==============================] - 2s 141us/sample - loss: 0.3267 - val_loss: 0.3315\n",
      "Epoch 28/100\n",
      "11610/11610 [==============================] - 2s 152us/sample - loss: 0.3256 - val_loss: 0.3293\n",
      "Epoch 29/100\n",
      "11610/11610 [==============================] - 2s 143us/sample - loss: 0.3295 - val_loss: 0.3314\n",
      "Epoch 30/100\n",
      "11610/11610 [==============================] - 2s 141us/sample - loss: 0.3274 - val_loss: 0.3299\n"
     ]
    }
   ],
   "source": [
    "early_stopping_cb = keras.callbacks.EarlyStopping(patience=10, restore_best_weights=True)\n",
    "history = model.fit(X_train, y_train, epochs=100, validation_data=(X_valid, y_valid), callbacks=[checkpoint_cb, early_stopping_cb])"
   ]
  },
  {
   "cell_type": "markdown",
   "metadata": {},
   "source": [
    "In this case, epoch 20 will be used because none of the 10 subsequent epochs had a better val_loss.\n",
    "\n",
    "Custom callbacks may also be defined, including behaviors for the following during training:\n",
    "\n",
    "- on_train_begin()\n",
    "- on_train_end()\n",
    "- on_epoch_begin()\n",
    "- on_epoch_end()\n",
    "- on_batch_begin()\n",
    "- on_batch_end()\n",
    "- on_test_begin()\n",
    "- on_test_end()\n",
    "\n",
    "...during evaluation, called by evaluate():\n",
    "\n",
    "- on_test_begin()\n",
    "- on_test_end()\n",
    "- on_test_batch_begin()\n",
    "- on_test__batch_end()\n",
    "\n",
    "...and during prediction, called by predict():\n",
    "\n",
    "- on_predict_begin()\n",
    "- on_predict_end()\n",
    "- on_predict_batch_begin()\n",
    "- on_predict_batch_end()"
   ]
  },
  {
   "cell_type": "code",
   "execution_count": 10,
   "metadata": {},
   "outputs": [],
   "source": [
    "# Print the ratio between validation and training losses at each epoch to detect overfitting\n",
    "class PrintValTrainRatioCallback(keras.callbacks.Callback):\n",
    "    def on_epoch_end(self, epoch, logs):\n",
    "        print(f\"\\nval/train: {(logs['val_loss']/logs['loss']):.2f}\")"
   ]
  },
  {
   "cell_type": "code",
   "execution_count": 11,
   "metadata": {},
   "outputs": [
    {
     "name": "stdout",
     "output_type": "stream",
     "text": [
      "Train on 11610 samples, validate on 3870 samples\n",
      "Epoch 1/10\n",
      "11392/11610 [============================>.] - ETA: 0s - loss: 0.3275\n",
      "val/train: 1.00\n",
      "11610/11610 [==============================] - 2s 161us/sample - loss: 0.3271 - val_loss: 0.3268\n",
      "Epoch 2/10\n",
      "11296/11610 [============================>.] - ETA: 0s - loss: 0.3285\n",
      "val/train: 1.00\n",
      "11610/11610 [==============================] - 2s 143us/sample - loss: 0.3273 - val_loss: 0.3261\n",
      "Epoch 3/10\n",
      "11200/11610 [===========================>..] - ETA: 0s - loss: 0.3300\n",
      "val/train: 1.01\n",
      "11610/11610 [==============================] - 2s 139us/sample - loss: 0.3293 - val_loss: 0.3320\n",
      "Epoch 4/10\n",
      "11232/11610 [============================>.] - ETA: 0s - loss: 0.3291\n",
      "val/train: 1.00\n",
      "11610/11610 [==============================] - 2s 139us/sample - loss: 0.3296 - val_loss: 0.3284\n",
      "Epoch 5/10\n",
      "11424/11610 [============================>.] - ETA: 0s - loss: 0.3364\n",
      "val/train: 1.01\n",
      "11610/11610 [==============================] - 2s 142us/sample - loss: 0.3372 - val_loss: 0.3391\n",
      "Epoch 6/10\n",
      "11424/11610 [============================>.] - ETA: 0s - loss: 0.3309\n",
      "val/train: 1.01\n",
      "11610/11610 [==============================] - 2s 145us/sample - loss: 0.3306 - val_loss: 0.3347\n",
      "Epoch 7/10\n",
      "11520/11610 [============================>.] - ETA: 0s - loss: 0.3309\n",
      "val/train: 1.03\n",
      "11610/11610 [==============================] - 2s 141us/sample - loss: 0.3312 - val_loss: 0.3415\n",
      "Epoch 8/10\n",
      "11296/11610 [============================>.] - ETA: 0s - loss: 0.3245\n",
      "val/train: 1.02\n",
      "11610/11610 [==============================] - 2s 138us/sample - loss: 0.3241 - val_loss: 0.3302\n",
      "Epoch 9/10\n",
      "11552/11610 [============================>.] - ETA: 0s - loss: 0.3234\n",
      "val/train: 1.02\n",
      "11610/11610 [==============================] - 2s 145us/sample - loss: 0.3233 - val_loss: 0.3288\n",
      "Epoch 10/10\n",
      "11328/11610 [============================>.] - ETA: 0s - loss: 0.3215\n",
      "val/train: 1.00\n",
      "11610/11610 [==============================] - 2s 143us/sample - loss: 0.3229 - val_loss: 0.3246\n"
     ]
    }
   ],
   "source": [
    "custom_cb = PrintValTrainRatioCallback()\n",
    "history = model.fit(X_train, y_train, epochs=10, validation_data=(X_valid, y_valid), callbacks=[custom_cb])"
   ]
  },
  {
   "cell_type": "markdown",
   "metadata": {},
   "source": [
    "TensorBoard can be configured to observe a log directory containing artifacts from training and prepare various visualizations."
   ]
  },
  {
   "cell_type": "code",
   "execution_count": 7,
   "metadata": {},
   "outputs": [
    {
     "data": {
      "text/plain": [
       "'.\\\\logs\\\\run_20200427_21-41-23'"
      ]
     },
     "execution_count": 7,
     "metadata": {},
     "output_type": "execute_result"
    }
   ],
   "source": [
    "import os\n",
    "root_logdir = os.path.join(os.curdir, 'logs')\n",
    "\n",
    "def get_run_logdir():\n",
    "    import time\n",
    "    run_id = time.strftime('run_%Y%m%d_%H-%M-%S')\n",
    "    return os.path.join(root_logdir, run_id)\n",
    "\n",
    "run_logdir = get_run_logdir()\n",
    "run_logdir"
   ]
  },
  {
   "cell_type": "code",
   "execution_count": 8,
   "metadata": {},
   "outputs": [
    {
     "name": "stdout",
     "output_type": "stream",
     "text": [
      "Train on 11610 samples, validate on 3870 samples\n",
      "Epoch 1/30\n",
      "11610/11610 [==============================] - 2s 209us/sample - loss: 0.3318 - val_loss: 0.3157\n",
      "Epoch 2/30\n",
      "11610/11610 [==============================] - 2s 180us/sample - loss: 0.3292 - val_loss: 0.3173\n",
      "Epoch 3/30\n",
      "11610/11610 [==============================] - 2s 179us/sample - loss: 0.3285 - val_loss: 0.3143\n",
      "Epoch 4/30\n",
      "11610/11610 [==============================] - 2s 180us/sample - loss: 0.3300 - val_loss: 0.3156\n",
      "Epoch 5/30\n",
      "11610/11610 [==============================] - 2s 179us/sample - loss: 0.3273 - val_loss: 0.3179\n",
      "Epoch 6/30\n",
      "11610/11610 [==============================] - 2s 180us/sample - loss: 0.3267 - val_loss: 0.3134\n",
      "Epoch 7/30\n",
      "11610/11610 [==============================] - 2s 179us/sample - loss: 0.3259 - val_loss: 0.3120\n",
      "Epoch 8/30\n",
      "11610/11610 [==============================] - 2s 180us/sample - loss: 0.3245 - val_loss: 0.3131\n",
      "Epoch 9/30\n",
      "11610/11610 [==============================] - 2s 179us/sample - loss: 0.3234 - val_loss: 0.3153\n",
      "Epoch 10/30\n",
      "11610/11610 [==============================] - 2s 181us/sample - loss: 0.3240 - val_loss: 0.3136\n",
      "Epoch 11/30\n",
      "11610/11610 [==============================] - 2s 180us/sample - loss: 0.3234 - val_loss: 0.3126\n",
      "Epoch 12/30\n",
      "11610/11610 [==============================] - 2s 181us/sample - loss: 0.3235 - val_loss: 0.3162\n",
      "Epoch 13/30\n",
      "11610/11610 [==============================] - 2s 180us/sample - loss: 0.3220 - val_loss: 0.3126\n",
      "Epoch 14/30\n",
      "11610/11610 [==============================] - 2s 179us/sample - loss: 0.3213 - val_loss: 0.3136\n",
      "Epoch 15/30\n",
      "11610/11610 [==============================] - 2s 189us/sample - loss: 0.3202 - val_loss: 0.3147\n",
      "Epoch 16/30\n",
      "11610/11610 [==============================] - 2s 197us/sample - loss: 0.3200 - val_loss: 0.3143\n",
      "Epoch 17/30\n",
      "11610/11610 [==============================] - 2s 186us/sample - loss: 0.3197 - val_loss: 0.3182\n",
      "Epoch 18/30\n",
      "11610/11610 [==============================] - 2s 195us/sample - loss: 0.3188 - val_loss: 0.3100\n",
      "Epoch 19/30\n",
      "11610/11610 [==============================] - 2s 189us/sample - loss: 0.3178 - val_loss: 0.3082\n",
      "Epoch 20/30\n",
      "11610/11610 [==============================] - 2s 183us/sample - loss: 0.3173 - val_loss: 0.3156\n",
      "Epoch 21/30\n",
      "11610/11610 [==============================] - 2s 179us/sample - loss: 0.3165 - val_loss: 0.3090\n",
      "Epoch 22/30\n",
      "11610/11610 [==============================] - 2s 189us/sample - loss: 0.3168 - val_loss: 0.3098\n",
      "Epoch 23/30\n",
      "11610/11610 [==============================] - 2s 187us/sample - loss: 0.3150 - val_loss: 0.3114\n",
      "Epoch 24/30\n",
      "11610/11610 [==============================] - 2s 184us/sample - loss: 0.3156 - val_loss: 0.3091\n",
      "Epoch 25/30\n",
      "11610/11610 [==============================] - 2s 181us/sample - loss: 0.3171 - val_loss: 0.3082\n",
      "Epoch 26/30\n",
      "11610/11610 [==============================] - 2s 191us/sample - loss: 0.3158 - val_loss: 0.3129\n",
      "Epoch 27/30\n",
      "11610/11610 [==============================] - 2s 182us/sample - loss: 0.3148 - val_loss: 0.3128\n",
      "Epoch 28/30\n",
      "11610/11610 [==============================] - 2s 178us/sample - loss: 0.3143 - val_loss: 0.3086\n",
      "Epoch 29/30\n",
      "11610/11610 [==============================] - 2s 186us/sample - loss: 0.3140 - val_loss: 0.3116\n",
      "Epoch 30/30\n",
      "11610/11610 [==============================] - 2s 193us/sample - loss: 0.3131 - val_loss: 0.3094\n"
     ]
    }
   ],
   "source": [
    "# Use the TensorBoard callback to create the artifacts\n",
    "tensorboard_cb = keras.callbacks.TensorBoard(get_run_logdir())\n",
    "history = model.fit(X_train, y_train, epochs=30, validation_data=(X_valid, y_valid), callbacks=[tensorboard_cb])"
   ]
  },
  {
   "cell_type": "markdown",
   "metadata": {},
   "source": [
    "## Tuning\n",
    "\n",
    "The flexibility of neural networks comes with many hyperparameters, even the most basic architecture has a number of potential adjustments:\n",
    "\n",
    "- Number of layers\n",
    "- Number of neurons in each layer\n",
    "- Activation functions\n",
    "- Weight initialization\n",
    "\n",
    "Two familiar tuning methods are grid and randomized search."
   ]
  },
  {
   "cell_type": "code",
   "execution_count": 3,
   "metadata": {},
   "outputs": [],
   "source": [
    "# Helper function to build a basic Sequential model given some hyperparameters\n",
    "def build_model(n_hidden=1, n_neurons=30, learning_rate=3e-3, input_shape=[8]):\n",
    "    model = keras.models.Sequential()\n",
    "    model.add(keras.layers.InputLayer(input_shape=input_shape))\n",
    "    for layer in range(n_hidden):\n",
    "        model.add(keras.layers.Dense(n_neurons, activation='relu'))\n",
    "    model.add(keras.layers.Dense(1))\n",
    "    optimizer = keras.optimizers.SGD(lr=learning_rate)\n",
    "    model.compile(loss='mse', optimizer=optimizer)\n",
    "    return model"
   ]
  },
  {
   "cell_type": "code",
   "execution_count": 4,
   "metadata": {},
   "outputs": [
    {
     "name": "stdout",
     "output_type": "stream",
     "text": [
      "Train on 11610 samples, validate on 3870 samples\n",
      "Epoch 1/100\n",
      "11610/11610 [==============================] - 2s 190us/sample - loss: 1.3287 - val_loss: 0.7459\n",
      "Epoch 2/100\n",
      "11610/11610 [==============================] - 2s 142us/sample - loss: 0.5644 - val_loss: 0.5784\n",
      "Epoch 3/100\n",
      "11610/11610 [==============================] - 2s 142us/sample - loss: 0.4942 - val_loss: 1.3988\n",
      "Epoch 4/100\n",
      "11610/11610 [==============================] - 2s 143us/sample - loss: 0.4720 - val_loss: 2.0171\n",
      "Epoch 5/100\n",
      "11610/11610 [==============================] - 2s 141us/sample - loss: 0.4661 - val_loss: 1.3521\n",
      "Epoch 6/100\n",
      "11610/11610 [==============================] - 2s 144us/sample - loss: 0.4388 - val_loss: 2.4404\n",
      "Epoch 7/100\n",
      "11610/11610 [==============================] - 2s 143us/sample - loss: 0.4315 - val_loss: 0.9491\n",
      "Epoch 8/100\n",
      "11610/11610 [==============================] - 2s 142us/sample - loss: 0.4206 - val_loss: 2.7738\n",
      "Epoch 9/100\n",
      "11610/11610 [==============================] - 2s 145us/sample - loss: 0.4318 - val_loss: 0.7723\n",
      "Epoch 10/100\n",
      "11610/11610 [==============================] - 2s 143us/sample - loss: 0.4122 - val_loss: 1.2506\n",
      "Epoch 11/100\n",
      "11610/11610 [==============================] - 2s 145us/sample - loss: 0.4107 - val_loss: 2.0098\n",
      "Epoch 12/100\n",
      "11610/11610 [==============================] - 2s 147us/sample - loss: 0.4071 - val_loss: 0.4217\n",
      "Epoch 13/100\n",
      "11610/11610 [==============================] - 2s 140us/sample - loss: 0.4232 - val_loss: 2.2657\n",
      "Epoch 14/100\n",
      "11610/11610 [==============================] - 2s 144us/sample - loss: 0.4060 - val_loss: 0.9081\n",
      "Epoch 15/100\n",
      "11610/11610 [==============================] - 2s 146us/sample - loss: 0.3961 - val_loss: 0.4578\n",
      "Epoch 16/100\n",
      "11610/11610 [==============================] - 2s 143us/sample - loss: 0.3924 - val_loss: 1.6595\n",
      "Epoch 17/100\n",
      "11610/11610 [==============================] - 2s 142us/sample - loss: 0.3938 - val_loss: 0.9950\n",
      "Epoch 18/100\n",
      "11610/11610 [==============================] - 2s 143us/sample - loss: 0.3930 - val_loss: 0.3960\n",
      "Epoch 19/100\n",
      "11610/11610 [==============================] - 2s 143us/sample - loss: 0.3871 - val_loss: 2.1295\n",
      "Epoch 20/100\n",
      "11610/11610 [==============================] - 2s 143us/sample - loss: 0.3894 - val_loss: 1.1662\n",
      "Epoch 21/100\n",
      "11610/11610 [==============================] - 2s 145us/sample - loss: 0.3819 - val_loss: 0.6048\n",
      "Epoch 22/100\n",
      "11610/11610 [==============================] - 2s 141us/sample - loss: 0.3795 - val_loss: 1.5726\n",
      "Epoch 23/100\n",
      "11610/11610 [==============================] - 2s 148us/sample - loss: 0.3787 - val_loss: 1.0929\n",
      "Epoch 24/100\n",
      "11610/11610 [==============================] - 2s 145us/sample - loss: 0.3779 - val_loss: 1.6435\n",
      "Epoch 25/100\n",
      "11610/11610 [==============================] - 2s 145us/sample - loss: 0.3754 - val_loss: 1.7208\n",
      "Epoch 26/100\n",
      "11610/11610 [==============================] - 2s 145us/sample - loss: 0.3750 - val_loss: 0.3963\n",
      "Epoch 27/100\n",
      "11610/11610 [==============================] - 2s 150us/sample - loss: 0.3717 - val_loss: 1.4360\n",
      "Epoch 28/100\n",
      "11610/11610 [==============================] - 2s 147us/sample - loss: 0.3724 - val_loss: 0.5297\n",
      "5160/5160 [==============================] - 0s 77us/sample - loss: 0.3846\n"
     ]
    }
   ],
   "source": [
    "# Create a Scikit-Learn style regressor by using the KerasRegressor wrapper\n",
    "keras_reg = keras.wrappers.scikit_learn.KerasRegressor(build_model)\n",
    "\n",
    "keras_reg.fit(\n",
    "    X_train, y_train, epochs=100, \n",
    "    validation_data=(X_valid, y_valid), \n",
    "    callbacks=[keras.callbacks.EarlyStopping(patience=10)]\n",
    ")\n",
    "mse_test = keras_reg.score(X_test, y_test)"
   ]
  },
  {
   "cell_type": "code",
   "execution_count": 7,
   "metadata": {},
   "outputs": [],
   "source": [
    "y_pred = keras_reg.predict(X_new)"
   ]
  },
  {
   "cell_type": "code",
   "execution_count": 10,
   "metadata": {},
   "outputs": [
    {
     "data": {
      "text/plain": [
       "'\\nrnd_search_cv = RandomizedSearchCV(keras_reg, param_distribs, n_iter=10, cv=3)\\nrnd_search_cv.fit(\\n    X_train, y_train, epochs=100, \\n    validation_data=(X_valid, y_valid),\\n    callbacks=[keras.callbacks.EarlyStopping(patience=10)]\\n)\\n'"
      ]
     },
     "execution_count": 10,
     "metadata": {},
     "output_type": "execute_result"
    }
   ],
   "source": [
    "from scipy.stats import reciprocal\n",
    "from sklearn.model_selection import RandomizedSearchCV\n",
    "\n",
    "# Set the hyperparameters to check\n",
    "param_distribs = {\n",
    "    'n_hidden': [0, 1, 2, 3],\n",
    "    'n_neurons': np.arange(1, 100),\n",
    "    'learning_rate': reciprocal(3e-4, 3e-2)\n",
    "}\n",
    "\n",
    "# Perform the randomized search (warning: will take a very long time! Commented to avoid accidental execution)\n",
    "\"\"\"\n",
    "rnd_search_cv = RandomizedSearchCV(keras_reg, param_distribs, n_iter=10, cv=3)\n",
    "rnd_search_cv.fit(\n",
    "    X_train, y_train, epochs=100, \n",
    "    validation_data=(X_valid, y_valid),\n",
    "    callbacks=[keras.callbacks.EarlyStopping(patience=10)]\n",
    ")\n",
    "\"\"\""
   ]
  },
  {
   "cell_type": "code",
   "execution_count": null,
   "metadata": {},
   "outputs": [],
   "source": [
    "# Get the best parameters and score\n",
    "rnd_search_cv.best_params_, rnd_search_cv.best_score_"
   ]
  },
  {
   "cell_type": "code",
   "execution_count": null,
   "metadata": {},
   "outputs": [],
   "source": [
    "# Save the best model\n",
    "model = rnd_search_cv.best_estimator_.model"
   ]
  },
  {
   "cell_type": "markdown",
   "metadata": {},
   "source": [
    "There are more efficient ways to explore a search space than randomized search, usually by starting with a faster search with a wide range of parameters and then performing more thorough searches in good regions of the search space.\n",
    "\n",
    "Some examples:\n",
    "\n",
    "- [Hyperopt](https://github.com/hyperopt/hyperopt): a popular library for optimizing over complex search spaces including both real values (such as learning rate) and discrete values (such as number of layers)\n",
    "- [Hyperas](https://github.com/maxpumperla/hyperas), [kopt](https://github.com/Avsecz/kopt), [Talos](https://github.com/autonomio/talos): useful libraries for optimmizing hyperparameters specifically for Keras models (Hyperas and kopt are based on Hyperopt)\n",
    "- [Keras Tuner](https://www.youtube.com/watch?v=Un0JDL3i5Hg&t=24s): an optimization library created by Google for Keras models with a hosted service for visualization and analysis\n",
    "- [Scikit-Optimize, or skopt](https://scikit-optimize.github.io/): a general-purpose optimization library\n",
    "- [Spearmint](https://github.com/JasperSnock/spearmint): a Bayesian optimization library\n",
    "- [Hyperband](https://github.com/zygmuntz/hyperband): a fast tuning library based on the [Hyperband paper](https://arxiv.org/abs/1603.06560) by Lisha Li et al.\n",
    "- [Sklearn-Deap](https://github.com/rsteca/sklearn-deap): an optimization library based on evolutionary algorithms with an interface similar to GridSearchCV\n",
    "\n",
    "Tuning services also exist:\n",
    "\n",
    "- [Google Cloud AI Platform](https://cloud.google.com/ai-platform/training/docs/using-hyperparameter-tuning)\n",
    "- [Arimo](https://arimo.com/)\n",
    "- [SigOpt](https://sigopt.com/)\n",
    "- [CallDesk's Oscar](http://oscar.calldesk.ai/)"
   ]
  },
  {
   "cell_type": "code",
   "execution_count": null,
   "metadata": {},
   "outputs": [],
   "source": []
  }
 ],
 "metadata": {
  "kernelspec": {
   "display_name": "Python 3",
   "language": "python",
   "name": "python3"
  },
  "language_info": {
   "codemirror_mode": {
    "name": "ipython",
    "version": 3
   },
   "file_extension": ".py",
   "mimetype": "text/x-python",
   "name": "python",
   "nbconvert_exporter": "python",
   "pygments_lexer": "ipython3",
   "version": "3.7.6"
  }
 },
 "nbformat": 4,
 "nbformat_minor": 4
}
