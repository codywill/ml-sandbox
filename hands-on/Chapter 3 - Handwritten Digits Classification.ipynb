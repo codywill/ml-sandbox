{
 "cells": [
  {
   "cell_type": "markdown",
   "metadata": {},
   "source": [
    "# Handwritten Digits Classification\n",
    "This project explores classification learning using the MNIST dataset."
   ]
  },
  {
   "cell_type": "code",
   "execution_count": 2,
   "metadata": {
    "ExecuteTime": {
     "end_time": "2020-01-12T06:37:44.692055Z",
     "start_time": "2020-01-12T06:37:41.479301Z"
    }
   },
   "outputs": [],
   "source": [
    "import os\n",
    "import pickle\n",
    "import numpy as np\n",
    "import pandas as pd\n",
    "import matplotlib as mpl\n",
    "import matplotlib.pyplot as plt"
   ]
  },
  {
   "cell_type": "markdown",
   "metadata": {},
   "source": [
    "## 1 Loading Data"
   ]
  },
  {
   "cell_type": "code",
   "execution_count": 3,
   "metadata": {
    "ExecuteTime": {
     "end_time": "2020-01-12T06:38:22.008064Z",
     "start_time": "2020-01-12T06:37:44.695050Z"
    }
   },
   "outputs": [],
   "source": [
    "from sklearn.datasets import fetch_openml\n",
    "\n",
    "# Fetch MNIST dataset using sklearn\n",
    "X, y = fetch_openml('mnist_784', version=1, return_X_y=True)"
   ]
  },
  {
   "cell_type": "markdown",
   "metadata": {},
   "source": [
    "## 2 Analysis"
   ]
  },
  {
   "cell_type": "code",
   "execution_count": 4,
   "metadata": {
    "ExecuteTime": {
     "end_time": "2020-01-12T06:38:22.017012Z",
     "start_time": "2020-01-12T06:38:22.011027Z"
    }
   },
   "outputs": [],
   "source": [
    "def print_digit(digit):\n",
    "    # Sample a digit, reshaping the 1x784 array to 28x28\n",
    "    digit_image = digit.reshape(28, 28)\n",
    "\n",
    "    # Plot the thing\n",
    "    plt.imshow(digit_image, cmap='binary')\n",
    "    plt.axis('off')\n",
    "    plt.show()"
   ]
  },
  {
   "cell_type": "code",
   "execution_count": 5,
   "metadata": {
    "ExecuteTime": {
     "end_time": "2020-01-12T06:38:22.040951Z",
     "start_time": "2020-01-12T06:38:22.020035Z"
    }
   },
   "outputs": [],
   "source": [
    "# Convert y from string type to numeric\n",
    "y = y.astype(np.uint8)\n",
    "\n",
    "# Separate test and training sets\n",
    "X_train, X_test, y_train, y_test = X[:60000], X[60000:], y[:60000], y[60000:]"
   ]
  },
  {
   "cell_type": "code",
   "execution_count": 6,
   "metadata": {
    "ExecuteTime": {
     "end_time": "2020-01-12T06:38:22.052919Z",
     "start_time": "2020-01-12T06:38:22.044938Z"
    }
   },
   "outputs": [
    {
     "data": {
      "text/plain": [
       "(70000, 784)"
      ]
     },
     "execution_count": 6,
     "metadata": {},
     "output_type": "execute_result"
    }
   ],
   "source": [
    "X.shape"
   ]
  },
  {
   "cell_type": "code",
   "execution_count": 7,
   "metadata": {
    "ExecuteTime": {
     "end_time": "2020-01-12T06:38:22.067877Z",
     "start_time": "2020-01-12T06:38:22.058900Z"
    }
   },
   "outputs": [
    {
     "data": {
      "text/plain": [
       "(70000,)"
      ]
     },
     "execution_count": 7,
     "metadata": {},
     "output_type": "execute_result"
    }
   ],
   "source": [
    "y.shape"
   ]
  },
  {
   "cell_type": "code",
   "execution_count": 8,
   "metadata": {
    "ExecuteTime": {
     "end_time": "2020-01-12T06:38:22.220470Z",
     "start_time": "2020-01-12T06:38:22.071866Z"
    }
   },
   "outputs": [
    {
     "data": {
      "image/png": "[encoded data removed]",
      "text/plain": [
       "<Figure size 432x288 with 1 Axes>"
      ]
     },
     "metadata": {
      "needs_background": "light"
     },
     "output_type": "display_data"
    }
   ],
   "source": [
    "print_digit(X[0])"
   ]
  },
  {
   "cell_type": "code",
   "execution_count": 9,
   "metadata": {
    "ExecuteTime": {
     "end_time": "2020-01-12T06:38:22.231473Z",
     "start_time": "2020-01-12T06:38:22.224469Z"
    }
   },
   "outputs": [
    {
     "data": {
      "text/plain": [
       "5"
      ]
     },
     "execution_count": 9,
     "metadata": {},
     "output_type": "execute_result"
    }
   ],
   "source": [
    "y[0]"
   ]
  },
  {
   "cell_type": "code",
   "execution_count": 10,
   "metadata": {
    "ExecuteTime": {
     "end_time": "2020-01-12T06:38:22.239446Z",
     "start_time": "2020-01-12T06:38:22.234434Z"
    }
   },
   "outputs": [],
   "source": [
    "# Target vectors for each set for value == 5\n",
    "y_train_5 = (y_train == 5)\n",
    "y_test_5 = (y_test == 5)"
   ]
  },
  {
   "cell_type": "markdown",
   "metadata": {},
   "source": [
    "## 3 First Model: Binary Classification"
   ]
  },
  {
   "cell_type": "code",
   "execution_count": 11,
   "metadata": {
    "ExecuteTime": {
     "end_time": "2020-01-12T06:38:22.248395Z",
     "start_time": "2020-01-12T06:38:22.242411Z"
    }
   },
   "outputs": [],
   "source": [
    "# Create pickles directory\n",
    "os.makedirs(os.path.join(os.path.abspath('.'), 'pickles'), exist_ok=True)"
   ]
  },
  {
   "cell_type": "code",
   "execution_count": 12,
   "metadata": {
    "ExecuteTime": {
     "end_time": "2020-01-12T06:38:22.542733Z",
     "start_time": "2020-01-12T06:38:22.252384Z"
    }
   },
   "outputs": [],
   "source": [
    "# Stochastic Gradient Descent model for binary '5' classifier\n",
    "from sklearn.linear_model import SGDClassifier\n",
    "\n",
    "try:\n",
    "    # Check for pickled model\n",
    "    sgd_clf = pickle.load(open('pickles/sgd_clf.pkl', 'rb'))\n",
    "except FileNotFoundError:\n",
    "    # Create, train, and pickle the model if it does not exist\n",
    "    sgd_clf = SGDClassifier(random_state=47)\n",
    "    sgd_clf.fit(X_train, y_train_5)\n",
    "    pickle.dump(sgd_clf, open('pickles/sgd_clf.pkl', 'wb'))"
   ]
  },
  {
   "cell_type": "code",
   "execution_count": 13,
   "metadata": {
    "ExecuteTime": {
     "end_time": "2020-01-12T06:38:22.549749Z",
     "start_time": "2020-01-12T06:38:22.544733Z"
    }
   },
   "outputs": [
    {
     "data": {
      "text/plain": [
       "array([ True])"
      ]
     },
     "execution_count": 13,
     "metadata": {},
     "output_type": "execute_result"
    }
   ],
   "source": [
    "# Test 5 from above\n",
    "sgd_clf.predict([X[0]])"
   ]
  },
  {
   "cell_type": "code",
   "execution_count": 14,
   "metadata": {
    "ExecuteTime": {
     "end_time": "2020-01-12T06:38:22.627513Z",
     "start_time": "2020-01-12T06:38:22.551720Z"
    }
   },
   "outputs": [
    {
     "data": {
      "image/png": "[encoded data removed]",
      "text/plain": [
       "<Figure size 432x288 with 1 Axes>"
      ]
     },
     "metadata": {
      "needs_background": "light"
     },
     "output_type": "display_data"
    }
   ],
   "source": [
    "print_digit(X[25])"
   ]
  },
  {
   "cell_type": "code",
   "execution_count": 15,
   "metadata": {
    "ExecuteTime": {
     "end_time": "2020-01-12T06:38:22.636489Z",
     "start_time": "2020-01-12T06:38:22.629534Z"
    }
   },
   "outputs": [
    {
     "data": {
      "text/plain": [
       "array([False])"
      ]
     },
     "execution_count": 15,
     "metadata": {},
     "output_type": "execute_result"
    }
   ],
   "source": [
    "sgd_clf.predict([X[25]])"
   ]
  },
  {
   "cell_type": "markdown",
   "metadata": {
    "ExecuteTime": {
     "end_time": "2020-01-11T04:48:30.525270Z",
     "start_time": "2020-01-11T04:48:30.451467Z"
    }
   },
   "source": [
    "## 4 First Model Evaluation"
   ]
  },
  {
   "cell_type": "markdown",
   "metadata": {},
   "source": [
    "### 4.1 Cross-Validation"
   ]
  },
  {
   "cell_type": "code",
   "execution_count": 16,
   "metadata": {
    "ExecuteTime": {
     "end_time": "2020-01-12T06:38:22.648483Z",
     "start_time": "2020-01-12T06:38:22.638481Z"
    }
   },
   "outputs": [
    {
     "data": {
      "text/plain": [
       "array([0.9644 , 0.96595, 0.952  ])"
      ]
     },
     "execution_count": 16,
     "metadata": {},
     "output_type": "execute_result"
    }
   ],
   "source": [
    "from sklearn.model_selection import cross_val_score\n",
    "\n",
    "try:\n",
    "    # Check for pickled cross validation scores\n",
    "    sgd_cross_val_score = pickle.load(open('pickles/sgd_cross_val_score.pkl', 'rb'))\n",
    "except FileNotFoundError:\n",
    "    # Create and pickle the scores if the file does not exist\n",
    "    sgd_cross_val_score = cross_val_score(sgd_clf, X_train, y_train_5, cv=3, scoring='accuracy')\n",
    "    pickle.dump(sgd_cross_val_score, open('pickles/sgd_cross_val_score.pkl', 'wb'))\n",
    "\n",
    "sgd_cross_val_score"
   ]
  },
  {
   "cell_type": "code",
   "execution_count": 17,
   "metadata": {
    "ExecuteTime": {
     "end_time": "2020-01-12T06:38:22.657430Z",
     "start_time": "2020-01-12T06:38:22.651447Z"
    }
   },
   "outputs": [],
   "source": [
    "# Very basic classifier for comparison\n",
    "from sklearn.base import BaseEstimator\n",
    "\n",
    "class Never5Classifier(BaseEstimator):\n",
    "    def fit(self, X, y=None):\n",
    "        pass\n",
    "    def predict(self, X):\n",
    "        return np.zeros((len(X), 1), dtype=bool)"
   ]
  },
  {
   "cell_type": "code",
   "execution_count": 18,
   "metadata": {
    "ExecuteTime": {
     "end_time": "2020-01-12T06:38:23.710758Z",
     "start_time": "2020-01-12T06:38:22.661421Z"
    }
   },
   "outputs": [
    {
     "data": {
      "text/plain": [
       "array([0.91125, 0.90855, 0.90915])"
      ]
     },
     "execution_count": 18,
     "metadata": {},
     "output_type": "execute_result"
    }
   ],
   "source": [
    "never_5_clf = Never5Classifier()\n",
    "cross_val_score(never_5_clf, X_train, y_train_5, cv=3, scoring='accuracy')"
   ]
  },
  {
   "cell_type": "markdown",
   "metadata": {},
   "source": [
    "Only ~10% of the dataset is 5, so even if this model guessed 'not 5' every time it would still be ~90% accurate. This demonstrates that accuracy is not a great performance metric for classifiers."
   ]
  },
  {
   "cell_type": "markdown",
   "metadata": {},
   "source": [
    "### 4.2 Confusion Matrix"
   ]
  },
  {
   "cell_type": "markdown",
   "metadata": {},
   "source": [
    "Record of the number of times class A is classified as class B."
   ]
  },
  {
   "cell_type": "code",
   "execution_count": 19,
   "metadata": {
    "ExecuteTime": {
     "end_time": "2020-01-12T06:38:23.736682Z",
     "start_time": "2020-01-12T06:38:23.714743Z"
    }
   },
   "outputs": [
    {
     "data": {
      "text/html": [
       "<div>\n",
       "<style scoped>\n",
       "    .dataframe tbody tr th:only-of-type {\n",
       "        vertical-align: middle;\n",
       "    }\n",
       "\n",
       "    .dataframe tbody tr th {\n",
       "        vertical-align: top;\n",
       "    }\n",
       "\n",
       "    .dataframe thead th {\n",
       "        text-align: right;\n",
       "    }\n",
       "</style>\n",
       "<table border=\"1\" class=\"dataframe\">\n",
       "  <thead>\n",
       "    <tr style=\"text-align: right;\">\n",
       "      <th></th>\n",
       "      <th>not-5</th>\n",
       "      <th>5</th>\n",
       "    </tr>\n",
       "  </thead>\n",
       "  <tbody>\n",
       "    <tr>\n",
       "      <th>not-5</th>\n",
       "      <td>8</td>\n",
       "      <td>2</td>\n",
       "    </tr>\n",
       "    <tr>\n",
       "      <th>5</th>\n",
       "      <td>0</td>\n",
       "      <td>0</td>\n",
       "    </tr>\n",
       "  </tbody>\n",
       "</table>\n",
       "</div>"
      ],
      "text/plain": [
       "       not-5  5\n",
       "not-5      8  2\n",
       "5          0  0"
      ]
     },
     "execution_count": 19,
     "metadata": {},
     "output_type": "execute_result"
    }
   ],
   "source": [
    "# Visualization: Two of ten 'not-5' are classified as '5'\n",
    "pd.DataFrame(np.array([[8,2],[0,0]]), columns=['not-5','5'], index=['not-5','5'])"
   ]
  },
  {
   "cell_type": "code",
   "execution_count": 20,
   "metadata": {
    "ExecuteTime": {
     "end_time": "2020-01-12T06:38:23.756629Z",
     "start_time": "2020-01-12T06:38:23.741679Z"
    }
   },
   "outputs": [],
   "source": [
    "# Generate some predictions from the y_train_5 set\n",
    "from sklearn.model_selection import cross_val_predict\n",
    "\n",
    "try:\n",
    "    # Check for pickled predictions\n",
    "    y_train_pred = pickle.load(open('pickles/y_train_pred.pkl', 'rb'))\n",
    "except FileNotFoundError:\n",
    "    # Create and pickle the predictions if the file does not exist\n",
    "    y_train_pred = cross_val_predict(sgd_clf, X_train, y_train_5, cv=3)\n",
    "    pickle.dump(y_train_pred, open('pickles/y_train_pred.pkl', 'wb'))"
   ]
  },
  {
   "cell_type": "code",
   "execution_count": 21,
   "metadata": {
    "ExecuteTime": {
     "end_time": "2020-01-12T06:38:23.817353Z",
     "start_time": "2020-01-12T06:38:23.761617Z"
    }
   },
   "outputs": [
    {
     "data": {
      "text/plain": [
       "array([[53852,   727],\n",
       "       [ 1626,  3795]], dtype=int64)"
      ]
     },
     "execution_count": 21,
     "metadata": {},
     "output_type": "execute_result"
    }
   ],
   "source": [
    "# Generate a confusion matrix using the predictions\n",
    "from sklearn.metrics import confusion_matrix\n",
    "confusion_matrix(y_train_5, y_train_pred)"
   ]
  },
  {
   "cell_type": "markdown",
   "metadata": {},
   "source": [
    "A perfect classifier would contain non-zero values only along the main diagonal."
   ]
  },
  {
   "cell_type": "code",
   "execution_count": 22,
   "metadata": {
    "ExecuteTime": {
     "end_time": "2020-01-12T06:38:23.863228Z",
     "start_time": "2020-01-12T06:38:23.819316Z"
    }
   },
   "outputs": [
    {
     "data": {
      "text/plain": [
       "array([[54579,     0],\n",
       "       [    0,  5421]], dtype=int64)"
      ]
     },
     "execution_count": 22,
     "metadata": {},
     "output_type": "execute_result"
    }
   ],
   "source": [
    "# Generate a confusion matrix for a 'perfect' classifier\n",
    "y_train_perfect_predictions = y_train_5\n",
    "confusion_matrix(y_train_5, y_train_perfect_predictions)"
   ]
  },
  {
   "cell_type": "markdown",
   "metadata": {},
   "source": [
    "### 4.3 Precision and Recall"
   ]
  },
  {
   "cell_type": "markdown",
   "metadata": {},
   "source": [
    "*Precision* is the accuracy of the positive predictions.\n",
    "\n",
    "\\begin{equation*}\n",
    "\\text{Precision} = \\frac{\\text{True Positives}}{\\text{True Positives + False Positives}}\n",
    "\\end{equation*}\n",
    "\n",
    "*Recall* is the ratio of correctly detected positive instances.\n",
    "\n",
    "\\begin{equation*}\n",
    "\\text{Recall} = \\frac{\\text{True Positives}}{\\text{True Positives + False Negatives}}\n",
    "\\end{equation*}"
   ]
  },
  {
   "cell_type": "code",
   "execution_count": 23,
   "metadata": {
    "ExecuteTime": {
     "end_time": "2020-01-12T06:42:04.249015Z",
     "start_time": "2020-01-12T06:42:04.222088Z"
    }
   },
   "outputs": [
    {
     "data": {
      "text/plain": [
       "0.8392304290137107"
      ]
     },
     "execution_count": 23,
     "metadata": {},
     "output_type": "execute_result"
    }
   ],
   "source": [
    "from sklearn.metrics import precision_score, recall_score\n",
    "precision_score(y_train_5, y_train_pred)"
   ]
  },
  {
   "cell_type": "markdown",
   "metadata": {},
   "source": [
    "So when the model predicts a 5, it is correct 83.9% of the time."
   ]
  },
  {
   "cell_type": "code",
   "execution_count": 24,
   "metadata": {
    "ExecuteTime": {
     "end_time": "2020-01-12T06:42:17.575669Z",
     "start_time": "2020-01-12T06:42:17.549714Z"
    }
   },
   "outputs": [
    {
     "data": {
      "text/plain": [
       "0.7000553403431101"
      ]
     },
     "execution_count": 24,
     "metadata": {},
     "output_type": "execute_result"
    }
   ],
   "source": [
    "recall_score(y_train_5, y_train_pred)"
   ]
  },
  {
   "cell_type": "markdown",
   "metadata": {},
   "source": [
    "Only 70% of the 5s are detected."
   ]
  },
  {
   "cell_type": "markdown",
   "metadata": {},
   "source": [
    "The F<sub>1</sub> score represents a combination (harmonic mean) of the precision and recall.\n",
    "\n",
    "\\begin{equation*}\n",
    "F_1 \n",
    "= \\frac{2}{\\frac{1}{Precision} + \\frac{1}{Recall}} \n",
    "= \\frac{\\text{True Positives}}{\\text{True Positives} + \\frac{\\text{False Negatives + False Positives}}{2}}\n",
    "\\end{equation*}\n",
    "\n",
    "The F<sub>1</sub> score will only be high if both recall and precision are high."
   ]
  },
  {
   "cell_type": "code",
   "execution_count": 25,
   "metadata": {
    "ExecuteTime": {
     "end_time": "2020-01-12T07:10:08.257531Z",
     "start_time": "2020-01-12T07:10:08.230605Z"
    }
   },
   "outputs": [
    {
     "data": {
      "text/plain": [
       "0.7633511012772803"
      ]
     },
     "execution_count": 25,
     "metadata": {},
     "output_type": "execute_result"
    }
   ],
   "source": [
    "from sklearn.metrics import f1_score\n",
    "f1_score(y_train_5, y_train_pred)"
   ]
  },
  {
   "cell_type": "markdown",
   "metadata": {},
   "source": [
    "### 4.4 Precision/Recall Trade-off"
   ]
  },
  {
   "cell_type": "markdown",
   "metadata": {},
   "source": [
    "Achieving a high precision or recall score usually demands sacrificing one for the other. Depending on the application, an especially high precision score may be worth a poor recall score or vice versa.\n",
    "\n",
    "- A high precision classifier would be more prone to missing true predictions, but would return very few false predictions.\n",
    "- A high recall classifier would include more false predictions, but would be less likely to miss any true predictions."
   ]
  },
  {
   "cell_type": "code",
   "execution_count": 26,
   "metadata": {
    "ExecuteTime": {
     "end_time": "2020-01-12T07:59:48.287702Z",
     "start_time": "2020-01-12T07:59:48.280724Z"
    }
   },
   "outputs": [
    {
     "data": {
      "text/plain": [
       "array([  1909.08072371, -10693.83133216, -14330.61396627,  -6577.95302654,\n",
       "        -8273.37399553])"
      ]
     },
     "execution_count": 26,
     "metadata": {},
     "output_type": "execute_result"
    }
   ],
   "source": [
    "# Decision scores are measured against a threshold to determine positive or negative classification\n",
    "y_scores = sgd_clf.decision_function(X[:5])\n",
    "y_scores"
   ]
  },
  {
   "cell_type": "code",
   "execution_count": 27,
   "metadata": {
    "ExecuteTime": {
     "end_time": "2020-01-12T08:09:18.415111Z",
     "start_time": "2020-01-12T08:09:18.409156Z"
    }
   },
   "outputs": [
    {
     "data": {
      "text/plain": [
       "array([ True, False, False, False, False])"
      ]
     },
     "execution_count": 27,
     "metadata": {},
     "output_type": "execute_result"
    }
   ],
   "source": [
    "# SGDClassifier uses threshold 0\n",
    "y_train_pred[:5]"
   ]
  },
  {
   "cell_type": "markdown",
   "metadata": {},
   "source": [
    "To select an appropriate threshold for the application, it's useful to visualize the trade-off between precision and recall."
   ]
  },
  {
   "cell_type": "code",
   "execution_count": 28,
   "metadata": {
    "ExecuteTime": {
     "end_time": "2020-01-12T08:12:43.439589Z",
     "start_time": "2020-01-12T08:12:43.426625Z"
    }
   },
   "outputs": [],
   "source": [
    "# Cross-validate using decision function to get scores instead of predictions\n",
    "try:\n",
    "    # Check for pickled scores\n",
    "    y_scores = pickle.load(open('pickles/y_scores.pkl', 'rb'))\n",
    "except FileNotFoundError:\n",
    "    # Create and pickle the scores if the file does not exist\n",
    "    y_scores = cross_val_predict(sgd_clf, X_train, y_train_5, cv=3, method='decision_function')\n",
    "    pickle.dump(y_scores, open('pickles/y_scores.pkl', 'wb'))"
   ]
  },
  {
   "cell_type": "code",
   "execution_count": 49,
   "metadata": {
    "ExecuteTime": {
     "end_time": "2020-01-12T08:17:31.932872Z",
     "start_time": "2020-01-12T08:17:31.914892Z"
    }
   },
   "outputs": [],
   "source": [
    "# Create some visualizations for precision, recall, and thresholds\n",
    "from sklearn.metrics import precision_recall_curve\n",
    "precisions, recalls, thresholds = precision_recall_curve(y_train_5, y_scores)"
   ]
  },
  {
   "cell_type": "code",
   "execution_count": 30,
   "metadata": {
    "ExecuteTime": {
     "end_time": "2020-01-12T08:21:35.545299Z",
     "start_time": "2020-01-12T08:21:35.321872Z"
    }
   },
   "outputs": [
    {
     "data": {
      "image/png": "[encoded data removed]",
      "text/plain": [
       "<Figure size 576x288 with 1 Axes>"
      ]
     },
     "metadata": {
      "needs_background": "light"
     },
     "output_type": "display_data"
    }
   ],
   "source": [
    "def plot_precision_recall_vs_threshold(precisions, recalls, thresholds):\n",
    "    plt.plot(thresholds, precisions[:-1], 'b--', label='Precision')\n",
    "    plt.plot(thresholds, recalls[:-1], 'g-', label='Recall')\n",
    "    plt.legend(loc=\"center right\", fontsize=16)\n",
    "    plt.xlabel(\"Threshold\", fontsize=16)\n",
    "    plt.grid(True)\n",
    "    plt.axis([-50000, 50000, 0, 1])\n",
    "\n",
    "plt.figure(figsize=(8, 4))\n",
    "plot_precision_recall_vs_threshold(precisions, recalls, thresholds)\n",
    "plt.show()"
   ]
  },
  {
   "cell_type": "code",
   "execution_count": 31,
   "metadata": {
    "ExecuteTime": {
     "end_time": "2020-01-12T08:24:36.436275Z",
     "start_time": "2020-01-12T08:24:36.242767Z"
    }
   },
   "outputs": [
    {
     "data": {
      "image/png": "[encoded data removed]",
      "text/plain": [
       "<Figure size 576x288 with 1 Axes>"
      ]
     },
     "metadata": {
      "needs_background": "light"
     },
     "output_type": "display_data"
    }
   ],
   "source": [
    "def plot_precision_vs_recall(precisions, recalls):\n",
    "    plt.plot(recalls, precisions, 'b-')\n",
    "    plt.xlabel('Recalls')\n",
    "    plt.ylabel('Precisions')\n",
    "    plt.grid(True)\n",
    "    plt.axis([0, 1, 0, 1])\n",
    "\n",
    "plt.figure(figsize=(8, 4))\n",
    "plot_precision_vs_recall(precisions, recalls)\n",
    "plt.show()"
   ]
  },
  {
   "cell_type": "code",
   "execution_count": 64,
   "metadata": {
    "ExecuteTime": {
     "end_time": "2020-01-12T08:40:11.497437Z",
     "start_time": "2020-01-12T08:40:11.451589Z"
    }
   },
   "outputs": [
    {
     "name": "stdout",
     "output_type": "stream",
     "text": [
      "Threshold: 1952.503877999998\n",
      "Precision: 0.9000273897562312\n",
      "Recall: 0.6061612248662608\n"
     ]
    }
   ],
   "source": [
    "# Helper function to get threshold necessary for target precision\n",
    "def get_threshold_from_precision(thresholds, precisions, target):\n",
    "    return thresholds[np.argmax(precisions >= target)]\n",
    "\n",
    "# Another to print the results\n",
    "def print_resulting_metrics(thresholds, precisions, target, scores=y_scores, train=y_train_5):\n",
    "    target_threshold = get_threshold_from_precision(thresholds, precisions, target)\n",
    "    y_train_pred_target = (scores >= target_threshold)\n",
    "    print(\n",
    "        f'Threshold: {target_threshold}\\n'\n",
    "        f'Precision: {precision_score(train, y_train_pred_target)}\\n'\n",
    "        f'Recall: {recall_score(train, y_train_pred_target)}'\n",
    "    )\n",
    "\n",
    "# Get a threshold for 90% precision and test it against predictions\n",
    "print_resulting_metrics(thresholds, precisions, 0.9)"
   ]
  },
  {
   "cell_type": "code",
   "execution_count": 33,
   "metadata": {
    "ExecuteTime": {
     "end_time": "2020-01-12T08:40:23.912447Z",
     "start_time": "2020-01-12T08:40:23.868597Z"
    }
   },
   "outputs": [
    {
     "name": "stdout",
     "output_type": "stream",
     "text": [
      "Threshold: 5310.608171242334\n",
      "Precision: 0.9501022494887525\n",
      "Recall: 0.4285187234827523\n"
     ]
    }
   ],
   "source": [
    "# Try 95%\n",
    "print_resulting_metrics(thresholds, precisions, 0.95)"
   ]
  },
  {
   "cell_type": "markdown",
   "metadata": {},
   "source": [
    "### 4.5 The ROC Curve"
   ]
  },
  {
   "cell_type": "markdown",
   "metadata": {},
   "source": [
    "The ROC curve plots the *true positive rate* (*TPR* or *recall*) against the *false positive rate* (*FPR* or *1 - Specificity*), which is the ratio of negative instances that are incorrectly classified as positive.\n",
    "\n",
    "\\begin{align}\n",
    "\\text{FPR} & = \\frac{\\text{False Negatives}}{\\text{True Negatives + False Negatives}}\\\\[10pt]\n",
    "& = 1 - \\frac{\\text{True Negatives}}{\\text{True Negatives + False Negatives}} \\\\[10pt]\n",
    "& = 1 - \\text{Specificity} \\\\[10pt]\n",
    "\\end{align}"
   ]
  },
  {
   "cell_type": "code",
   "execution_count": 34,
   "metadata": {},
   "outputs": [],
   "source": [
    "from sklearn.metrics import roc_curve\n",
    "fpr, tpr, thresholds = roc_curve(y_train_5, y_scores)"
   ]
  },
  {
   "cell_type": "code",
   "execution_count": 35,
   "metadata": {},
   "outputs": [
    {
     "data": {
      "image/png": "[encoded data removed]",
      "text/plain": [
       "<Figure size 432x288 with 1 Axes>"
      ]
     },
     "metadata": {
      "needs_background": "light"
     },
     "output_type": "display_data"
    }
   ],
   "source": [
    "def plot_roc_curve(fpr, tpr, label=None):\n",
    "    plt.plot(fpr, tpr, linewidth=2, label=label)\n",
    "    plt.plot([0, 1], [0, 1], 'k--')\n",
    "    plt.xlabel('False Positive Rate (1 - Specificity)')\n",
    "    plt.ylabel('True Positive Rate (Recall)')\n",
    "    plt.grid(True)\n",
    "    plt.axis([0, 1, 0, 1])\n",
    "\n",
    "plot_roc_curve(fpr, tpr)\n",
    "plt.show()"
   ]
  },
  {
   "cell_type": "markdown",
   "metadata": {},
   "source": [
    "- A good classifier will stay away from the diagonal, which represents an entirely random classifier.\n",
    "- A perfect classifier would have an area under the curve (AUC) of 1.\n",
    "- An entirely random classifier would have an AUC of 0.5."
   ]
  },
  {
   "cell_type": "code",
   "execution_count": 36,
   "metadata": {},
   "outputs": [
    {
     "data": {
      "text/plain": [
       "0.9621458763630213"
      ]
     },
     "execution_count": 36,
     "metadata": {},
     "output_type": "execute_result"
    }
   ],
   "source": [
    "from sklearn.metrics import roc_auc_score\n",
    "roc_auc_score(y_train_5, y_scores)"
   ]
  },
  {
   "cell_type": "markdown",
   "metadata": {},
   "source": [
    "**Note:** The ROC curve is useful for evaluating the number of false negatives, but the PR (precision vs. recall) curve is better for considering the number of false positives."
   ]
  },
  {
   "cell_type": "code",
   "execution_count": 39,
   "metadata": {},
   "outputs": [],
   "source": [
    "from sklearn.ensemble import RandomForestClassifier\n",
    "\n",
    "try:\n",
    "    # Check for pickled model\n",
    "    forest_clf = pickle.load(open('pickles/forest_clf.pkl', 'rb'))\n",
    "except FileNotFoundError:\n",
    "    # Create and pickle the model if the file does not exist\n",
    "    forest_clf = RandomForestClassifier(random_state=47)\n",
    "    pickle.dump(forest_clf, open('pickles/forest_clf.pkl', 'wb'))"
   ]
  },
  {
   "cell_type": "code",
   "execution_count": 40,
   "metadata": {},
   "outputs": [],
   "source": [
    "try:\n",
    "    # Check for pickled predictions\n",
    "    y_probas_forest = pickle.load(open('pickles/y_probas_forest.pkl', 'rb'))\n",
    "except FileNotFoundError:\n",
    "    # RandomForestClassifier doesn't have decision_function, but predict_proba returns probabilities\n",
    "    y_probas_forest = cross_val_predict(forest_clf, X_train, y_train_5, cv=3, method='predict_proba')\n",
    "    pickle.dump(y_probas_forest, open('pickles/y_probas_forest.pkl', 'wb'))"
   ]
  },
  {
   "cell_type": "code",
   "execution_count": 52,
   "metadata": {},
   "outputs": [
    {
     "data": {
      "image/png": "[encoded data removed]",
      "text/plain": [
       "<Figure size 432x288 with 1 Axes>"
      ]
     },
     "metadata": {
      "needs_background": "light"
     },
     "output_type": "display_data"
    }
   ],
   "source": [
    "y_scores_forest = y_probas_forest[:, 1]\n",
    "fpr_forest, tpr_forest, thresholds_forest = roc_curve(y_train_5, y_scores_forest)\n",
    "\n",
    "plt.plot(fpr, tpr, 'b:', label='SGD')\n",
    "plot_roc_curve(fpr_forest, tpr_forest, 'Random Forest')\n",
    "plt.legend(loc='lower right')\n",
    "plt.show()"
   ]
  },
  {
   "cell_type": "code",
   "execution_count": 45,
   "metadata": {},
   "outputs": [
    {
     "data": {
      "text/plain": [
       "0.9983226319933023"
      ]
     },
     "execution_count": 45,
     "metadata": {},
     "output_type": "execute_result"
    }
   ],
   "source": [
    "roc_auc_score(y_train_5, y_scores_forest)"
   ]
  },
  {
   "cell_type": "code",
   "execution_count": 58,
   "metadata": {},
   "outputs": [
    {
     "data": {
      "image/png": "[encoded data removed]",
      "text/plain": [
       "<Figure size 576x288 with 1 Axes>"
      ]
     },
     "metadata": {
      "needs_background": "light"
     },
     "output_type": "display_data"
    }
   ],
   "source": [
    "precisions_forest, recalls_forest, thresholds_forest_pr = precision_recall_curve(y_train_5, y_scores_forest)\n",
    "\n",
    "def plot_forest_pr_vs_threshold(precisions, recalls, thresholds):\n",
    "    plt.plot(thresholds, precisions[:-1], 'b--', label='Precision')\n",
    "    plt.plot(thresholds, recalls[:-1], 'g-', label='Recall')\n",
    "    plt.legend(loc=\"center right\", fontsize=16)\n",
    "    plt.xlabel(\"Threshold\", fontsize=16)\n",
    "    plt.grid(True)\n",
    "    plt.axis([0, 1, 0, 1])\n",
    "\n",
    "plt.figure(figsize=(8, 4))\n",
    "plot_forest_pr_vs_threshold(precisions_forest, recalls_forest, thresholds_forest_pr)\n",
    "plt.show()"
   ]
  },
  {
   "cell_type": "code",
   "execution_count": 60,
   "metadata": {},
   "outputs": [
    {
     "data": {
      "image/png": "[encoded data removed]",
      "text/plain": [
       "<Figure size 576x288 with 1 Axes>"
      ]
     },
     "metadata": {
      "needs_background": "light"
     },
     "output_type": "display_data"
    }
   ],
   "source": [
    "plt.figure(figsize=(8, 4))\n",
    "plot_precision_vs_recall(precisions_forest, recalls_forest)\n",
    "plt.show()"
   ]
  },
  {
   "cell_type": "code",
   "execution_count": 66,
   "metadata": {},
   "outputs": [
    {
     "name": "stdout",
     "output_type": "stream",
     "text": [
      "Threshold: 0.52\n",
      "Precision: 0.9910941475826972\n",
      "Recall: 0.862202545655783\n"
     ]
    }
   ],
   "source": [
    "print_resulting_metrics(thresholds_forest_pr, precisions_forest, 0.99, scores=y_scores_forest)"
   ]
  },
  {
   "cell_type": "markdown",
   "metadata": {},
   "source": [
    "## 5 Second Model: Multiclass Classification"
   ]
  },
  {
   "cell_type": "markdown",
   "metadata": {},
   "source": [
    "Some multiclass classification strategies:\n",
    "- **One versus the rest (OvR)**: Train a binary classifier for each class (total N classifiers), get a score for each instance from each classifier, use the highest score to make a decision.\n",
    "- **One versus one (OvO)**: Train a binary classifier for each *pair* of classes (total N * N - 1 classifiers), predict as above. Useful for splitting training set into smaller groups for faster training with algorithms that scale poorly with training set size (such as SVM)."
   ]
  },
  {
   "cell_type": "code",
   "execution_count": 90,
   "metadata": {},
   "outputs": [
    {
     "data": {
      "text/plain": [
       "array([5], dtype=uint8)"
      ]
     },
     "execution_count": 90,
     "metadata": {},
     "output_type": "execute_result"
    }
   ],
   "source": [
    "# Scikit Learn will automatically select OvR or OvO according to the binary classification algorithm\n",
    "from sklearn.svm import SVC\n",
    "\n",
    "try:\n",
    "    svm_clf = pickle.load(open('pickles/svm_clf.pkl', 'rb'))\n",
    "except FileNotFoundError:\n",
    "    svm_clf = SVC()\n",
    "    # Train with the full training set, uses OvO for the SVM algorithm\n",
    "    svm_clf.fit(X_train, y_train)\n",
    "    pickle.dump(svm_clf, open('pickles/svm_clf.pkl', 'wb'))\n",
    "    \n",
    "svm_clf.predict([X[0]]) # 5"
   ]
  },
  {
   "cell_type": "code",
   "execution_count": 71,
   "metadata": {},
   "outputs": [
    {
     "data": {
      "text/plain": [
       "array([[ 1.72501977,  2.72809088,  7.2510018 ,  8.3076379 , -0.31087254,\n",
       "         9.3132482 ,  1.70975103,  2.76765202,  6.23049537,  4.84771048]])"
      ]
     },
     "execution_count": 71,
     "metadata": {},
     "output_type": "execute_result"
    }
   ],
   "source": [
    "digit_scores = svm_clf.decision_function([X[0]])\n",
    "digit_scores"
   ]
  },
  {
   "cell_type": "code",
   "execution_count": 72,
   "metadata": {},
   "outputs": [
    {
     "data": {
      "text/plain": [
       "5"
      ]
     },
     "execution_count": 72,
     "metadata": {},
     "output_type": "execute_result"
    }
   ],
   "source": [
    "# Check the index of the highest score\n",
    "np.argmax(digit_scores)"
   ]
  },
  {
   "cell_type": "code",
   "execution_count": 73,
   "metadata": {},
   "outputs": [
    {
     "data": {
      "text/plain": [
       "5"
      ]
     },
     "execution_count": 73,
     "metadata": {},
     "output_type": "execute_result"
    }
   ],
   "source": [
    "# Check the class at the highest score\n",
    "svm_clf.classes_[np.argmax(digit_scores)]"
   ]
  },
  {
   "cell_type": "code",
   "execution_count": 74,
   "metadata": {},
   "outputs": [],
   "source": [
    "# You can force a strategy by wrapping the classifier in a OneVsOneClassifier or a OneVsRestClassifier\n",
    "from sklearn.multiclass import OneVsRestClassifier\n",
    "\n",
    "try:\n",
    "    ovr_clf = pickle.load(open('pickles/ovr_clf.pkl', 'rb'))\n",
    "except FileNotFoundError:\n",
    "    ovr_clf = OneVsRestClassifier(SVC())\n",
    "    # Train with the full training set, uses OvR\n",
    "    ovr_clf.fit(X_train, y_train)\n",
    "    pickle.dump(ovr_clf, open('pickles/ovr_clf.pkl', 'wb'))\n",
    "\n",
    "ovr_clf.predict([X[0]]) # 5"
   ]
  },
  {
   "cell_type": "code",
   "execution_count": 78,
   "metadata": {},
   "outputs": [
    {
     "data": {
      "text/plain": [
       "10"
      ]
     },
     "execution_count": 78,
     "metadata": {},
     "output_type": "execute_result"
    }
   ],
   "source": [
    "len(ovr_clf.estimators_)"
   ]
  },
  {
   "cell_type": "code",
   "execution_count": 79,
   "metadata": {},
   "outputs": [
    {
     "data": {
      "text/plain": [
       "array([5], dtype=uint8)"
      ]
     },
     "execution_count": 79,
     "metadata": {},
     "output_type": "execute_result"
    }
   ],
   "source": [
    "# SGD and Random Forest classifiers can directly classify instances into multiple classes\n",
    "sgd_clf.fit(X_train, y_train)\n",
    "pickle.dump(sgd_clf, open('pickles/sgd_clf.pkl', 'wb'))\n",
    "\n",
    "sgd_clf.predict([X[0]]) # 5"
   ]
  },
  {
   "cell_type": "code",
   "execution_count": 80,
   "metadata": {},
   "outputs": [
    {
     "data": {
      "text/plain": [
       "array([[-23592.02189761, -32735.56718728,  -8380.60884311,\n",
       "           937.72111519, -29838.45551128,   7209.67394061,\n",
       "        -20857.0863882 , -15358.53716793,  -8264.22025439,\n",
       "        -11883.02600923]])"
      ]
     },
     "execution_count": 80,
     "metadata": {},
     "output_type": "execute_result"
    }
   ],
   "source": [
    "# Check the score of each class\n",
    "sgd_clf.decision_function([X[0]])"
   ]
  },
  {
   "cell_type": "code",
   "execution_count": 81,
   "metadata": {},
   "outputs": [
    {
     "data": {
      "text/plain": [
       "array([0.88335, 0.8642 , 0.8838 ])"
      ]
     },
     "execution_count": 81,
     "metadata": {},
     "output_type": "execute_result"
    }
   ],
   "source": [
    "# Cross-validate the classifier\n",
    "try:\n",
    "    sgd_clf_scores = pickle.load(open('pickles/sgd_clf_scores.pkl', 'rb'))\n",
    "except FileNotFoundError:\n",
    "    sgd_clf_scores = cross_val_score(sgd_clf, X_train, y_train, cv=3, scoring='accuracy')\n",
    "    pickle.dump(sgd_clf_scores, open('pickles/sgd_clf_scores.pkl', 'wb'))\n",
    "\n",
    "sgd_clf_scores"
   ]
  },
  {
   "cell_type": "code",
   "execution_count": 82,
   "metadata": {},
   "outputs": [
    {
     "data": {
      "text/plain": [
       "array([0.90165, 0.89425, 0.9073 ])"
      ]
     },
     "execution_count": 82,
     "metadata": {},
     "output_type": "execute_result"
    }
   ],
   "source": [
    "# Scale the inputs to improve the accuracy\n",
    "from sklearn.preprocessing import StandardScaler\n",
    "\n",
    "# Transform the training data\n",
    "try:\n",
    "    X_train_scaled = pickle.load(open('pickles/X_train_scaled.pkl', 'rb'))\n",
    "except FileNotFoundError:\n",
    "    scaler = StandardScaler()\n",
    "    X_train_scaled = scaler.fit_transform(X_train.astype(np.float64))\n",
    "    pickle.dump(X_train_scaled, open('pickles/X_train_scaled.pkl', 'wb'))\n",
    "\n",
    "# Cross-validate once more\n",
    "try:\n",
    "    sgd_clf_scores_scaled = pickle.load(open('pickles/sgd_clf_scores_scaled.pkl', 'rb'))\n",
    "except FileNotFoundError:\n",
    "    sgd_clf_scores_scaled = cross_val_score(sgd_clf, X_train_scaled, y_train, cv=3, scoring='accuracy')\n",
    "    pickle.dump(sgd_clf_scores_scaled, open('pickles/sgd_clf_scores_scaled.pkl', 'wb'))\n",
    "\n",
    "sgd_clf_scores_scaled"
   ]
  },
  {
   "cell_type": "markdown",
   "metadata": {},
   "source": [
    "## 6 Error Analysis"
   ]
  },
  {
   "cell_type": "code",
   "execution_count": 91,
   "metadata": {},
   "outputs": [
    {
     "data": {
      "text/plain": [
       "array([[5596,    0,   24,    5,    9,   52,   36,    6,  194,    1],\n",
       "       [   0, 6408,   38,   25,    4,   46,    4,    8,  194,   15],\n",
       "       [  28,   27, 5250,   94,   72,   28,   69,   41,  339,   10],\n",
       "       [  24,   17,  118, 5250,    2,  219,   27,   40,  361,   73],\n",
       "       [  12,   15,   50,   12, 5208,   13,   39,   25,  295,  173],\n",
       "       [  28,   16,   32,  170,   55, 4494,   78,   17,  466,   65],\n",
       "       [  29,   15,   46,    2,   42,  100, 5564,    5,  114,    1],\n",
       "       [  20,   10,   52,   31,   49,   13,    3, 5716,  157,  214],\n",
       "       [  20,   66,   46,   88,    3,  127,   28,   11, 5415,   47],\n",
       "       [  23,   19,   30,   66,  117,   41,    1,  179,  310, 5163]],\n",
       "      dtype=int64)"
      ]
     },
     "execution_count": 91,
     "metadata": {},
     "output_type": "execute_result"
    }
   ],
   "source": [
    "# Make predictions using the multiclass classifier\n",
    "try:\n",
    "    y_train_pred_mc = pickle.load(open('pickles/y_train_pred_mc.pkl', 'rb'))\n",
    "except FileNotFoundError:\n",
    "    y_train_pred_mc = cross_val_predict(sgd_clf, X_train_scaled, y_train, cv=3)\n",
    "    pickle.dump(y_train_pred_mc, open('pickles/y_train_pred_mc.pkl', 'wb'))\n",
    "\n",
    "# Generate a confusion matrix\n",
    "conf_mx = confusion_matrix(y_train, y_train_pred_mc)\n",
    "conf_mx"
   ]
  },
  {
   "cell_type": "code",
   "execution_count": 92,
   "metadata": {},
   "outputs": [
    {
     "data": {
      "image/png": "[encoded data removed]",
      "text/plain": [
       "<Figure size 288x288 with 1 Axes>"
      ]
     },
     "metadata": {
      "needs_background": "light"
     },
     "output_type": "display_data"
    }
   ],
   "source": [
    "# Visualize the matrix\n",
    "plt.matshow(conf_mx, cmap=plt.cm.gray)\n",
    "plt.show()"
   ]
  },
  {
   "cell_type": "markdown",
   "metadata": {},
   "source": [
    "**Reminder**: Values along the main diagonal indicate correct classification."
   ]
  },
  {
   "cell_type": "code",
   "execution_count": 93,
   "metadata": {},
   "outputs": [],
   "source": [
    "# Normalize the matrix to get error rates rather than number of errors\n",
    "row_sums = conf_mx.sum(axis=1, keepdims=True)\n",
    "norm_conf_mx = conf_mx / row_sums"
   ]
  },
  {
   "cell_type": "code",
   "execution_count": 94,
   "metadata": {},
   "outputs": [
    {
     "data": {
      "image/png": "[encoded data removed]",
      "text/plain": [
       "<Figure size 288x288 with 1 Axes>"
      ]
     },
     "metadata": {
      "needs_background": "light"
     },
     "output_type": "display_data"
    }
   ],
   "source": [
    "# Fill diagonal with zeros so only errors remain\n",
    "np.fill_diagonal(norm_conf_mx, 0)\n",
    "plt.matshow(norm_conf_mx, cmap=plt.cm.gray)\n",
    "plt.show()"
   ]
  },
  {
   "cell_type": "markdown",
   "metadata": {},
   "source": [
    "Some observations:\n",
    "- Many images are misclassified as 8s, but 8s are typically classified correctly.\n",
    "- 3s and 5s tend to be misclassified as each other."
   ]
  },
  {
   "cell_type": "code",
   "execution_count": 88,
   "metadata": {},
   "outputs": [],
   "source": [
    "# Helper function from the book\n",
    "def plot_digits(instances, images_per_row=10, **options):\n",
    "    size = 28\n",
    "    images_per_row = min(len(instances), images_per_row)\n",
    "    images = [instance.reshape(size,size) for instance in instances]\n",
    "    n_rows = (len(instances) - 1) // images_per_row + 1\n",
    "    row_images = []\n",
    "    n_empty = n_rows * images_per_row - len(instances)\n",
    "    images.append(np.zeros((size, size * n_empty)))\n",
    "    for row in range(n_rows):\n",
    "        rimages = images[row * images_per_row : (row + 1) * images_per_row]\n",
    "        row_images.append(np.concatenate(rimages, axis=1))\n",
    "    image = np.concatenate(row_images, axis=0)\n",
    "    plt.imshow(image, cmap = mpl.cm.binary, **options)\n",
    "    plt.axis(\"off\")"
   ]
  },
  {
   "cell_type": "code",
   "execution_count": 95,
   "metadata": {},
   "outputs": [
    {
     "data": {
      "image/png": "[encoded data removed]",
      "text/plain": [
       "<Figure size 576x576 with 4 Axes>"
      ]
     },
     "metadata": {
      "needs_background": "light"
     },
     "output_type": "display_data"
    }
   ],
   "source": [
    "# Visualize some of the 3s and 5s to get an idea why they may be confused\n",
    "cl_a, cl_b = 3, 5\n",
    "\n",
    "# Correctly classified 3s\n",
    "X_aa = X_train[(y_train == cl_a) & (y_train_pred_mc == cl_a)]\n",
    "\n",
    "# Misclassified 3s\n",
    "X_ab = X_train[(y_train == cl_a) & (y_train_pred_mc == cl_b)]\n",
    "\n",
    "# Misclassified 5s\n",
    "X_ba = X_train[(y_train == cl_b) & (y_train_pred_mc == cl_a)]\n",
    "\n",
    "# Correctly classified 5s\n",
    "X_bb = X_train[(y_train == cl_b) & (y_train_pred_mc == cl_b)]\n",
    "\n",
    "plt.figure(figsize=(8,8))\n",
    "plt.subplot(221); plot_digits(X_aa[:25], images_per_row=5)\n",
    "plt.subplot(222); plot_digits(X_ab[:25], images_per_row=5)\n",
    "plt.subplot(223); plot_digits(X_ba[:25], images_per_row=5)\n",
    "plt.subplot(224); plot_digits(X_bb[:25], images_per_row=5)\n",
    "plt.show()"
   ]
  },
  {
   "cell_type": "markdown",
   "metadata": {},
   "source": [
    "## 7 Additional Topics"
   ]
  },
  {
   "cell_type": "markdown",
   "metadata": {},
   "source": [
    "### 7.1 Multilabel Classification"
   ]
  },
  {
   "cell_type": "markdown",
   "metadata": {},
   "source": [
    "Multilabel classification systems are designed to output multiple binary tags indicating a positive or negative classification for their respective classes. Example: [0,1,1] for a negative A and positive B and C."
   ]
  },
  {
   "cell_type": "code",
   "execution_count": 98,
   "metadata": {},
   "outputs": [
    {
     "data": {
      "text/plain": [
       "array([[False,  True]])"
      ]
     },
     "execution_count": 98,
     "metadata": {},
     "output_type": "execute_result"
    }
   ],
   "source": [
    "from sklearn.neighbors import KNeighborsClassifier\n",
    "\n",
    "# Training set for values that are 7, 8, or 9\n",
    "y_train_large = (y_train >= 7)\n",
    "\n",
    "# Training set for odd values\n",
    "y_train_odd = (y_train %2 == 1)\n",
    "y_multilabel = np.c_[y_train_large, y_train_odd]\n",
    "\n",
    "try:\n",
    "    knn_clf = pickle.load(open('pickles/knn_clf.pkl', 'rb'))\n",
    "except FileNotFoundError:\n",
    "    knn_clf = KNeighborsClassifier()\n",
    "    knn_clf.fit(X_train, y_multilabel)\n",
    "    pickle.dump(knn_clf, open('pickles/knn_clf.pkl', 'wb'))\n",
    "\n",
    "knn_clf.predict([X[0]]) # Should be [False, True] because 5 is not >= 7 and it is odd"
   ]
  },
  {
   "cell_type": "markdown",
   "metadata": {},
   "source": [
    "One evaluation strategy for multilabel classifiers is to determine the F<sub>1</sub> score (or another binary classifier metric) for each label and average them."
   ]
  },
  {
   "cell_type": "code",
   "execution_count": 99,
   "metadata": {},
   "outputs": [
    {
     "data": {
      "text/plain": [
       "0.976410265560605"
      ]
     },
     "execution_count": 99,
     "metadata": {},
     "output_type": "execute_result"
    }
   ],
   "source": [
    "# Calculate the multilabel predictions and determine the F1 score\n",
    "try:\n",
    "    y_train_knn_pred = pickle.load(open('pickles/y_train_knn_pred.pkl', 'rb'))\n",
    "except FileNotFoundError:\n",
    "    y_train_knn_pred = cross_val_predict(knn_clf, X_train, y_multilabel, cv=3)\n",
    "    pickle.dump(y_train_knn_pred, open('pickles/y_train_knn_pred.pkl', 'wb'))\n",
    "\n",
    "f1_score(y_multilabel, y_train_knn_pred, average='macro')"
   ]
  },
  {
   "cell_type": "code",
   "execution_count": 100,
   "metadata": {},
   "outputs": [
    {
     "data": {
      "text/plain": [
       "0.9778357403921755"
      ]
     },
     "execution_count": 100,
     "metadata": {},
     "output_type": "execute_result"
    }
   ],
   "source": [
    "# Use 'weighted' average to apply weights proportional to the instances in each label\n",
    "f1_score(y_multilabel, y_train_knn_pred, average='weighted')"
   ]
  },
  {
   "cell_type": "markdown",
   "metadata": {},
   "source": [
    "### 7.2 Multioutput Classification"
   ]
  },
  {
   "cell_type": "markdown",
   "metadata": {},
   "source": [
    "Multioutput classification is a generalization of multiclass classification where each label can have more than two possible values."
   ]
  },
  {
   "cell_type": "code",
   "execution_count": 102,
   "metadata": {},
   "outputs": [],
   "source": [
    "# Function to generate random noise in the shape of our images \n",
    "def make_noise(data):\n",
    "    return np.random.randint(0, 100, (len(data), 784))\n",
    "\n",
    "# Add noise to MNIST images\n",
    "X_train_mod = X_train + make_noise(X_train)\n",
    "X_test_mod = X_test + make_noise(X_test)\n",
    "y_train_mod = X_train\n",
    "y_test_mod = X_test"
   ]
  },
  {
   "cell_type": "code",
   "execution_count": 103,
   "metadata": {},
   "outputs": [
    {
     "data": {
      "image/png": "[encoded data removed]",
      "text/plain": [
       "<Figure size 432x288 with 1 Axes>"
      ]
     },
     "metadata": {
      "needs_background": "light"
     },
     "output_type": "display_data"
    }
   ],
   "source": [
    "print_digit(X_test_mod[0])"
   ]
  },
  {
   "cell_type": "code",
   "execution_count": 104,
   "metadata": {},
   "outputs": [
    {
     "data": {
      "image/png": "[encoded data removed]",
      "text/plain": [
       "<Figure size 432x288 with 1 Axes>"
      ]
     },
     "metadata": {
      "needs_background": "light"
     },
     "output_type": "display_data"
    }
   ],
   "source": [
    "# Train the KNN classifier to clean the data\n",
    "try:\n",
    "    knn_clf_cleaner = pickle.load(open('pickles/knn_clf_cleaner.pkl', 'rb'))\n",
    "except FileNotFoundError:\n",
    "    knn_clf_cleaner = KNeighborsClassifier()\n",
    "    knn_clf_cleaner.fit(X_train_mod, y_train_mod)\n",
    "    pickle.dump(knn_clf_cleaner, open('pickles/knn_clf_cleaner.pkl', 'wb'))\n",
    "\n",
    "clean_digit = knn_clf_cleaner.predict([X_test_mod[0]])\n",
    "print_digit(clean_digit)"
   ]
  }
 ],
 "metadata": {
  "kernelspec": {
   "display_name": "Python 3",
   "language": "python",
   "name": "python3"
  },
  "language_info": {
   "codemirror_mode": {
    "name": "ipython",
    "version": 3
   },
   "file_extension": ".py",
   "mimetype": "text/x-python",
   "name": "python",
   "nbconvert_exporter": "python",
   "pygments_lexer": "ipython3",
   "version": "3.7.6"
  }
 },
 "nbformat": 4,
 "nbformat_minor": 2
}
