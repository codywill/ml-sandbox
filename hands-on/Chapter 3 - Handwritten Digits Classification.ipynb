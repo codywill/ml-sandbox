{
 "cells": [
  {
   "cell_type": "markdown",
   "metadata": {},
   "source": [
    "# Handwritten Digits Classification\n",
    "This project explores classification learning using the MNIST dataset."
   ]
  },
  {
   "cell_type": "code",
   "execution_count": 1,
   "metadata": {
    "ExecuteTime": {
     "end_time": "2020-01-12T06:37:44.692055Z",
     "start_time": "2020-01-12T06:37:41.479301Z"
    }
   },
   "outputs": [],
   "source": [
    "import os\n",
    "import pickle\n",
    "import numpy as np\n",
    "import pandas as pd\n",
    "import matplotlib as mpl\n",
    "import matplotlib.pyplot as plt"
   ]
  },
  {
   "cell_type": "markdown",
   "metadata": {},
   "source": [
    "## 1 Loading Data"
   ]
  },
  {
   "cell_type": "code",
   "execution_count": 2,
   "metadata": {
    "ExecuteTime": {
     "end_time": "2020-01-12T06:38:22.008064Z",
     "start_time": "2020-01-12T06:37:44.695050Z"
    }
   },
   "outputs": [],
   "source": [
    "from sklearn.datasets import fetch_openml\n",
    "\n",
    "# Fetch MNIST dataset using sklearn\n",
    "X, y = fetch_openml('mnist_784', version=1, return_X_y=True)"
   ]
  },
  {
   "cell_type": "markdown",
   "metadata": {},
   "source": [
    "## 2 Analysis"
   ]
  },
  {
   "cell_type": "code",
   "execution_count": 3,
   "metadata": {
    "ExecuteTime": {
     "end_time": "2020-01-12T06:38:22.017012Z",
     "start_time": "2020-01-12T06:38:22.011027Z"
    }
   },
   "outputs": [],
   "source": [
    "def print_digit(digit):\n",
    "    # Sample a digit, reshaping the 1x784 array to 28x28\n",
    "    digit_image = digit.reshape(28, 28)\n",
    "\n",
    "    # Plot the thing\n",
    "    plt.imshow(digit_image, cmap='binary')\n",
    "    plt.axis('off')\n",
    "    plt.show()"
   ]
  },
  {
   "cell_type": "code",
   "execution_count": 4,
   "metadata": {
    "ExecuteTime": {
     "end_time": "2020-01-12T06:38:22.040951Z",
     "start_time": "2020-01-12T06:38:22.020035Z"
    }
   },
   "outputs": [],
   "source": [
    "# Convert y from string type to numeric\n",
    "y = y.astype(np.uint8)\n",
    "\n",
    "# Separate test and training sets\n",
    "X_train, X_test, y_train, y_test = X[:60000], X[60000:], y[:60000], y[60000:]"
   ]
  },
  {
   "cell_type": "code",
   "execution_count": 5,
   "metadata": {
    "ExecuteTime": {
     "end_time": "2020-01-12T06:38:22.052919Z",
     "start_time": "2020-01-12T06:38:22.044938Z"
    }
   },
   "outputs": [
    {
     "data": {
      "text/plain": [
       "(70000, 784)"
      ]
     },
     "execution_count": 5,
     "metadata": {},
     "output_type": "execute_result"
    }
   ],
   "source": [
    "X.shape"
   ]
  },
  {
   "cell_type": "code",
   "execution_count": 6,
   "metadata": {
    "ExecuteTime": {
     "end_time": "2020-01-12T06:38:22.067877Z",
     "start_time": "2020-01-12T06:38:22.058900Z"
    }
   },
   "outputs": [
    {
     "data": {
      "text/plain": [
       "(70000,)"
      ]
     },
     "execution_count": 6,
     "metadata": {},
     "output_type": "execute_result"
    }
   ],
   "source": [
    "y.shape"
   ]
  },
  {
   "cell_type": "code",
   "execution_count": 7,
   "metadata": {
    "ExecuteTime": {
     "end_time": "2020-01-12T06:38:22.220470Z",
     "start_time": "2020-01-12T06:38:22.071866Z"
    }
   },
   "outputs": [
    {
     "data": {
      "image/png": "[encoded data removed]",
      "text/plain": [
       "<Figure size 432x288 with 1 Axes>"
      ]
     },
     "metadata": {
      "needs_background": "light"
     },
     "output_type": "display_data"
    }
   ],
   "source": [
    "print_digit(X[0])"
   ]
  },
  {
   "cell_type": "code",
   "execution_count": 8,
   "metadata": {
    "ExecuteTime": {
     "end_time": "2020-01-12T06:38:22.231473Z",
     "start_time": "2020-01-12T06:38:22.224469Z"
    }
   },
   "outputs": [
    {
     "data": {
      "text/plain": [
       "5"
      ]
     },
     "execution_count": 8,
     "metadata": {},
     "output_type": "execute_result"
    }
   ],
   "source": [
    "y[0]"
   ]
  },
  {
   "cell_type": "code",
   "execution_count": 9,
   "metadata": {
    "ExecuteTime": {
     "end_time": "2020-01-12T06:38:22.239446Z",
     "start_time": "2020-01-12T06:38:22.234434Z"
    }
   },
   "outputs": [],
   "source": [
    "# Target vectors for each set for value == 5\n",
    "y_train_5 = (y_train == 5)\n",
    "y_test_5 = (y_test == 5)"
   ]
  },
  {
   "cell_type": "markdown",
   "metadata": {},
   "source": [
    "## 3 Modeling"
   ]
  },
  {
   "cell_type": "code",
   "execution_count": 10,
   "metadata": {
    "ExecuteTime": {
     "end_time": "2020-01-12T06:38:22.248395Z",
     "start_time": "2020-01-12T06:38:22.242411Z"
    }
   },
   "outputs": [],
   "source": [
    "# Create pickles directory\n",
    "os.makedirs(os.path.join(os.path.abspath('.'), 'pickles'), exist_ok=True)"
   ]
  },
  {
   "cell_type": "code",
   "execution_count": 11,
   "metadata": {
    "ExecuteTime": {
     "end_time": "2020-01-12T06:38:22.542733Z",
     "start_time": "2020-01-12T06:38:22.252384Z"
    }
   },
   "outputs": [],
   "source": [
    "# Stochastic Gradient Descent model for binary '5' classifier\n",
    "from sklearn.linear_model import SGDClassifier\n",
    "\n",
    "try:\n",
    "    # Check for pickled model\n",
    "    sgd_clf = pickle.load(open('pickles/sgd_clf.pkl', 'rb'))\n",
    "except FileNotFoundError:\n",
    "    # Create, train, and pickle the model if it does not exist\n",
    "    sgd_clf = SGDClassifier(random_state=47)\n",
    "    sgd_clf.fit(X_train, y_train_5)\n",
    "    pickle.dump(sgd_clf, open('pickles/sgd_clf.pkl', 'wb'))"
   ]
  },
  {
   "cell_type": "code",
   "execution_count": 12,
   "metadata": {
    "ExecuteTime": {
     "end_time": "2020-01-12T06:38:22.549749Z",
     "start_time": "2020-01-12T06:38:22.544733Z"
    }
   },
   "outputs": [
    {
     "data": {
      "text/plain": [
       "array([ True])"
      ]
     },
     "execution_count": 12,
     "metadata": {},
     "output_type": "execute_result"
    }
   ],
   "source": [
    "# 5 from above\n",
    "sgd_clf.predict([X[0]])"
   ]
  },
  {
   "cell_type": "code",
   "execution_count": 13,
   "metadata": {
    "ExecuteTime": {
     "end_time": "2020-01-12T06:38:22.627513Z",
     "start_time": "2020-01-12T06:38:22.551720Z"
    }
   },
   "outputs": [
    {
     "data": {
      "image/png": "[encoded data removed]",
      "text/plain": [
       "<Figure size 432x288 with 1 Axes>"
      ]
     },
     "metadata": {
      "needs_background": "light"
     },
     "output_type": "display_data"
    }
   ],
   "source": [
    "print_digit(X[25])"
   ]
  },
  {
   "cell_type": "code",
   "execution_count": 14,
   "metadata": {
    "ExecuteTime": {
     "end_time": "2020-01-12T06:38:22.636489Z",
     "start_time": "2020-01-12T06:38:22.629534Z"
    }
   },
   "outputs": [
    {
     "data": {
      "text/plain": [
       "array([False])"
      ]
     },
     "execution_count": 14,
     "metadata": {},
     "output_type": "execute_result"
    }
   ],
   "source": [
    "sgd_clf.predict([X[25]])"
   ]
  },
  {
   "cell_type": "markdown",
   "metadata": {
    "ExecuteTime": {
     "end_time": "2020-01-11T04:48:30.525270Z",
     "start_time": "2020-01-11T04:48:30.451467Z"
    }
   },
   "source": [
    "## 4 Evaluation"
   ]
  },
  {
   "cell_type": "markdown",
   "metadata": {},
   "source": [
    "### 4.1 Cross-Validation"
   ]
  },
  {
   "cell_type": "code",
   "execution_count": 15,
   "metadata": {
    "ExecuteTime": {
     "end_time": "2020-01-12T06:38:22.648483Z",
     "start_time": "2020-01-12T06:38:22.638481Z"
    }
   },
   "outputs": [
    {
     "data": {
      "text/plain": [
       "array([0.9644 , 0.96595, 0.952  ])"
      ]
     },
     "execution_count": 15,
     "metadata": {},
     "output_type": "execute_result"
    }
   ],
   "source": [
    "from sklearn.model_selection import cross_val_score\n",
    "\n",
    "try:\n",
    "    # Check for pickled cross validation scores\n",
    "    sgd_cross_val_score = pickle.load(open('pickles/sgd_cross_val_score.pkl', 'rb'))\n",
    "except FileNotFoundError:\n",
    "    # Create and pickle the scores if the file does not exist\n",
    "    sgd_cross_val_score = cross_val_score(sgd_clf, X_train, y_train_5, cv=3, scoring='accuracy')\n",
    "    pickle.dump(sgd_cross_val_score, open('pickles/sgd_cross_val_score.pkl', 'wb'))\n",
    "\n",
    "sgd_cross_val_score"
   ]
  },
  {
   "cell_type": "code",
   "execution_count": 16,
   "metadata": {
    "ExecuteTime": {
     "end_time": "2020-01-12T06:38:22.657430Z",
     "start_time": "2020-01-12T06:38:22.651447Z"
    }
   },
   "outputs": [],
   "source": [
    "# Very basic classifier for comparison\n",
    "from sklearn.base import BaseEstimator\n",
    "\n",
    "class Never5Classifier(BaseEstimator):\n",
    "    def fit(self, X, y=None):\n",
    "        pass\n",
    "    def predict(self, X):\n",
    "        return np.zeros((len(X), 1), dtype=bool)"
   ]
  },
  {
   "cell_type": "code",
   "execution_count": 17,
   "metadata": {
    "ExecuteTime": {
     "end_time": "2020-01-12T06:38:23.710758Z",
     "start_time": "2020-01-12T06:38:22.661421Z"
    }
   },
   "outputs": [
    {
     "data": {
      "text/plain": [
       "array([0.91125, 0.90855, 0.90915])"
      ]
     },
     "execution_count": 17,
     "metadata": {},
     "output_type": "execute_result"
    }
   ],
   "source": [
    "never_5_clf = Never5Classifier()\n",
    "cross_val_score(never_5_clf, X_train, y_train_5, cv=3, scoring='accuracy')"
   ]
  },
  {
   "cell_type": "markdown",
   "metadata": {},
   "source": [
    "Only ~10% of the dataset is 5, so even if this model guessed 'not 5' every time it would still be ~90% accurate. This demonstrates that accuracy is not a great performance metric for classifiers."
   ]
  },
  {
   "cell_type": "markdown",
   "metadata": {},
   "source": [
    "### 4.2 Confusion Matrix"
   ]
  },
  {
   "cell_type": "markdown",
   "metadata": {},
   "source": [
    "Record of the number of times class A is classified as class B."
   ]
  },
  {
   "cell_type": "code",
   "execution_count": 18,
   "metadata": {
    "ExecuteTime": {
     "end_time": "2020-01-12T06:38:23.736682Z",
     "start_time": "2020-01-12T06:38:23.714743Z"
    }
   },
   "outputs": [
    {
     "data": {
      "text/html": [
       "<div>\n",
       "<style scoped>\n",
       "    .dataframe tbody tr th:only-of-type {\n",
       "        vertical-align: middle;\n",
       "    }\n",
       "\n",
       "    .dataframe tbody tr th {\n",
       "        vertical-align: top;\n",
       "    }\n",
       "\n",
       "    .dataframe thead th {\n",
       "        text-align: right;\n",
       "    }\n",
       "</style>\n",
       "<table border=\"1\" class=\"dataframe\">\n",
       "  <thead>\n",
       "    <tr style=\"text-align: right;\">\n",
       "      <th></th>\n",
       "      <th>not-5</th>\n",
       "      <th>5</th>\n",
       "    </tr>\n",
       "  </thead>\n",
       "  <tbody>\n",
       "    <tr>\n",
       "      <th>not-5</th>\n",
       "      <td>8</td>\n",
       "      <td>2</td>\n",
       "    </tr>\n",
       "    <tr>\n",
       "      <th>5</th>\n",
       "      <td>0</td>\n",
       "      <td>0</td>\n",
       "    </tr>\n",
       "  </tbody>\n",
       "</table>\n",
       "</div>"
      ],
      "text/plain": [
       "       not-5  5\n",
       "not-5      8  2\n",
       "5          0  0"
      ]
     },
     "execution_count": 18,
     "metadata": {},
     "output_type": "execute_result"
    }
   ],
   "source": [
    "# Visualization: Two of ten 'not-5' are classified as '5'\n",
    "pd.DataFrame(np.array([[8,2],[0,0]]), columns=['not-5','5'], index=['not-5','5'])"
   ]
  },
  {
   "cell_type": "code",
   "execution_count": 19,
   "metadata": {
    "ExecuteTime": {
     "end_time": "2020-01-12T06:38:23.756629Z",
     "start_time": "2020-01-12T06:38:23.741679Z"
    }
   },
   "outputs": [],
   "source": [
    "# Generate some predictions from the y_train_5 set\n",
    "from sklearn.model_selection import cross_val_predict\n",
    "\n",
    "try:\n",
    "    # Check for pickled predictions\n",
    "    y_train_pred = pickle.load(open('pickles/y_train_pred.pkl', 'rb'))\n",
    "except FileNotFoundError:\n",
    "    # Create and pickle the predictions if the file does not exist\n",
    "    y_train_pred = cross_val_predict(sgd_clf, X_train, y_train_5, cv=3)\n",
    "    pickle.dump(y_train_pred, open('pickles/y_train_pred.pkl', 'wb'))"
   ]
  },
  {
   "cell_type": "code",
   "execution_count": 20,
   "metadata": {
    "ExecuteTime": {
     "end_time": "2020-01-12T06:38:23.817353Z",
     "start_time": "2020-01-12T06:38:23.761617Z"
    }
   },
   "outputs": [
    {
     "data": {
      "text/plain": [
       "array([[53852,   727],\n",
       "       [ 1626,  3795]], dtype=int64)"
      ]
     },
     "execution_count": 20,
     "metadata": {},
     "output_type": "execute_result"
    }
   ],
   "source": [
    "# Generate a confusion matrix using the predictions\n",
    "from sklearn.metrics import confusion_matrix\n",
    "confusion_matrix(y_train_5, y_train_pred)"
   ]
  },
  {
   "cell_type": "markdown",
   "metadata": {},
   "source": [
    "A perfect classifier would contain non-zero values only along the identity matrix."
   ]
  },
  {
   "cell_type": "code",
   "execution_count": 21,
   "metadata": {
    "ExecuteTime": {
     "end_time": "2020-01-12T06:38:23.863228Z",
     "start_time": "2020-01-12T06:38:23.819316Z"
    }
   },
   "outputs": [
    {
     "data": {
      "text/plain": [
       "array([[54579,     0],\n",
       "       [    0,  5421]], dtype=int64)"
      ]
     },
     "execution_count": 21,
     "metadata": {},
     "output_type": "execute_result"
    }
   ],
   "source": [
    "# Generate a confusion matrix for a 'perfect' classifier\n",
    "y_train_perfect_predictions = y_train_5\n",
    "confusion_matrix(y_train_5, y_train_perfect_predictions)"
   ]
  },
  {
   "cell_type": "markdown",
   "metadata": {},
   "source": [
    "### 4.3 Precision and Recall"
   ]
  },
  {
   "cell_type": "markdown",
   "metadata": {},
   "source": [
    "*Precision* is the accuracy of the positive predictions.\n",
    "\n",
    "\\begin{equation*}\n",
    "\\text{Precision} = \\frac{\\text{True Positives}}{\\text{True Positives + False Positives}}\n",
    "\\end{equation*}\n",
    "\n",
    "*Recall* is the ratio of correctly detected positive instances.\n",
    "\n",
    "\\begin{equation*}\n",
    "\\text{Recall} = \\frac{\\text{True Positives}}{\\text{True Positives + False Negatives}}\n",
    "\\end{equation*}"
   ]
  },
  {
   "cell_type": "code",
   "execution_count": 22,
   "metadata": {
    "ExecuteTime": {
     "end_time": "2020-01-12T06:42:04.249015Z",
     "start_time": "2020-01-12T06:42:04.222088Z"
    }
   },
   "outputs": [
    {
     "data": {
      "text/plain": [
       "0.8392304290137107"
      ]
     },
     "execution_count": 22,
     "metadata": {},
     "output_type": "execute_result"
    }
   ],
   "source": [
    "from sklearn.metrics import precision_score, recall_score\n",
    "precision_score(y_train_5, y_train_pred)"
   ]
  },
  {
   "cell_type": "markdown",
   "metadata": {},
   "source": [
    "So when the model predicts a 5, it is correct 83.9% of the time."
   ]
  },
  {
   "cell_type": "code",
   "execution_count": 23,
   "metadata": {
    "ExecuteTime": {
     "end_time": "2020-01-12T06:42:17.575669Z",
     "start_time": "2020-01-12T06:42:17.549714Z"
    }
   },
   "outputs": [
    {
     "data": {
      "text/plain": [
       "0.7000553403431101"
      ]
     },
     "execution_count": 23,
     "metadata": {},
     "output_type": "execute_result"
    }
   ],
   "source": [
    "recall_score(y_train_5, y_train_pred)"
   ]
  },
  {
   "cell_type": "markdown",
   "metadata": {},
   "source": [
    "Only 70% of the 5s are detected."
   ]
  },
  {
   "cell_type": "markdown",
   "metadata": {},
   "source": [
    "The F<sub>1</sub> score represents a combination (harmonic mean) of the precision and recall.\n",
    "\n",
    "\\begin{equation*}\n",
    "F_1 \n",
    "= \\frac{2}{\\frac{1}{Precision} + \\frac{1}{Recall}} \n",
    "= \\frac{\\text{True Positives}}{\\text{True Positives} + \\frac{\\text{False Negatives + False Positives}}{2}}\n",
    "\\end{equation*}\n",
    "\n",
    "The F<sub>1</sub> score will only be high if both recall and precision are high."
   ]
  },
  {
   "cell_type": "code",
   "execution_count": 26,
   "metadata": {
    "ExecuteTime": {
     "end_time": "2020-01-12T07:10:08.257531Z",
     "start_time": "2020-01-12T07:10:08.230605Z"
    }
   },
   "outputs": [
    {
     "data": {
      "text/plain": [
       "0.7633511012772803"
      ]
     },
     "execution_count": 26,
     "metadata": {},
     "output_type": "execute_result"
    }
   ],
   "source": [
    "from sklearn.metrics import f1_score\n",
    "f1_score(y_train_5, y_train_pred)"
   ]
  },
  {
   "cell_type": "markdown",
   "metadata": {},
   "source": [
    "### 4.4 Precision/Recall Trade-off"
   ]
  },
  {
   "cell_type": "markdown",
   "metadata": {},
   "source": [
    "Achieving a high precision or recall score usually demands sacrificing one for the other. Depending on the application, an especially high precision score may be worth a poor recall score or vice versa.\n",
    "\n",
    "- A high precision classifier would be more prone to missing true predictions, but would return very few false predictions.\n",
    "- A high recall classifier would include more false predictions, but would be less likely to miss any true predictions."
   ]
  },
  {
   "cell_type": "code",
   "execution_count": 43,
   "metadata": {
    "ExecuteTime": {
     "end_time": "2020-01-12T07:59:48.287702Z",
     "start_time": "2020-01-12T07:59:48.280724Z"
    }
   },
   "outputs": [
    {
     "data": {
      "text/plain": [
       "array([  1909.08072371, -10693.83133216, -14330.61396627,  -6577.95302654,\n",
       "        -8273.37399553])"
      ]
     },
     "execution_count": 43,
     "metadata": {},
     "output_type": "execute_result"
    }
   ],
   "source": [
    "# Decision scores are measured against a threshold to determine positive or negative classification\n",
    "y_scores = sgd_clf.decision_function(X[:5])\n",
    "y_scores"
   ]
  },
  {
   "cell_type": "code",
   "execution_count": 67,
   "metadata": {
    "ExecuteTime": {
     "end_time": "2020-01-12T08:09:18.415111Z",
     "start_time": "2020-01-12T08:09:18.409156Z"
    }
   },
   "outputs": [
    {
     "data": {
      "text/plain": [
       "array([ True, False, False, False, False])"
      ]
     },
     "execution_count": 67,
     "metadata": {},
     "output_type": "execute_result"
    }
   ],
   "source": [
    "# SGDClassifier uses threshold 0\n",
    "y_train_pred[:5]"
   ]
  },
  {
   "cell_type": "markdown",
   "metadata": {},
   "source": [
    "To select an appropriate threshold for the application, it's useful to visualize the trade-off between precision and recall."
   ]
  },
  {
   "cell_type": "code",
   "execution_count": 70,
   "metadata": {
    "ExecuteTime": {
     "end_time": "2020-01-12T08:12:43.439589Z",
     "start_time": "2020-01-12T08:12:43.426625Z"
    }
   },
   "outputs": [],
   "source": [
    "# Cross-validate using decision function to get scores instead of predictions\n",
    "try:\n",
    "    # Check for pickled scores\n",
    "    y_scores = pickle.load(open('pickles/y_scores.pkl', 'rb'))\n",
    "except FileNotFoundError:\n",
    "    # Create and pickle the scores if the file does not exist\n",
    "    y_scores = cross_val_predict(sgd_clf, X_train, y_train_5, cv=3, method='decision_function')\n",
    "    pickle.dump(y_scores, open('pickles/y_scores.pkl', 'wb'))"
   ]
  },
  {
   "cell_type": "code",
   "execution_count": 73,
   "metadata": {
    "ExecuteTime": {
     "end_time": "2020-01-12T08:17:31.932872Z",
     "start_time": "2020-01-12T08:17:31.914892Z"
    }
   },
   "outputs": [],
   "source": [
    "# Create some visualizations for precision, recall, and thresholds\n",
    "from sklearn.metrics import precision_recall_curve\n",
    "precisions, recalls, thresholds = precision_recall_curve(y_train_5, y_scores)"
   ]
  },
  {
   "cell_type": "code",
   "execution_count": 81,
   "metadata": {
    "ExecuteTime": {
     "end_time": "2020-01-12T08:21:35.545299Z",
     "start_time": "2020-01-12T08:21:35.321872Z"
    }
   },
   "outputs": [
    {
     "data": {
      "image/png": "[encoded data removed]",
      "text/plain": [
       "<Figure size 576x288 with 1 Axes>"
      ]
     },
     "metadata": {
      "needs_background": "light"
     },
     "output_type": "display_data"
    }
   ],
   "source": [
    "def plot_precision_recall_vs_threshold(precisions, recalls, thresholds):\n",
    "    plt.plot(thresholds, precisions[:-1], 'b--', label='Precision')\n",
    "    plt.plot(thresholds, recalls[:-1], 'g-', label='Recall')\n",
    "    plt.legend(loc=\"center right\", fontsize=16)\n",
    "    plt.xlabel(\"Threshold\", fontsize=16)\n",
    "    plt.grid(True)\n",
    "    plt.axis([-50000, 50000, 0, 1])\n",
    "\n",
    "plt.figure(figsize=(8, 4))\n",
    "plot_precision_recall_vs_threshold(precisions, recalls, thresholds)\n",
    "plt.show()"
   ]
  },
  {
   "cell_type": "code",
   "execution_count": 83,
   "metadata": {
    "ExecuteTime": {
     "end_time": "2020-01-12T08:24:36.436275Z",
     "start_time": "2020-01-12T08:24:36.242767Z"
    }
   },
   "outputs": [
    {
     "data": {
      "image/png": "[encoded data removed]",
      "text/plain": [
       "<Figure size 576x288 with 1 Axes>"
      ]
     },
     "metadata": {
      "needs_background": "light"
     },
     "output_type": "display_data"
    }
   ],
   "source": [
    "def plot_precision_vs_recall(precisions, recalls):\n",
    "    plt.plot(recalls, precisions, 'b-')\n",
    "    plt.xlabel('Recalls')\n",
    "    plt.ylabel('Precisions')\n",
    "    plt.grid(True)\n",
    "    plt.axis([0, 1, 0, 1])\n",
    "\n",
    "plt.figure(figsize=(8, 4))\n",
    "plot_precision_vs_recall(precisions, recalls)\n",
    "plt.show()"
   ]
  },
  {
   "cell_type": "code",
   "execution_count": 88,
   "metadata": {
    "ExecuteTime": {
     "end_time": "2020-01-12T08:40:11.497437Z",
     "start_time": "2020-01-12T08:40:11.451589Z"
    }
   },
   "outputs": [
    {
     "name": "stdout",
     "output_type": "stream",
     "text": [
      "Threshold: 1952.503877999998\n",
      "Precision: 0.9000273897562312\n",
      "Recall: 0.6061612248662608\n"
     ]
    }
   ],
   "source": [
    "# Helper function to get threshold necessary for target precision\n",
    "def get_threshold_from_precision(thresholds, precisions, target):\n",
    "    return thresholds[np.argmax(precisions >= target)]\n",
    "\n",
    "# Another to print the results\n",
    "def print_resulting_metrics(thresholds, precisions, target):\n",
    "    target_threshold = get_threshold_from_precision(thresholds, precisions, target)\n",
    "    y_train_pred_target = (y_scores >= target_threshold)\n",
    "    print(\n",
    "        f'Threshold: {target_threshold}\\n'\n",
    "        f'Precision: {precision_score(y_train_5, y_train_pred_target)}\\n'\n",
    "        f'Recall: {recall_score(y_train_5, y_train_pred_target)}'\n",
    "    )\n",
    "\n",
    "# Get a threshold for 90% precision and test it against predictions\n",
    "print_resulting_metrics(thresholds, precisions, 0.9)"
   ]
  },
  {
   "cell_type": "code",
   "execution_count": 89,
   "metadata": {
    "ExecuteTime": {
     "end_time": "2020-01-12T08:40:23.912447Z",
     "start_time": "2020-01-12T08:40:23.868597Z"
    }
   },
   "outputs": [
    {
     "name": "stdout",
     "output_type": "stream",
     "text": [
      "Threshold: 5310.608171242331\n",
      "Precision: 0.9501022494887525\n",
      "Recall: 0.4285187234827523\n"
     ]
    }
   ],
   "source": [
    "# Try 95%\n",
    "print_resulting_metrics(thresholds, precisions, 0.95)"
   ]
  },
  {
   "cell_type": "code",
   "execution_count": null,
   "metadata": {},
   "outputs": [],
   "source": []
  }
 ],
 "metadata": {
  "kernelspec": {
   "display_name": "Python 3",
   "language": "python",
   "name": "python3"
  },
  "language_info": {
   "codemirror_mode": {
    "name": "ipython",
    "version": 3
   },
   "file_extension": ".py",
   "mimetype": "text/x-python",
   "name": "python",
   "nbconvert_exporter": "python",
   "pygments_lexer": "ipython3",
   "version": "3.7.6"
  }
 },
 "nbformat": 4,
 "nbformat_minor": 2
}
